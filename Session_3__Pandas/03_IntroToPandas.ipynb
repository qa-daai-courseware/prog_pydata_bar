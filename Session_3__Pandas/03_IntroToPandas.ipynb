{
 "cells": [
  {
   "cell_type": "markdown",
   "id": "defb16c8-418e-4b1b-80b0-df58de2daf5e",
   "metadata": {
    "jp-MarkdownHeadingCollapsed": true,
    "tags": []
   },
   "source": [
    "## Data, Analytics &amp; AI \n",
    "# <font color=indigo> Pandas </font>\n",
    "\n",
    "\n",
    "---\n",
    "\n",
    "<small>QA Ltd. owns the copyright and other intellectual property rights of this material and asserts its moral rights as the author. All rights reserved.</small>"
   ]
  },
  {
   "cell_type": "markdown",
   "id": "e99eb076-a80b-4e23-89aa-b2ac6992026b",
   "metadata": {
    "slideshow": {
     "slide_type": "slide"
    },
    "tags": []
   },
   "source": [
    "# Part 1: Introduction to Pandas"
   ]
  },
  {
   "cell_type": "markdown",
   "id": "a984293d-0e0c-4e84-9cbd-d9e25c2497ac",
   "metadata": {
    "slideshow": {
     "slide_type": "slide"
    }
   },
   "source": [
    "## What is Pandas for?"
   ]
  },
  {
   "cell_type": "markdown",
   "id": "84cd5cf4-5dec-4373-841a-f9f669937e29",
   "metadata": {
    "slideshow": {
     "slide_type": "fragment"
    }
   },
   "source": [
    "Pandas uses fast FORTRAN and C code to **provide table-like querying and processing in python**. "
   ]
  },
  {
   "cell_type": "markdown",
   "id": "9371ae24-17f3-465d-9b61-1729db4bfeb5",
   "metadata": {
    "slideshow": {
     "slide_type": "skip"
    }
   },
   "source": [
    "Pandas is a **fast, powerful, flexible** and easy to use open source **data analysis and manipulation tool**.\n",
    "\n",
    "ref: https://pandas.pydata.org/"
   ]
  },
  {
   "cell_type": "markdown",
   "id": "53303e2f-460b-4fea-8978-c78221c6770f",
   "metadata": {
    "slideshow": {
     "slide_type": "slide"
    }
   },
   "source": [
    "## When should I use pandas (vs., spark, dask, etc.)?"
   ]
  },
  {
   "cell_type": "markdown",
   "id": "f0fe40e1-14aa-464d-b423-7e0f6cf47d94",
   "metadata": {
    "slideshow": {
     "slide_type": "fragment"
    }
   },
   "source": [
    "Pandas is for single-machine exploratory data investigation (& analytical processing). It is useful and performant when dealing with medium-sized datasets (ie., < RAM-of-Machine). "
   ]
  },
  {
   "cell_type": "markdown",
   "id": "dcabf282-5ffd-473b-b44b-7282c73c5d8b",
   "metadata": {
    "slideshow": {
     "slide_type": "-"
    }
   },
   "source": [
    "Spark (and distributed libraries) is for programmatic data manipulation (eg., data engineering pipelines) and analytical investigation \"at large scale\". "
   ]
  },
  {
   "cell_type": "markdown",
   "id": "5736a8f4-8ae0-44c8-8128-935e7442320f",
   "metadata": {
    "slideshow": {
     "slide_type": "-"
    }
   },
   "source": [
    "Even if you have a spark install, it is typically best to use pandas for the exploratory phase; and move to spark when requiring the relevant queries to run over massive datasets."
   ]
  },
  {
   "cell_type": "markdown",
   "id": "b6b6ba32-80e0-4999-a71d-3c86c63c5845",
   "metadata": {},
   "source": [
    "## How should I quickly explore data?"
   ]
  },
  {
   "cell_type": "markdown",
   "id": "1d4f322c-d94d-4154-9519-ff632531f005",
   "metadata": {},
   "source": [
    "If you have a big distributed system (eg., spark) -- or a massive amount of data -- you can get very far by taking a smaller random sample and working with this sample on a single machine. \n",
    "\n",
    "Eg., 2 TB dataset in spark -> sample 1 GB of rows at random -> csv file\n",
    "\n",
    "Then just work with the csv file, until you've produced your analysis, then run on all data."
   ]
  },
  {
   "cell_type": "markdown",
   "id": "925bb616-324c-4f9b-98ec-ba761ee07298",
   "metadata": {
    "slideshow": {
     "slide_type": "slide"
    }
   },
   "source": [
    "## How do I import Pandas?"
   ]
  },
  {
   "cell_type": "code",
   "execution_count": 1,
   "id": "8f4590ad-ee7d-4f41-8680-c6c154a2b32b",
   "metadata": {
    "slideshow": {
     "slide_type": "fragment"
    }
   },
   "outputs": [],
   "source": [
    "import pandas as pd"
   ]
  },
  {
   "cell_type": "markdown",
   "id": "704da2e9-fb5d-49c5-9176-18a545b1304c",
   "metadata": {},
   "source": [
    "...in python, most data analysis libraries are imported and **renamed to enable abbreviated code**...."
   ]
  },
  {
   "cell_type": "markdown",
   "id": "a1f10bd1-c63d-4d2f-99a8-8e90a68f0b7e",
   "metadata": {
    "slideshow": {
     "slide_type": "slide"
    },
    "tags": []
   },
   "source": [
    "## How does pandas provide SQL-like operations in python?"
   ]
  },
  {
   "cell_type": "markdown",
   "id": "671beec3-c3b6-47d2-af2f-a1d90ad6e471",
   "metadata": {},
   "source": [
    "##### Aside: this code obtains the titanic csv for this notebook"
   ]
  },
  {
   "cell_type": "code",
   "execution_count": 2,
   "id": "2b167dda-6cbd-42a8-9e7f-20f275b4c4b4",
   "metadata": {},
   "outputs": [],
   "source": [
    "from pathlib import Path\n",
    "import seaborn as sns\n",
    "\n",
    "if not Path('datasets/titanic.csv').exists():\n",
    "    print(\"please place the titanic csv in the datasets folder\")\n",
    "    sns.load_dataset('titanic').to_csv('titanic.csv', index=False)"
   ]
  },
  {
   "cell_type": "markdown",
   "id": "669282e3-9cb0-4a20-8db8-3446cfdec896",
   "metadata": {
    "slideshow": {
     "slide_type": "fragment"
    }
   },
   "source": [
    "(demo)"
   ]
  },
  {
   "cell_type": "code",
   "execution_count": 3,
   "id": "299d012c-5ce6-40ce-a818-e622e0ecb355",
   "metadata": {
    "slideshow": {
     "slide_type": "-"
    }
   },
   "outputs": [
    {
     "data": {
      "text/html": [
       "<div>\n",
       "<style scoped>\n",
       "    .dataframe tbody tr th:only-of-type {\n",
       "        vertical-align: middle;\n",
       "    }\n",
       "\n",
       "    .dataframe tbody tr th {\n",
       "        vertical-align: top;\n",
       "    }\n",
       "\n",
       "    .dataframe thead th {\n",
       "        text-align: right;\n",
       "    }\n",
       "</style>\n",
       "<table border=\"1\" class=\"dataframe\">\n",
       "  <thead>\n",
       "    <tr style=\"text-align: right;\">\n",
       "      <th></th>\n",
       "      <th>survived</th>\n",
       "      <th>pclass</th>\n",
       "      <th>sex</th>\n",
       "      <th>age</th>\n",
       "      <th>sibsp</th>\n",
       "      <th>parch</th>\n",
       "      <th>fare</th>\n",
       "      <th>embarked</th>\n",
       "      <th>class</th>\n",
       "      <th>who</th>\n",
       "      <th>adult_male</th>\n",
       "      <th>deck</th>\n",
       "      <th>embark_town</th>\n",
       "      <th>alive</th>\n",
       "      <th>alone</th>\n",
       "    </tr>\n",
       "  </thead>\n",
       "  <tbody>\n",
       "    <tr>\n",
       "      <th>0</th>\n",
       "      <td>0</td>\n",
       "      <td>3</td>\n",
       "      <td>male</td>\n",
       "      <td>22.0</td>\n",
       "      <td>1</td>\n",
       "      <td>0</td>\n",
       "      <td>7.2500</td>\n",
       "      <td>S</td>\n",
       "      <td>Third</td>\n",
       "      <td>man</td>\n",
       "      <td>True</td>\n",
       "      <td>NaN</td>\n",
       "      <td>Southampton</td>\n",
       "      <td>no</td>\n",
       "      <td>False</td>\n",
       "    </tr>\n",
       "    <tr>\n",
       "      <th>1</th>\n",
       "      <td>1</td>\n",
       "      <td>1</td>\n",
       "      <td>female</td>\n",
       "      <td>38.0</td>\n",
       "      <td>1</td>\n",
       "      <td>0</td>\n",
       "      <td>71.2833</td>\n",
       "      <td>C</td>\n",
       "      <td>First</td>\n",
       "      <td>woman</td>\n",
       "      <td>False</td>\n",
       "      <td>C</td>\n",
       "      <td>Cherbourg</td>\n",
       "      <td>yes</td>\n",
       "      <td>False</td>\n",
       "    </tr>\n",
       "    <tr>\n",
       "      <th>2</th>\n",
       "      <td>1</td>\n",
       "      <td>3</td>\n",
       "      <td>female</td>\n",
       "      <td>26.0</td>\n",
       "      <td>0</td>\n",
       "      <td>0</td>\n",
       "      <td>7.9250</td>\n",
       "      <td>S</td>\n",
       "      <td>Third</td>\n",
       "      <td>woman</td>\n",
       "      <td>False</td>\n",
       "      <td>NaN</td>\n",
       "      <td>Southampton</td>\n",
       "      <td>yes</td>\n",
       "      <td>True</td>\n",
       "    </tr>\n",
       "    <tr>\n",
       "      <th>3</th>\n",
       "      <td>1</td>\n",
       "      <td>1</td>\n",
       "      <td>female</td>\n",
       "      <td>35.0</td>\n",
       "      <td>1</td>\n",
       "      <td>0</td>\n",
       "      <td>53.1000</td>\n",
       "      <td>S</td>\n",
       "      <td>First</td>\n",
       "      <td>woman</td>\n",
       "      <td>False</td>\n",
       "      <td>C</td>\n",
       "      <td>Southampton</td>\n",
       "      <td>yes</td>\n",
       "      <td>False</td>\n",
       "    </tr>\n",
       "    <tr>\n",
       "      <th>4</th>\n",
       "      <td>0</td>\n",
       "      <td>3</td>\n",
       "      <td>male</td>\n",
       "      <td>35.0</td>\n",
       "      <td>0</td>\n",
       "      <td>0</td>\n",
       "      <td>8.0500</td>\n",
       "      <td>S</td>\n",
       "      <td>Third</td>\n",
       "      <td>man</td>\n",
       "      <td>True</td>\n",
       "      <td>NaN</td>\n",
       "      <td>Southampton</td>\n",
       "      <td>no</td>\n",
       "      <td>True</td>\n",
       "    </tr>\n",
       "    <tr>\n",
       "      <th>...</th>\n",
       "      <td>...</td>\n",
       "      <td>...</td>\n",
       "      <td>...</td>\n",
       "      <td>...</td>\n",
       "      <td>...</td>\n",
       "      <td>...</td>\n",
       "      <td>...</td>\n",
       "      <td>...</td>\n",
       "      <td>...</td>\n",
       "      <td>...</td>\n",
       "      <td>...</td>\n",
       "      <td>...</td>\n",
       "      <td>...</td>\n",
       "      <td>...</td>\n",
       "      <td>...</td>\n",
       "    </tr>\n",
       "    <tr>\n",
       "      <th>886</th>\n",
       "      <td>0</td>\n",
       "      <td>2</td>\n",
       "      <td>male</td>\n",
       "      <td>27.0</td>\n",
       "      <td>0</td>\n",
       "      <td>0</td>\n",
       "      <td>13.0000</td>\n",
       "      <td>S</td>\n",
       "      <td>Second</td>\n",
       "      <td>man</td>\n",
       "      <td>True</td>\n",
       "      <td>NaN</td>\n",
       "      <td>Southampton</td>\n",
       "      <td>no</td>\n",
       "      <td>True</td>\n",
       "    </tr>\n",
       "    <tr>\n",
       "      <th>887</th>\n",
       "      <td>1</td>\n",
       "      <td>1</td>\n",
       "      <td>female</td>\n",
       "      <td>19.0</td>\n",
       "      <td>0</td>\n",
       "      <td>0</td>\n",
       "      <td>30.0000</td>\n",
       "      <td>S</td>\n",
       "      <td>First</td>\n",
       "      <td>woman</td>\n",
       "      <td>False</td>\n",
       "      <td>B</td>\n",
       "      <td>Southampton</td>\n",
       "      <td>yes</td>\n",
       "      <td>True</td>\n",
       "    </tr>\n",
       "    <tr>\n",
       "      <th>888</th>\n",
       "      <td>0</td>\n",
       "      <td>3</td>\n",
       "      <td>female</td>\n",
       "      <td>NaN</td>\n",
       "      <td>1</td>\n",
       "      <td>2</td>\n",
       "      <td>23.4500</td>\n",
       "      <td>S</td>\n",
       "      <td>Third</td>\n",
       "      <td>woman</td>\n",
       "      <td>False</td>\n",
       "      <td>NaN</td>\n",
       "      <td>Southampton</td>\n",
       "      <td>no</td>\n",
       "      <td>False</td>\n",
       "    </tr>\n",
       "    <tr>\n",
       "      <th>889</th>\n",
       "      <td>1</td>\n",
       "      <td>1</td>\n",
       "      <td>male</td>\n",
       "      <td>26.0</td>\n",
       "      <td>0</td>\n",
       "      <td>0</td>\n",
       "      <td>30.0000</td>\n",
       "      <td>C</td>\n",
       "      <td>First</td>\n",
       "      <td>man</td>\n",
       "      <td>True</td>\n",
       "      <td>C</td>\n",
       "      <td>Cherbourg</td>\n",
       "      <td>yes</td>\n",
       "      <td>True</td>\n",
       "    </tr>\n",
       "    <tr>\n",
       "      <th>890</th>\n",
       "      <td>0</td>\n",
       "      <td>3</td>\n",
       "      <td>male</td>\n",
       "      <td>32.0</td>\n",
       "      <td>0</td>\n",
       "      <td>0</td>\n",
       "      <td>7.7500</td>\n",
       "      <td>Q</td>\n",
       "      <td>Third</td>\n",
       "      <td>man</td>\n",
       "      <td>True</td>\n",
       "      <td>NaN</td>\n",
       "      <td>Queenstown</td>\n",
       "      <td>no</td>\n",
       "      <td>True</td>\n",
       "    </tr>\n",
       "  </tbody>\n",
       "</table>\n",
       "<p>891 rows × 15 columns</p>\n",
       "</div>"
      ],
      "text/plain": [
       "     survived  pclass     sex   age  sibsp  parch     fare embarked   class  \\\n",
       "0           0       3    male  22.0      1      0   7.2500        S   Third   \n",
       "1           1       1  female  38.0      1      0  71.2833        C   First   \n",
       "2           1       3  female  26.0      0      0   7.9250        S   Third   \n",
       "3           1       1  female  35.0      1      0  53.1000        S   First   \n",
       "4           0       3    male  35.0      0      0   8.0500        S   Third   \n",
       "..        ...     ...     ...   ...    ...    ...      ...      ...     ...   \n",
       "886         0       2    male  27.0      0      0  13.0000        S  Second   \n",
       "887         1       1  female  19.0      0      0  30.0000        S   First   \n",
       "888         0       3  female   NaN      1      2  23.4500        S   Third   \n",
       "889         1       1    male  26.0      0      0  30.0000        C   First   \n",
       "890         0       3    male  32.0      0      0   7.7500        Q   Third   \n",
       "\n",
       "       who  adult_male deck  embark_town alive  alone  \n",
       "0      man        True  NaN  Southampton    no  False  \n",
       "1    woman       False    C    Cherbourg   yes  False  \n",
       "2    woman       False  NaN  Southampton   yes   True  \n",
       "3    woman       False    C  Southampton   yes  False  \n",
       "4      man        True  NaN  Southampton    no   True  \n",
       "..     ...         ...  ...          ...   ...    ...  \n",
       "886    man        True  NaN  Southampton    no   True  \n",
       "887  woman       False    B  Southampton   yes   True  \n",
       "888  woman       False  NaN  Southampton    no  False  \n",
       "889    man        True    C    Cherbourg   yes   True  \n",
       "890    man        True  NaN   Queenstown    no   True  \n",
       "\n",
       "[891 rows x 15 columns]"
      ]
     },
     "execution_count": 3,
     "metadata": {},
     "output_type": "execute_result"
    }
   ],
   "source": [
    "ti = pd.read_csv('datasets/titanic.csv')\n",
    "ti"
   ]
  },
  {
   "cell_type": "markdown",
   "id": "f0776967-7cfc-45f0-ba80-a2ecea90ff7a",
   "metadata": {},
   "source": [
    "* `SELECT mean(survived), class FROM df GROUP BY class`\n",
    "* Give me the rates of survival, on the titanic, by class:"
   ]
  },
  {
   "cell_type": "code",
   "execution_count": 4,
   "id": "efc06aa3-ac8b-4f72-8a85-aaaa6396b17d",
   "metadata": {
    "slideshow": {
     "slide_type": "slide"
    }
   },
   "outputs": [
    {
     "data": {
      "text/plain": [
       "class\n",
       "First     0.629630\n",
       "Second    0.472826\n",
       "Third     0.242363\n",
       "Name: survived, dtype: float64"
      ]
     },
     "execution_count": 4,
     "metadata": {},
     "output_type": "execute_result"
    }
   ],
   "source": [
    "ti['survived'].groupby(ti['class']).mean()\n"
   ]
  },
  {
   "cell_type": "markdown",
   "id": "56eef4ac-56cc-44bb-b2a6-2251195c16e2",
   "metadata": {},
   "source": [
    "...this is just to provide a sense of the capabilities of pandas..."
   ]
  },
  {
   "cell_type": "markdown",
   "id": "34a906d4-8bf0-4a4e-8b67-f50541f024d2",
   "metadata": {
    "slideshow": {
     "slide_type": "slide"
    }
   },
   "source": [
    "## Aside: What data structure does Pandas provide?"
   ]
  },
  {
   "cell_type": "markdown",
   "id": "5b8b9b59-a22d-4170-8251-eaafe6877a58",
   "metadata": {
    "slideshow": {
     "slide_type": "fragment"
    }
   },
   "source": [
    "Pandas provides a *dataframe* which is a table, *stored*, in column-order.\n",
    "\n",
    "Relational databases store data in row-order:"
   ]
  },
  {
   "cell_type": "code",
   "execution_count": 5,
   "id": "00c41a3f-9366-4238-a4a9-8e88946bd14f",
   "metadata": {
    "slideshow": {
     "slide_type": "-"
    }
   },
   "outputs": [],
   "source": [
    "#      (ID, Age, Name), ...\n",
    "db = [(1, 18, \"Michael\"), (2, 28, \"Lucie\"), (3, 30, \"Chris\")]\n"
   ]
  },
  {
   "cell_type": "markdown",
   "id": "83886967-482c-4a6f-86ec-aea391413074",
   "metadata": {
    "slideshow": {
     "slide_type": "fragment"
    }
   },
   "source": [
    "In software and data engineering application you typically want a subset of rows: "
   ]
  },
  {
   "cell_type": "code",
   "execution_count": 6,
   "id": "f54fdd2a-6352-40c8-9953-35a3140ffa66",
   "metadata": {
    "slideshow": {
     "slide_type": "-"
    }
   },
   "outputs": [
    {
     "data": {
      "text/plain": [
       "[(1, 18, 'Michael'), (2, 28, 'Lucie')]"
      ]
     },
     "execution_count": 6,
     "metadata": {},
     "output_type": "execute_result"
    }
   ],
   "source": [
    "db[0:2] # the first two rows\n"
   ]
  },
  {
   "cell_type": "markdown",
   "id": "d19697cd-1b87-4b08-9fa9-f4310bc77b09",
   "metadata": {},
   "source": [
    "In typical applications which use relational databases, tables have $<20$ columns; and we are typically including all columns and filtering on rows."
   ]
  },
  {
   "cell_type": "markdown",
   "id": "c3983392-e0bf-4104-834b-9bf48ce4b239",
   "metadata": {
    "slideshow": {
     "slide_type": "slide"
    }
   },
   "source": [
    "In analytical applications, you may have $>>20$ columns, and  you will often want subsets of them:"
   ]
  },
  {
   "cell_type": "code",
   "execution_count": 7,
   "id": "6b08cb11-a4b9-4705-921b-f1faba68616e",
   "metadata": {
    "slideshow": {
     "slide_type": "-"
    }
   },
   "outputs": [],
   "source": [
    "#      ID         Age            Name\n",
    "df = [(1, 2, 3), (18, 28, 30), (\"Michael\", \"Lucie\", \"Chris\")]\n"
   ]
  },
  {
   "cell_type": "markdown",
   "id": "de71e8fb-632f-4ebf-8e25-1a9bda70fd57",
   "metadata": {},
   "source": [
    "The last two columns:"
   ]
  },
  {
   "cell_type": "code",
   "execution_count": 8,
   "id": "512b3e2f-0296-472c-a673-b79305baab1d",
   "metadata": {
    "slideshow": {
     "slide_type": "-"
    }
   },
   "outputs": [
    {
     "data": {
      "text/plain": [
       "[(18, 28, 30), ('Michael', 'Lucie', 'Chris')]"
      ]
     },
     "execution_count": 8,
     "metadata": {},
     "output_type": "execute_result"
    }
   ],
   "source": [
    "df[-2:]\n"
   ]
  },
  {
   "cell_type": "markdown",
   "id": "0a65c0dc-6e95-4c69-9af9-32722547a7f9",
   "metadata": {
    "slideshow": {
     "slide_type": "slide"
    }
   },
   "source": [
    "## Reading from a Database"
   ]
  },
  {
   "cell_type": "markdown",
   "id": "c63e70ec-7bfb-45cf-91a9-01e38994d0cb",
   "metadata": {},
   "source": [
    "Pandas can import data from a relational database:"
   ]
  },
  {
   "cell_type": "markdown",
   "id": "f91d6ec4-9423-4c23-986d-e1326bfff5f6",
   "metadata": {},
   "source": [
    "##### Aside: this code saves the titanic csv in a relational database, for illustration"
   ]
  },
  {
   "cell_type": "code",
   "execution_count": 9,
   "id": "66e4db9e-e4d3-4abe-b357-3149066e9537",
   "metadata": {},
   "outputs": [],
   "source": [
    "from pathlib import Path\n",
    "import pandas as pd\n",
    "import sqlite3\n",
    "\n",
    "if not Path('titanic.db').exists():\n",
    "    with sqlite3.connect('titanic.db') as db:\n",
    "        pd.read_csv('datasets/titanic.csv').to_sql('titanic', db, index=False)"
   ]
  },
  {
   "cell_type": "markdown",
   "id": "fd78786d-4624-4445-92d1-90c689df426d",
   "metadata": {},
   "source": [
    "If we have a relational databases, eg., `titanic.db`, then below we can load directly into pandas, "
   ]
  },
  {
   "cell_type": "code",
   "execution_count": 10,
   "id": "e001e8ed-6dd4-4895-9a27-e79acad97072",
   "metadata": {
    "scrolled": true,
    "slideshow": {
     "slide_type": "fragment"
    }
   },
   "outputs": [
    {
     "data": {
      "text/html": [
       "<div>\n",
       "<style scoped>\n",
       "    .dataframe tbody tr th:only-of-type {\n",
       "        vertical-align: middle;\n",
       "    }\n",
       "\n",
       "    .dataframe tbody tr th {\n",
       "        vertical-align: top;\n",
       "    }\n",
       "\n",
       "    .dataframe thead th {\n",
       "        text-align: right;\n",
       "    }\n",
       "</style>\n",
       "<table border=\"1\" class=\"dataframe\">\n",
       "  <thead>\n",
       "    <tr style=\"text-align: right;\">\n",
       "      <th></th>\n",
       "      <th>survived</th>\n",
       "      <th>pclass</th>\n",
       "      <th>sex</th>\n",
       "      <th>age</th>\n",
       "      <th>sibsp</th>\n",
       "      <th>parch</th>\n",
       "      <th>fare</th>\n",
       "      <th>embarked</th>\n",
       "      <th>class</th>\n",
       "      <th>who</th>\n",
       "      <th>adult_male</th>\n",
       "      <th>deck</th>\n",
       "      <th>embark_town</th>\n",
       "      <th>alive</th>\n",
       "      <th>alone</th>\n",
       "    </tr>\n",
       "  </thead>\n",
       "  <tbody>\n",
       "    <tr>\n",
       "      <th>0</th>\n",
       "      <td>1</td>\n",
       "      <td>3</td>\n",
       "      <td>male</td>\n",
       "      <td>45.0</td>\n",
       "      <td>0</td>\n",
       "      <td>0</td>\n",
       "      <td>8.0500</td>\n",
       "      <td>S</td>\n",
       "      <td>Third</td>\n",
       "      <td>man</td>\n",
       "      <td>1</td>\n",
       "      <td>None</td>\n",
       "      <td>Southampton</td>\n",
       "      <td>yes</td>\n",
       "      <td>1</td>\n",
       "    </tr>\n",
       "    <tr>\n",
       "      <th>1</th>\n",
       "      <td>1</td>\n",
       "      <td>3</td>\n",
       "      <td>male</td>\n",
       "      <td>44.0</td>\n",
       "      <td>0</td>\n",
       "      <td>0</td>\n",
       "      <td>7.9250</td>\n",
       "      <td>S</td>\n",
       "      <td>Third</td>\n",
       "      <td>man</td>\n",
       "      <td>1</td>\n",
       "      <td>None</td>\n",
       "      <td>Southampton</td>\n",
       "      <td>yes</td>\n",
       "      <td>1</td>\n",
       "    </tr>\n",
       "    <tr>\n",
       "      <th>2</th>\n",
       "      <td>1</td>\n",
       "      <td>3</td>\n",
       "      <td>female</td>\n",
       "      <td>63.0</td>\n",
       "      <td>0</td>\n",
       "      <td>0</td>\n",
       "      <td>9.5875</td>\n",
       "      <td>S</td>\n",
       "      <td>Third</td>\n",
       "      <td>woman</td>\n",
       "      <td>0</td>\n",
       "      <td>None</td>\n",
       "      <td>Southampton</td>\n",
       "      <td>yes</td>\n",
       "      <td>1</td>\n",
       "    </tr>\n",
       "  </tbody>\n",
       "</table>\n",
       "</div>"
      ],
      "text/plain": [
       "   survived  pclass     sex   age  sibsp  parch    fare embarked  class  \\\n",
       "0         1       3    male  45.0      0      0  8.0500        S  Third   \n",
       "1         1       3    male  44.0      0      0  7.9250        S  Third   \n",
       "2         1       3  female  63.0      0      0  9.5875        S  Third   \n",
       "\n",
       "     who  adult_male  deck  embark_town alive  alone  \n",
       "0    man           1  None  Southampton   yes      1  \n",
       "1    man           1  None  Southampton   yes      1  \n",
       "2  woman           0  None  Southampton   yes      1  "
      ]
     },
     "execution_count": 10,
     "metadata": {},
     "output_type": "execute_result"
    }
   ],
   "source": [
    "db = sqlite3.connect(\"titanic.db\")\n",
    "\n",
    "pd.read_sql_query(\"\"\"\n",
    "    SELECT * \n",
    "    FROM titanic\n",
    "    WHERE age >= 40 AND survived = 1 AND class = \"Third\"\n",
    "    \n",
    "\"\"\", db)"
   ]
  },
  {
   "cell_type": "markdown",
   "id": "a07679ad-2b45-4c50-bff6-c718a6b512ad",
   "metadata": {},
   "source": [
    "# Part 2: Using Pandas"
   ]
  },
  {
   "cell_type": "markdown",
   "id": "621c0cad-7fc5-4826-a52a-1088a08f167b",
   "metadata": {
    "slideshow": {
     "slide_type": "slide"
    }
   },
   "source": [
    "## How do I show a sample of rows?"
   ]
  },
  {
   "cell_type": "markdown",
   "id": "b45cf3ad-0eb1-474b-a192-c9c5368648ea",
   "metadata": {},
   "source": [
    "A random sample of rows:"
   ]
  },
  {
   "cell_type": "code",
   "execution_count": 11,
   "id": "3cc6f7cd-54f9-404c-add1-2d86e80e48a5",
   "metadata": {
    "slideshow": {
     "slide_type": "fragment"
    }
   },
   "outputs": [
    {
     "data": {
      "text/html": [
       "<div>\n",
       "<style scoped>\n",
       "    .dataframe tbody tr th:only-of-type {\n",
       "        vertical-align: middle;\n",
       "    }\n",
       "\n",
       "    .dataframe tbody tr th {\n",
       "        vertical-align: top;\n",
       "    }\n",
       "\n",
       "    .dataframe thead th {\n",
       "        text-align: right;\n",
       "    }\n",
       "</style>\n",
       "<table border=\"1\" class=\"dataframe\">\n",
       "  <thead>\n",
       "    <tr style=\"text-align: right;\">\n",
       "      <th></th>\n",
       "      <th>survived</th>\n",
       "      <th>pclass</th>\n",
       "      <th>sex</th>\n",
       "      <th>age</th>\n",
       "      <th>sibsp</th>\n",
       "      <th>parch</th>\n",
       "      <th>fare</th>\n",
       "      <th>embarked</th>\n",
       "      <th>class</th>\n",
       "      <th>who</th>\n",
       "      <th>adult_male</th>\n",
       "      <th>deck</th>\n",
       "      <th>embark_town</th>\n",
       "      <th>alive</th>\n",
       "      <th>alone</th>\n",
       "    </tr>\n",
       "  </thead>\n",
       "  <tbody>\n",
       "    <tr>\n",
       "      <th>97</th>\n",
       "      <td>1</td>\n",
       "      <td>1</td>\n",
       "      <td>male</td>\n",
       "      <td>23.0</td>\n",
       "      <td>0</td>\n",
       "      <td>1</td>\n",
       "      <td>63.3583</td>\n",
       "      <td>C</td>\n",
       "      <td>First</td>\n",
       "      <td>man</td>\n",
       "      <td>True</td>\n",
       "      <td>D</td>\n",
       "      <td>Cherbourg</td>\n",
       "      <td>yes</td>\n",
       "      <td>False</td>\n",
       "    </tr>\n",
       "    <tr>\n",
       "      <th>483</th>\n",
       "      <td>1</td>\n",
       "      <td>3</td>\n",
       "      <td>female</td>\n",
       "      <td>63.0</td>\n",
       "      <td>0</td>\n",
       "      <td>0</td>\n",
       "      <td>9.5875</td>\n",
       "      <td>S</td>\n",
       "      <td>Third</td>\n",
       "      <td>woman</td>\n",
       "      <td>False</td>\n",
       "      <td>NaN</td>\n",
       "      <td>Southampton</td>\n",
       "      <td>yes</td>\n",
       "      <td>True</td>\n",
       "    </tr>\n",
       "    <tr>\n",
       "      <th>410</th>\n",
       "      <td>0</td>\n",
       "      <td>3</td>\n",
       "      <td>male</td>\n",
       "      <td>NaN</td>\n",
       "      <td>0</td>\n",
       "      <td>0</td>\n",
       "      <td>7.8958</td>\n",
       "      <td>S</td>\n",
       "      <td>Third</td>\n",
       "      <td>man</td>\n",
       "      <td>True</td>\n",
       "      <td>NaN</td>\n",
       "      <td>Southampton</td>\n",
       "      <td>no</td>\n",
       "      <td>True</td>\n",
       "    </tr>\n",
       "  </tbody>\n",
       "</table>\n",
       "</div>"
      ],
      "text/plain": [
       "     survived  pclass     sex   age  sibsp  parch     fare embarked  class  \\\n",
       "97          1       1    male  23.0      0      1  63.3583        C  First   \n",
       "483         1       3  female  63.0      0      0   9.5875        S  Third   \n",
       "410         0       3    male   NaN      0      0   7.8958        S  Third   \n",
       "\n",
       "       who  adult_male deck  embark_town alive  alone  \n",
       "97     man        True    D    Cherbourg   yes  False  \n",
       "483  woman       False  NaN  Southampton   yes   True  \n",
       "410    man        True  NaN  Southampton    no   True  "
      ]
     },
     "execution_count": 11,
     "metadata": {},
     "output_type": "execute_result"
    }
   ],
   "source": [
    "ti.sample(3) # 3 random rows\n"
   ]
  },
  {
   "cell_type": "markdown",
   "id": "55353b29-c6ff-4487-9d42-1a33b7a7c44a",
   "metadata": {},
   "source": [
    "Head provides the first `n`:"
   ]
  },
  {
   "cell_type": "code",
   "execution_count": 12,
   "id": "c615bdeb-41b9-4dc3-8f23-31b358cfe2d2",
   "metadata": {
    "scrolled": true,
    "slideshow": {
     "slide_type": "fragment"
    }
   },
   "outputs": [
    {
     "data": {
      "text/html": [
       "<div>\n",
       "<style scoped>\n",
       "    .dataframe tbody tr th:only-of-type {\n",
       "        vertical-align: middle;\n",
       "    }\n",
       "\n",
       "    .dataframe tbody tr th {\n",
       "        vertical-align: top;\n",
       "    }\n",
       "\n",
       "    .dataframe thead th {\n",
       "        text-align: right;\n",
       "    }\n",
       "</style>\n",
       "<table border=\"1\" class=\"dataframe\">\n",
       "  <thead>\n",
       "    <tr style=\"text-align: right;\">\n",
       "      <th></th>\n",
       "      <th>survived</th>\n",
       "      <th>pclass</th>\n",
       "      <th>sex</th>\n",
       "      <th>age</th>\n",
       "      <th>sibsp</th>\n",
       "      <th>parch</th>\n",
       "      <th>fare</th>\n",
       "      <th>embarked</th>\n",
       "      <th>class</th>\n",
       "      <th>who</th>\n",
       "      <th>adult_male</th>\n",
       "      <th>deck</th>\n",
       "      <th>embark_town</th>\n",
       "      <th>alive</th>\n",
       "      <th>alone</th>\n",
       "    </tr>\n",
       "  </thead>\n",
       "  <tbody>\n",
       "    <tr>\n",
       "      <th>0</th>\n",
       "      <td>0</td>\n",
       "      <td>3</td>\n",
       "      <td>male</td>\n",
       "      <td>22.0</td>\n",
       "      <td>1</td>\n",
       "      <td>0</td>\n",
       "      <td>7.2500</td>\n",
       "      <td>S</td>\n",
       "      <td>Third</td>\n",
       "      <td>man</td>\n",
       "      <td>True</td>\n",
       "      <td>NaN</td>\n",
       "      <td>Southampton</td>\n",
       "      <td>no</td>\n",
       "      <td>False</td>\n",
       "    </tr>\n",
       "    <tr>\n",
       "      <th>1</th>\n",
       "      <td>1</td>\n",
       "      <td>1</td>\n",
       "      <td>female</td>\n",
       "      <td>38.0</td>\n",
       "      <td>1</td>\n",
       "      <td>0</td>\n",
       "      <td>71.2833</td>\n",
       "      <td>C</td>\n",
       "      <td>First</td>\n",
       "      <td>woman</td>\n",
       "      <td>False</td>\n",
       "      <td>C</td>\n",
       "      <td>Cherbourg</td>\n",
       "      <td>yes</td>\n",
       "      <td>False</td>\n",
       "    </tr>\n",
       "    <tr>\n",
       "      <th>2</th>\n",
       "      <td>1</td>\n",
       "      <td>3</td>\n",
       "      <td>female</td>\n",
       "      <td>26.0</td>\n",
       "      <td>0</td>\n",
       "      <td>0</td>\n",
       "      <td>7.9250</td>\n",
       "      <td>S</td>\n",
       "      <td>Third</td>\n",
       "      <td>woman</td>\n",
       "      <td>False</td>\n",
       "      <td>NaN</td>\n",
       "      <td>Southampton</td>\n",
       "      <td>yes</td>\n",
       "      <td>True</td>\n",
       "    </tr>\n",
       "  </tbody>\n",
       "</table>\n",
       "</div>"
      ],
      "text/plain": [
       "   survived  pclass     sex   age  sibsp  parch     fare embarked  class  \\\n",
       "0         0       3    male  22.0      1      0   7.2500        S  Third   \n",
       "1         1       1  female  38.0      1      0  71.2833        C  First   \n",
       "2         1       3  female  26.0      0      0   7.9250        S  Third   \n",
       "\n",
       "     who  adult_male deck  embark_town alive  alone  \n",
       "0    man        True  NaN  Southampton    no  False  \n",
       "1  woman       False    C    Cherbourg   yes  False  \n",
       "2  woman       False  NaN  Southampton   yes   True  "
      ]
     },
     "execution_count": 12,
     "metadata": {},
     "output_type": "execute_result"
    }
   ],
   "source": [
    "ti.head(3) # first 3 rows\n"
   ]
  },
  {
   "cell_type": "markdown",
   "id": "2cfcc5be-ca22-4a0e-a21c-aca0b57d593c",
   "metadata": {
    "slideshow": {
     "slide_type": "slide"
    }
   },
   "source": [
    "## Should I use Sample or  Head for exploration?"
   ]
  },
  {
   "cell_type": "markdown",
   "id": "48543fee-97c3-4af2-81bf-0b4a7fb66bd6",
   "metadata": {
    "slideshow": {
     "slide_type": "fragment"
    }
   },
   "source": [
    "`.sample` provides a random sampling of rows, which is typically much more representative than `.head`\n",
    "\n",
    "Use `.sample` to get a quick insight into what kinds of data a dataset contains. "
   ]
  },
  {
   "cell_type": "markdown",
   "id": "7d8cd731-f152-40ac-8374-3f614c572de4",
   "metadata": {
    "slideshow": {
     "slide_type": "slide"
    }
   },
   "source": [
    "## How do I select columns?"
   ]
  },
  {
   "cell_type": "code",
   "execution_count": 13,
   "id": "6704f174-4b55-4d96-bd9a-c65a8ccb54e3",
   "metadata": {},
   "outputs": [
    {
     "data": {
      "text/plain": [
       "[18, 21, 33, 49]"
      ]
     },
     "execution_count": 13,
     "metadata": {},
     "output_type": "execute_result"
    }
   ],
   "source": [
    "dataset = {\n",
    "    'Age': [18, 21, 33, 49],\n",
    "    'Name': [\"Michael\", \"Alice\", \"Eve\", \"Bob\"]\n",
    "}\n",
    "\n",
    "dataset['Age']"
   ]
  },
  {
   "cell_type": "markdown",
   "id": "acdfb9d1-4d09-4e00-865e-84af8b4a4047",
   "metadata": {
    "slideshow": {
     "slide_type": "fragment"
    }
   },
   "source": [
    "Pandas uses python's indexing syntax, columns are selected by name:"
   ]
  },
  {
   "cell_type": "code",
   "execution_count": 14,
   "id": "de72ab09-9ff0-4dbf-9994-eaeef6926467",
   "metadata": {
    "slideshow": {
     "slide_type": "-"
    }
   },
   "outputs": [
    {
     "data": {
      "text/plain": [
       "0      22.0\n",
       "1      38.0\n",
       "2      26.0\n",
       "3      35.0\n",
       "4      35.0\n",
       "       ... \n",
       "886    27.0\n",
       "887    19.0\n",
       "888     NaN\n",
       "889    26.0\n",
       "890    32.0\n",
       "Name: age, Length: 891, dtype: float64"
      ]
     },
     "execution_count": 14,
     "metadata": {},
     "output_type": "execute_result"
    }
   ],
   "source": [
    "ti['age']\n"
   ]
  },
  {
   "cell_type": "markdown",
   "id": "38d0f1bc-ada4-46cb-836b-2af2e930ac81",
   "metadata": {
    "slideshow": {
     "slide_type": "slide"
    }
   },
   "source": [
    "Unlike in python, you can select mulitple columns using a list of column names:"
   ]
  },
  {
   "cell_type": "code",
   "execution_count": 15,
   "id": "a5c10bcd-d45e-4b2d-9c95-5185dc46fa2a",
   "metadata": {
    "slideshow": {
     "slide_type": "-"
    }
   },
   "outputs": [
    {
     "data": {
      "text/html": [
       "<div>\n",
       "<style scoped>\n",
       "    .dataframe tbody tr th:only-of-type {\n",
       "        vertical-align: middle;\n",
       "    }\n",
       "\n",
       "    .dataframe tbody tr th {\n",
       "        vertical-align: top;\n",
       "    }\n",
       "\n",
       "    .dataframe thead th {\n",
       "        text-align: right;\n",
       "    }\n",
       "</style>\n",
       "<table border=\"1\" class=\"dataframe\">\n",
       "  <thead>\n",
       "    <tr style=\"text-align: right;\">\n",
       "      <th></th>\n",
       "      <th>age</th>\n",
       "      <th>fare</th>\n",
       "    </tr>\n",
       "  </thead>\n",
       "  <tbody>\n",
       "    <tr>\n",
       "      <th>0</th>\n",
       "      <td>22.0</td>\n",
       "      <td>7.2500</td>\n",
       "    </tr>\n",
       "    <tr>\n",
       "      <th>1</th>\n",
       "      <td>38.0</td>\n",
       "      <td>71.2833</td>\n",
       "    </tr>\n",
       "    <tr>\n",
       "      <th>2</th>\n",
       "      <td>26.0</td>\n",
       "      <td>7.9250</td>\n",
       "    </tr>\n",
       "    <tr>\n",
       "      <th>3</th>\n",
       "      <td>35.0</td>\n",
       "      <td>53.1000</td>\n",
       "    </tr>\n",
       "    <tr>\n",
       "      <th>4</th>\n",
       "      <td>35.0</td>\n",
       "      <td>8.0500</td>\n",
       "    </tr>\n",
       "    <tr>\n",
       "      <th>...</th>\n",
       "      <td>...</td>\n",
       "      <td>...</td>\n",
       "    </tr>\n",
       "    <tr>\n",
       "      <th>886</th>\n",
       "      <td>27.0</td>\n",
       "      <td>13.0000</td>\n",
       "    </tr>\n",
       "    <tr>\n",
       "      <th>887</th>\n",
       "      <td>19.0</td>\n",
       "      <td>30.0000</td>\n",
       "    </tr>\n",
       "    <tr>\n",
       "      <th>888</th>\n",
       "      <td>NaN</td>\n",
       "      <td>23.4500</td>\n",
       "    </tr>\n",
       "    <tr>\n",
       "      <th>889</th>\n",
       "      <td>26.0</td>\n",
       "      <td>30.0000</td>\n",
       "    </tr>\n",
       "    <tr>\n",
       "      <th>890</th>\n",
       "      <td>32.0</td>\n",
       "      <td>7.7500</td>\n",
       "    </tr>\n",
       "  </tbody>\n",
       "</table>\n",
       "<p>891 rows × 2 columns</p>\n",
       "</div>"
      ],
      "text/plain": [
       "      age     fare\n",
       "0    22.0   7.2500\n",
       "1    38.0  71.2833\n",
       "2    26.0   7.9250\n",
       "3    35.0  53.1000\n",
       "4    35.0   8.0500\n",
       "..    ...      ...\n",
       "886  27.0  13.0000\n",
       "887  19.0  30.0000\n",
       "888   NaN  23.4500\n",
       "889  26.0  30.0000\n",
       "890  32.0   7.7500\n",
       "\n",
       "[891 rows x 2 columns]"
      ]
     },
     "execution_count": 15,
     "metadata": {},
     "output_type": "execute_result"
    }
   ],
   "source": [
    "ti[ ['age', 'fare'] ] #var[ index ]   <- index = ['age', 'fare']\n"
   ]
  },
  {
   "cell_type": "markdown",
   "id": "db57fb3b-dccc-4c7c-9f64-846f359830f5",
   "metadata": {},
   "source": [
    "...here we use the *list* `['age', 'fare']` as an *index* into `ti`. "
   ]
  },
  {
   "cell_type": "markdown",
   "id": "1cba7326-fb6c-47d8-9b71-b3f81003d7c8",
   "metadata": {
    "slideshow": {
     "slide_type": "slide"
    }
   },
   "source": [
    "You can apply function to these, using standard `.` notation:"
   ]
  },
  {
   "cell_type": "code",
   "execution_count": 16,
   "id": "f92270a6-fceb-4f3b-a5bd-4b7df725d713",
   "metadata": {
    "slideshow": {
     "slide_type": "-"
    }
   },
   "outputs": [
    {
     "data": {
      "text/plain": [
       "age     29.699118\n",
       "fare    32.204208\n",
       "dtype: float64"
      ]
     },
     "execution_count": 16,
     "metadata": {},
     "output_type": "execute_result"
    }
   ],
   "source": [
    "ti[ ['age', 'fare'] ].mean()\n"
   ]
  },
  {
   "cell_type": "markdown",
   "id": "28587482-7262-4f29-a613-d3bbd3e0cb29",
   "metadata": {
    "slideshow": {
     "slide_type": "slide"
    }
   },
   "source": [
    "## Exercise (15 min)\n",
    "\n",
    "* create your own notebook\n",
    "* import pandas\n",
    "* using `.read_csv()` open the `titanic.csv`\n",
    "* show a sample of `6` rows, and show the first `1` row\n",
    "    * HINT: `.sample()`, `.head()`\n",
    "* select:\n",
    "    * the 'embark_town' column, and show a sample of three rows\n",
    "    * the 'alive' column, and show a sample\n",
    "    * both, the 'pclass' and 'age' columns, and show a sample\n",
    "    * try, `.mean()` on the 'fare' column\n",
    "    * try `.value_counts()` on the 'embark_town' column"
   ]
  },
  {
   "cell_type": "markdown",
   "id": "93eb3137-362a-4d70-b75f-1f145b7a1404",
   "metadata": {},
   "source": [
    "# Part 3: Preparing Data in Pandas"
   ]
  },
  {
   "cell_type": "markdown",
   "id": "ebd048a5-0429-4f9b-88c8-0250963afb1c",
   "metadata": {
    "slideshow": {
     "slide_type": "slide"
    }
   },
   "source": [
    "## How do I inspect the data types and columns (ie., schema)?"
   ]
  },
  {
   "cell_type": "markdown",
   "id": "7c408ccf-cb5d-415b-aec7-4627fdfef737",
   "metadata": {},
   "source": [
    "When using a dataframe library (eg., pandas, spark) we are typically converting datasets into dataframes. To do this the library will infer your column data types. "
   ]
  },
  {
   "cell_type": "markdown",
   "id": "edc32f46-9682-42f5-9a04-833660a2f40f",
   "metadata": {
    "slideshow": {
     "slide_type": "fragment"
    }
   },
   "source": [
    "From `.info` we get: \n",
    "* column names\n",
    "* counts\n",
    "* inferred data type\n",
    "    * potential problem: it may not infer the correct type\n",
    "    * eg., below, the `survived` column ought be read `bool`\n",
    "    * sometimes algorithms, eg., with plotting, require columns types to be correct"
   ]
  },
  {
   "cell_type": "code",
   "execution_count": 17,
   "id": "b733e29c-f9f5-4330-9b90-e63762c50773",
   "metadata": {
    "slideshow": {
     "slide_type": "-"
    }
   },
   "outputs": [
    {
     "name": "stdout",
     "output_type": "stream",
     "text": [
      "<class 'pandas.core.frame.DataFrame'>\n",
      "RangeIndex: 891 entries, 0 to 890\n",
      "Data columns (total 15 columns):\n",
      " #   Column       Non-Null Count  Dtype  \n",
      "---  ------       --------------  -----  \n",
      " 0   survived     891 non-null    int64  \n",
      " 1   pclass       891 non-null    int64  \n",
      " 2   sex          891 non-null    object \n",
      " 3   age          714 non-null    float64\n",
      " 4   sibsp        891 non-null    int64  \n",
      " 5   parch        891 non-null    int64  \n",
      " 6   fare         891 non-null    float64\n",
      " 7   embarked     889 non-null    object \n",
      " 8   class        891 non-null    object \n",
      " 9   who          891 non-null    object \n",
      " 10  adult_male   891 non-null    bool   \n",
      " 11  deck         203 non-null    object \n",
      " 12  embark_town  889 non-null    object \n",
      " 13  alive        891 non-null    object \n",
      " 14  alone        891 non-null    bool   \n",
      "dtypes: bool(2), float64(2), int64(4), object(7)\n",
      "memory usage: 92.4+ KB\n"
     ]
    }
   ],
   "source": [
    "ti.info()\n"
   ]
  },
  {
   "cell_type": "markdown",
   "id": "58d60fe9-dba9-4f30-ae7e-f9b53f16ec3a",
   "metadata": {},
   "source": [
    "Here we can see that $891$ is the maximum number of entires any column has, but eg., `age` has fewer -- and so, age has missing data. \n",
    "\n",
    "\n",
    "`object` here means discrete, categorical data that has no \"deeper\" inference made -- treating each value as a separate category. \n",
    "\n",
    "\n",
    "Note above `survived` has been inferred *incorrectly*, it is not an integer (ie., a continuous measurement) but a binary category (ie., `object` or `bool`). \n"
   ]
  },
  {
   "cell_type": "markdown",
   "id": "5afdb34c-e7da-45b1-8135-6d9a441355e7",
   "metadata": {},
   "source": [
    "```\n",
    "#   Column       Non-Null Count  Dtype  \n",
    "---  ------       --------------  -----  \n",
    " 0   survived     891 non-null    int64 \n",
    " \n",
    "col# colname     count()          coltype\n",
    "```"
   ]
  },
  {
   "cell_type": "markdown",
   "id": "83ec4b29-fbc5-466b-a9eb-dfccfd1d88ae",
   "metadata": {},
   "source": [
    "## What problems does misinferred column types cause?"
   ]
  },
  {
   "cell_type": "markdown",
   "id": "c80456d2-6624-46dc-8c04-ce0601de46f1",
   "metadata": {},
   "source": [
    "When a column type is misinferred, it can affect how libraries handle the data. For example, the `plot` feature of a dataframe will use the column type to infer the plot type and how to display the information. \n"
   ]
  },
  {
   "cell_type": "code",
   "execution_count": 18,
   "id": "5a10b56d-a0e7-47d2-8084-ef79e680cf40",
   "metadata": {},
   "outputs": [],
   "source": [
    "ti = pd.read_csv('datasets/titanic.csv')"
   ]
  },
  {
   "cell_type": "code",
   "execution_count": 19,
   "id": "df3c6a56-ccda-4922-afee-59aeae831496",
   "metadata": {},
   "outputs": [
    {
     "data": {
      "text/plain": [
       "<AxesSubplot:xlabel='survived', ylabel='age'>"
      ]
     },
     "execution_count": 19,
     "metadata": {},
     "output_type": "execute_result"
    },
    {
     "data": {
      "image/png": "[encoded data removed]",
      "text/plain": [
       "<Figure size 432x288 with 1 Axes>"
      ]
     },
     "metadata": {
      "needs_background": "light"
     },
     "output_type": "display_data"
    }
   ],
   "source": [
    "ti.plot(kind='scatter', y='age', x='survived')"
   ]
  },
  {
   "cell_type": "markdown",
   "id": "c6a07ed9-da88-4d9d-854b-2203e93237e1",
   "metadata": {},
   "source": [
    "The following code replaces the `survived` column with the `survived` column converted to bool:"
   ]
  },
  {
   "cell_type": "code",
   "execution_count": 20,
   "id": "07fee6eb-57c1-430f-b192-67b03ff47d05",
   "metadata": {},
   "outputs": [],
   "source": [
    "ti['survived'] = ti['survived'].astype(bool)"
   ]
  },
  {
   "cell_type": "code",
   "execution_count": 21,
   "id": "fd30f863-7a77-4f17-afd8-2a045c826980",
   "metadata": {},
   "outputs": [
    {
     "data": {
      "text/plain": [
       "survived          bool\n",
       "pclass           int64\n",
       "sex             object\n",
       "age            float64\n",
       "sibsp            int64\n",
       "parch            int64\n",
       "fare           float64\n",
       "embarked        object\n",
       "class           object\n",
       "who             object\n",
       "adult_male        bool\n",
       "deck            object\n",
       "embark_town     object\n",
       "alive           object\n",
       "alone             bool\n",
       "dtype: object"
      ]
     },
     "execution_count": 21,
     "metadata": {},
     "output_type": "execute_result"
    }
   ],
   "source": [
    "ti.dtypes"
   ]
  },
  {
   "cell_type": "markdown",
   "id": "6b353b9e-1ad9-4955-aadb-9ae2552c0a4a",
   "metadata": {
    "slideshow": {
     "slide_type": "slide"
    }
   },
   "source": [
    "## How do summarize data with pandas?"
   ]
  },
  {
   "cell_type": "markdown",
   "id": "01a84d2c-d95a-4ffa-9a78-61ddfda1e77e",
   "metadata": {
    "slideshow": {
     "slide_type": "fragment"
    }
   },
   "source": [
    "Summary of continous (real-valued) columns:"
   ]
  },
  {
   "cell_type": "code",
   "execution_count": 22,
   "id": "51ef9286-cd23-4c40-8bdb-e0af9855f432",
   "metadata": {
    "slideshow": {
     "slide_type": "-"
    }
   },
   "outputs": [
    {
     "data": {
      "text/html": [
       "<div>\n",
       "<style scoped>\n",
       "    .dataframe tbody tr th:only-of-type {\n",
       "        vertical-align: middle;\n",
       "    }\n",
       "\n",
       "    .dataframe tbody tr th {\n",
       "        vertical-align: top;\n",
       "    }\n",
       "\n",
       "    .dataframe thead th {\n",
       "        text-align: right;\n",
       "    }\n",
       "</style>\n",
       "<table border=\"1\" class=\"dataframe\">\n",
       "  <thead>\n",
       "    <tr style=\"text-align: right;\">\n",
       "      <th></th>\n",
       "      <th>pclass</th>\n",
       "      <th>age</th>\n",
       "      <th>sibsp</th>\n",
       "      <th>parch</th>\n",
       "      <th>fare</th>\n",
       "    </tr>\n",
       "  </thead>\n",
       "  <tbody>\n",
       "    <tr>\n",
       "      <th>count</th>\n",
       "      <td>891.000000</td>\n",
       "      <td>714.000000</td>\n",
       "      <td>891.000000</td>\n",
       "      <td>891.000000</td>\n",
       "      <td>891.000000</td>\n",
       "    </tr>\n",
       "    <tr>\n",
       "      <th>mean</th>\n",
       "      <td>2.308642</td>\n",
       "      <td>29.699118</td>\n",
       "      <td>0.523008</td>\n",
       "      <td>0.381594</td>\n",
       "      <td>32.204208</td>\n",
       "    </tr>\n",
       "    <tr>\n",
       "      <th>std</th>\n",
       "      <td>0.836071</td>\n",
       "      <td>14.526497</td>\n",
       "      <td>1.102743</td>\n",
       "      <td>0.806057</td>\n",
       "      <td>49.693429</td>\n",
       "    </tr>\n",
       "    <tr>\n",
       "      <th>min</th>\n",
       "      <td>1.000000</td>\n",
       "      <td>0.420000</td>\n",
       "      <td>0.000000</td>\n",
       "      <td>0.000000</td>\n",
       "      <td>0.000000</td>\n",
       "    </tr>\n",
       "    <tr>\n",
       "      <th>25%</th>\n",
       "      <td>2.000000</td>\n",
       "      <td>20.125000</td>\n",
       "      <td>0.000000</td>\n",
       "      <td>0.000000</td>\n",
       "      <td>7.910400</td>\n",
       "    </tr>\n",
       "    <tr>\n",
       "      <th>50%</th>\n",
       "      <td>3.000000</td>\n",
       "      <td>28.000000</td>\n",
       "      <td>0.000000</td>\n",
       "      <td>0.000000</td>\n",
       "      <td>14.454200</td>\n",
       "    </tr>\n",
       "    <tr>\n",
       "      <th>75%</th>\n",
       "      <td>3.000000</td>\n",
       "      <td>38.000000</td>\n",
       "      <td>1.000000</td>\n",
       "      <td>0.000000</td>\n",
       "      <td>31.000000</td>\n",
       "    </tr>\n",
       "    <tr>\n",
       "      <th>max</th>\n",
       "      <td>3.000000</td>\n",
       "      <td>80.000000</td>\n",
       "      <td>8.000000</td>\n",
       "      <td>6.000000</td>\n",
       "      <td>512.329200</td>\n",
       "    </tr>\n",
       "  </tbody>\n",
       "</table>\n",
       "</div>"
      ],
      "text/plain": [
       "           pclass         age       sibsp       parch        fare\n",
       "count  891.000000  714.000000  891.000000  891.000000  891.000000\n",
       "mean     2.308642   29.699118    0.523008    0.381594   32.204208\n",
       "std      0.836071   14.526497    1.102743    0.806057   49.693429\n",
       "min      1.000000    0.420000    0.000000    0.000000    0.000000\n",
       "25%      2.000000   20.125000    0.000000    0.000000    7.910400\n",
       "50%      3.000000   28.000000    0.000000    0.000000   14.454200\n",
       "75%      3.000000   38.000000    1.000000    0.000000   31.000000\n",
       "max      3.000000   80.000000    8.000000    6.000000  512.329200"
      ]
     },
     "execution_count": 22,
     "metadata": {},
     "output_type": "execute_result"
    }
   ],
   "source": [
    "ti.describe()\n"
   ]
  },
  {
   "cell_type": "markdown",
   "id": "110bf262-2811-495d-a0c9-cf9ab8dbf962",
   "metadata": {
    "slideshow": {
     "slide_type": "slide"
    }
   },
   "source": [
    "Summary of categorical columns is not as easy...."
   ]
  },
  {
   "cell_type": "code",
   "execution_count": 23,
   "id": "92dca98e-abf3-4d3c-bf23-28a067e74116",
   "metadata": {
    "slideshow": {
     "slide_type": "skip"
    }
   },
   "outputs": [
    {
     "data": {
      "text/html": [
       "<div>\n",
       "<style scoped>\n",
       "    .dataframe tbody tr th:only-of-type {\n",
       "        vertical-align: middle;\n",
       "    }\n",
       "\n",
       "    .dataframe tbody tr th {\n",
       "        vertical-align: top;\n",
       "    }\n",
       "\n",
       "    .dataframe thead th {\n",
       "        text-align: right;\n",
       "    }\n",
       "</style>\n",
       "<table border=\"1\" class=\"dataframe\">\n",
       "  <thead>\n",
       "    <tr style=\"text-align: right;\">\n",
       "      <th></th>\n",
       "      <th>survived</th>\n",
       "      <th>sex</th>\n",
       "      <th>embarked</th>\n",
       "      <th>class</th>\n",
       "      <th>who</th>\n",
       "      <th>adult_male</th>\n",
       "      <th>deck</th>\n",
       "      <th>embark_town</th>\n",
       "      <th>alive</th>\n",
       "      <th>alone</th>\n",
       "    </tr>\n",
       "  </thead>\n",
       "  <tbody>\n",
       "    <tr>\n",
       "      <th>count</th>\n",
       "      <td>891</td>\n",
       "      <td>891</td>\n",
       "      <td>889</td>\n",
       "      <td>891</td>\n",
       "      <td>891</td>\n",
       "      <td>891</td>\n",
       "      <td>203</td>\n",
       "      <td>889</td>\n",
       "      <td>891</td>\n",
       "      <td>891</td>\n",
       "    </tr>\n",
       "    <tr>\n",
       "      <th>unique</th>\n",
       "      <td>2</td>\n",
       "      <td>2</td>\n",
       "      <td>3</td>\n",
       "      <td>3</td>\n",
       "      <td>3</td>\n",
       "      <td>2</td>\n",
       "      <td>7</td>\n",
       "      <td>3</td>\n",
       "      <td>2</td>\n",
       "      <td>2</td>\n",
       "    </tr>\n",
       "    <tr>\n",
       "      <th>top</th>\n",
       "      <td>False</td>\n",
       "      <td>male</td>\n",
       "      <td>S</td>\n",
       "      <td>Third</td>\n",
       "      <td>man</td>\n",
       "      <td>True</td>\n",
       "      <td>C</td>\n",
       "      <td>Southampton</td>\n",
       "      <td>no</td>\n",
       "      <td>True</td>\n",
       "    </tr>\n",
       "    <tr>\n",
       "      <th>freq</th>\n",
       "      <td>549</td>\n",
       "      <td>577</td>\n",
       "      <td>644</td>\n",
       "      <td>491</td>\n",
       "      <td>537</td>\n",
       "      <td>537</td>\n",
       "      <td>59</td>\n",
       "      <td>644</td>\n",
       "      <td>549</td>\n",
       "      <td>537</td>\n",
       "    </tr>\n",
       "  </tbody>\n",
       "</table>\n",
       "</div>"
      ],
      "text/plain": [
       "       survived   sex embarked  class  who adult_male deck  embark_town alive  \\\n",
       "count       891   891      889    891  891        891  203          889   891   \n",
       "unique        2     2        3      3    3          2    7            3     2   \n",
       "top       False  male        S  Third  man       True    C  Southampton    no   \n",
       "freq        549   577      644    491  537        537   59          644   549   \n",
       "\n",
       "       alone  \n",
       "count    891  \n",
       "unique     2  \n",
       "top     True  \n",
       "freq     537  "
      ]
     },
     "execution_count": 23,
     "metadata": {},
     "output_type": "execute_result"
    }
   ],
   "source": [
    "ti.describe(include = ['object', 'bool'])"
   ]
  },
  {
   "cell_type": "code",
   "execution_count": 24,
   "id": "fec7122d-28e9-46f9-87a0-16dfaec9fd05",
   "metadata": {
    "slideshow": {
     "slide_type": "slide"
    }
   },
   "outputs": [
    {
     "data": {
      "text/plain": [
       "male      577\n",
       "female    314\n",
       "Name: sex, dtype: int64"
      ]
     },
     "execution_count": 24,
     "metadata": {},
     "output_type": "execute_result"
    }
   ],
   "source": [
    "ti['sex'].value_counts()\n"
   ]
  },
  {
   "cell_type": "code",
   "execution_count": 25,
   "id": "93f8ddcd-f9f0-4c25-97ed-ac8438c021d8",
   "metadata": {
    "scrolled": true,
    "slideshow": {
     "slide_type": "-"
    }
   },
   "outputs": [
    {
     "data": {
      "text/plain": [
       "Third     491\n",
       "First     216\n",
       "Second    184\n",
       "Name: class, dtype: int64"
      ]
     },
     "execution_count": 25,
     "metadata": {},
     "output_type": "execute_result"
    }
   ],
   "source": [
    "ti['class'].value_counts()\n"
   ]
  },
  {
   "cell_type": "markdown",
   "id": "dd4c32c0-a830-4685-8f5b-077a1a3f1a26",
   "metadata": {},
   "source": [
    "## Aside: How do I select columns by type?"
   ]
  },
  {
   "cell_type": "markdown",
   "id": "01589494-90f6-4d30-908f-eaa89979ed75",
   "metadata": {},
   "source": [
    "The categorical columns are `object` (multi-class) and `bool` (binary):"
   ]
  },
  {
   "cell_type": "code",
   "execution_count": 26,
   "id": "2e0532f7-c833-4645-9d17-f33107bde48c",
   "metadata": {
    "slideshow": {
     "slide_type": "-"
    }
   },
   "outputs": [
    {
     "data": {
      "text/html": [
       "<div>\n",
       "<style scoped>\n",
       "    .dataframe tbody tr th:only-of-type {\n",
       "        vertical-align: middle;\n",
       "    }\n",
       "\n",
       "    .dataframe tbody tr th {\n",
       "        vertical-align: top;\n",
       "    }\n",
       "\n",
       "    .dataframe thead th {\n",
       "        text-align: right;\n",
       "    }\n",
       "</style>\n",
       "<table border=\"1\" class=\"dataframe\">\n",
       "  <thead>\n",
       "    <tr style=\"text-align: right;\">\n",
       "      <th></th>\n",
       "      <th>survived</th>\n",
       "      <th>sex</th>\n",
       "      <th>embarked</th>\n",
       "      <th>class</th>\n",
       "      <th>who</th>\n",
       "      <th>adult_male</th>\n",
       "      <th>deck</th>\n",
       "      <th>embark_town</th>\n",
       "      <th>alive</th>\n",
       "      <th>alone</th>\n",
       "    </tr>\n",
       "  </thead>\n",
       "  <tbody>\n",
       "    <tr>\n",
       "      <th>0</th>\n",
       "      <td>False</td>\n",
       "      <td>male</td>\n",
       "      <td>S</td>\n",
       "      <td>Third</td>\n",
       "      <td>man</td>\n",
       "      <td>True</td>\n",
       "      <td>NaN</td>\n",
       "      <td>Southampton</td>\n",
       "      <td>no</td>\n",
       "      <td>False</td>\n",
       "    </tr>\n",
       "    <tr>\n",
       "      <th>1</th>\n",
       "      <td>True</td>\n",
       "      <td>female</td>\n",
       "      <td>C</td>\n",
       "      <td>First</td>\n",
       "      <td>woman</td>\n",
       "      <td>False</td>\n",
       "      <td>C</td>\n",
       "      <td>Cherbourg</td>\n",
       "      <td>yes</td>\n",
       "      <td>False</td>\n",
       "    </tr>\n",
       "    <tr>\n",
       "      <th>2</th>\n",
       "      <td>True</td>\n",
       "      <td>female</td>\n",
       "      <td>S</td>\n",
       "      <td>Third</td>\n",
       "      <td>woman</td>\n",
       "      <td>False</td>\n",
       "      <td>NaN</td>\n",
       "      <td>Southampton</td>\n",
       "      <td>yes</td>\n",
       "      <td>True</td>\n",
       "    </tr>\n",
       "    <tr>\n",
       "      <th>3</th>\n",
       "      <td>True</td>\n",
       "      <td>female</td>\n",
       "      <td>S</td>\n",
       "      <td>First</td>\n",
       "      <td>woman</td>\n",
       "      <td>False</td>\n",
       "      <td>C</td>\n",
       "      <td>Southampton</td>\n",
       "      <td>yes</td>\n",
       "      <td>False</td>\n",
       "    </tr>\n",
       "    <tr>\n",
       "      <th>4</th>\n",
       "      <td>False</td>\n",
       "      <td>male</td>\n",
       "      <td>S</td>\n",
       "      <td>Third</td>\n",
       "      <td>man</td>\n",
       "      <td>True</td>\n",
       "      <td>NaN</td>\n",
       "      <td>Southampton</td>\n",
       "      <td>no</td>\n",
       "      <td>True</td>\n",
       "    </tr>\n",
       "    <tr>\n",
       "      <th>...</th>\n",
       "      <td>...</td>\n",
       "      <td>...</td>\n",
       "      <td>...</td>\n",
       "      <td>...</td>\n",
       "      <td>...</td>\n",
       "      <td>...</td>\n",
       "      <td>...</td>\n",
       "      <td>...</td>\n",
       "      <td>...</td>\n",
       "      <td>...</td>\n",
       "    </tr>\n",
       "    <tr>\n",
       "      <th>886</th>\n",
       "      <td>False</td>\n",
       "      <td>male</td>\n",
       "      <td>S</td>\n",
       "      <td>Second</td>\n",
       "      <td>man</td>\n",
       "      <td>True</td>\n",
       "      <td>NaN</td>\n",
       "      <td>Southampton</td>\n",
       "      <td>no</td>\n",
       "      <td>True</td>\n",
       "    </tr>\n",
       "    <tr>\n",
       "      <th>887</th>\n",
       "      <td>True</td>\n",
       "      <td>female</td>\n",
       "      <td>S</td>\n",
       "      <td>First</td>\n",
       "      <td>woman</td>\n",
       "      <td>False</td>\n",
       "      <td>B</td>\n",
       "      <td>Southampton</td>\n",
       "      <td>yes</td>\n",
       "      <td>True</td>\n",
       "    </tr>\n",
       "    <tr>\n",
       "      <th>888</th>\n",
       "      <td>False</td>\n",
       "      <td>female</td>\n",
       "      <td>S</td>\n",
       "      <td>Third</td>\n",
       "      <td>woman</td>\n",
       "      <td>False</td>\n",
       "      <td>NaN</td>\n",
       "      <td>Southampton</td>\n",
       "      <td>no</td>\n",
       "      <td>False</td>\n",
       "    </tr>\n",
       "    <tr>\n",
       "      <th>889</th>\n",
       "      <td>True</td>\n",
       "      <td>male</td>\n",
       "      <td>C</td>\n",
       "      <td>First</td>\n",
       "      <td>man</td>\n",
       "      <td>True</td>\n",
       "      <td>C</td>\n",
       "      <td>Cherbourg</td>\n",
       "      <td>yes</td>\n",
       "      <td>True</td>\n",
       "    </tr>\n",
       "    <tr>\n",
       "      <th>890</th>\n",
       "      <td>False</td>\n",
       "      <td>male</td>\n",
       "      <td>Q</td>\n",
       "      <td>Third</td>\n",
       "      <td>man</td>\n",
       "      <td>True</td>\n",
       "      <td>NaN</td>\n",
       "      <td>Queenstown</td>\n",
       "      <td>no</td>\n",
       "      <td>True</td>\n",
       "    </tr>\n",
       "  </tbody>\n",
       "</table>\n",
       "<p>891 rows × 10 columns</p>\n",
       "</div>"
      ],
      "text/plain": [
       "     survived     sex embarked   class    who  adult_male deck  embark_town  \\\n",
       "0       False    male        S   Third    man        True  NaN  Southampton   \n",
       "1        True  female        C   First  woman       False    C    Cherbourg   \n",
       "2        True  female        S   Third  woman       False  NaN  Southampton   \n",
       "3        True  female        S   First  woman       False    C  Southampton   \n",
       "4       False    male        S   Third    man        True  NaN  Southampton   \n",
       "..        ...     ...      ...     ...    ...         ...  ...          ...   \n",
       "886     False    male        S  Second    man        True  NaN  Southampton   \n",
       "887      True  female        S   First  woman       False    B  Southampton   \n",
       "888     False  female        S   Third  woman       False  NaN  Southampton   \n",
       "889      True    male        C   First    man        True    C    Cherbourg   \n",
       "890     False    male        Q   Third    man        True  NaN   Queenstown   \n",
       "\n",
       "    alive  alone  \n",
       "0      no  False  \n",
       "1     yes  False  \n",
       "2     yes   True  \n",
       "3     yes  False  \n",
       "4      no   True  \n",
       "..    ...    ...  \n",
       "886    no   True  \n",
       "887   yes   True  \n",
       "888    no  False  \n",
       "889   yes   True  \n",
       "890    no   True  \n",
       "\n",
       "[891 rows x 10 columns]"
      ]
     },
     "execution_count": 26,
     "metadata": {},
     "output_type": "execute_result"
    }
   ],
   "source": [
    "ti.select_dtypes(['object', 'bool']) #dtype == data type, object = unprocessed value\n"
   ]
  },
  {
   "cell_type": "markdown",
   "id": "dca02c31-eaca-47a3-a320-fd92959a5e9c",
   "metadata": {
    "slideshow": {
     "slide_type": "slide"
    }
   },
   "source": [
    "## How many rows and columns are there?"
   ]
  },
  {
   "cell_type": "markdown",
   "id": "e9ba0b8a-9fe7-4f84-804b-00fefd4b2fc5",
   "metadata": {
    "slideshow": {
     "slide_type": "fragment"
    }
   },
   "source": [
    "Rows..."
   ]
  },
  {
   "cell_type": "code",
   "execution_count": 27,
   "id": "946e3137-0d9c-4973-a9af-2fea3c7e111e",
   "metadata": {
    "slideshow": {
     "slide_type": "-"
    }
   },
   "outputs": [
    {
     "data": {
      "text/plain": [
       "891"
      ]
     },
     "execution_count": 27,
     "metadata": {},
     "output_type": "execute_result"
    }
   ],
   "source": [
    "len(ti)\n"
   ]
  },
  {
   "cell_type": "markdown",
   "id": "7285f159-0e74-454a-a248-4d20ee82d770",
   "metadata": {
    "slideshow": {
     "slide_type": "fragment"
    }
   },
   "source": [
    "Rows & columns..."
   ]
  },
  {
   "cell_type": "code",
   "execution_count": 28,
   "id": "7b7c7d84-5d72-4b60-9be2-7be012ad9e32",
   "metadata": {
    "slideshow": {
     "slide_type": "-"
    }
   },
   "outputs": [
    {
     "data": {
      "text/plain": [
       "(891, 15)"
      ]
     },
     "execution_count": 28,
     "metadata": {},
     "output_type": "execute_result"
    }
   ],
   "source": [
    "ti.shape # (rows, columns)\n"
   ]
  },
  {
   "cell_type": "markdown",
   "id": "6e8be88a-8305-4521-9547-0c4cab75ec4d",
   "metadata": {
    "slideshow": {
     "slide_type": "slide"
    }
   },
   "source": [
    "## How do I determine if there is missing data?"
   ]
  },
  {
   "cell_type": "code",
   "execution_count": 29,
   "id": "44be524d-1f83-4969-b4f7-d66d62d9efbf",
   "metadata": {
    "slideshow": {
     "slide_type": "-"
    }
   },
   "outputs": [],
   "source": [
    "ti = pd.read_csv('datasets/titanic.csv')\n"
   ]
  },
  {
   "cell_type": "markdown",
   "id": "6cb7a4f5-c019-4332-9f69-d60a90aced91",
   "metadata": {
    "slideshow": {
     "slide_type": "fragment"
    }
   },
   "source": [
    "We run `.isna` (is not-available) across every entry:"
   ]
  },
  {
   "cell_type": "code",
   "execution_count": 30,
   "id": "e2c40a91-342c-433c-b753-08432d319dfb",
   "metadata": {
    "slideshow": {
     "slide_type": "-"
    }
   },
   "outputs": [
    {
     "data": {
      "text/html": [
       "<div>\n",
       "<style scoped>\n",
       "    .dataframe tbody tr th:only-of-type {\n",
       "        vertical-align: middle;\n",
       "    }\n",
       "\n",
       "    .dataframe tbody tr th {\n",
       "        vertical-align: top;\n",
       "    }\n",
       "\n",
       "    .dataframe thead th {\n",
       "        text-align: right;\n",
       "    }\n",
       "</style>\n",
       "<table border=\"1\" class=\"dataframe\">\n",
       "  <thead>\n",
       "    <tr style=\"text-align: right;\">\n",
       "      <th></th>\n",
       "      <th>survived</th>\n",
       "      <th>pclass</th>\n",
       "      <th>sex</th>\n",
       "      <th>age</th>\n",
       "      <th>sibsp</th>\n",
       "      <th>parch</th>\n",
       "      <th>fare</th>\n",
       "      <th>embarked</th>\n",
       "      <th>class</th>\n",
       "      <th>who</th>\n",
       "      <th>adult_male</th>\n",
       "      <th>deck</th>\n",
       "      <th>embark_town</th>\n",
       "      <th>alive</th>\n",
       "      <th>alone</th>\n",
       "    </tr>\n",
       "  </thead>\n",
       "  <tbody>\n",
       "    <tr>\n",
       "      <th>0</th>\n",
       "      <td>False</td>\n",
       "      <td>False</td>\n",
       "      <td>False</td>\n",
       "      <td>False</td>\n",
       "      <td>False</td>\n",
       "      <td>False</td>\n",
       "      <td>False</td>\n",
       "      <td>False</td>\n",
       "      <td>False</td>\n",
       "      <td>False</td>\n",
       "      <td>False</td>\n",
       "      <td>True</td>\n",
       "      <td>False</td>\n",
       "      <td>False</td>\n",
       "      <td>False</td>\n",
       "    </tr>\n",
       "    <tr>\n",
       "      <th>1</th>\n",
       "      <td>False</td>\n",
       "      <td>False</td>\n",
       "      <td>False</td>\n",
       "      <td>False</td>\n",
       "      <td>False</td>\n",
       "      <td>False</td>\n",
       "      <td>False</td>\n",
       "      <td>False</td>\n",
       "      <td>False</td>\n",
       "      <td>False</td>\n",
       "      <td>False</td>\n",
       "      <td>False</td>\n",
       "      <td>False</td>\n",
       "      <td>False</td>\n",
       "      <td>False</td>\n",
       "    </tr>\n",
       "    <tr>\n",
       "      <th>2</th>\n",
       "      <td>False</td>\n",
       "      <td>False</td>\n",
       "      <td>False</td>\n",
       "      <td>False</td>\n",
       "      <td>False</td>\n",
       "      <td>False</td>\n",
       "      <td>False</td>\n",
       "      <td>False</td>\n",
       "      <td>False</td>\n",
       "      <td>False</td>\n",
       "      <td>False</td>\n",
       "      <td>True</td>\n",
       "      <td>False</td>\n",
       "      <td>False</td>\n",
       "      <td>False</td>\n",
       "    </tr>\n",
       "    <tr>\n",
       "      <th>3</th>\n",
       "      <td>False</td>\n",
       "      <td>False</td>\n",
       "      <td>False</td>\n",
       "      <td>False</td>\n",
       "      <td>False</td>\n",
       "      <td>False</td>\n",
       "      <td>False</td>\n",
       "      <td>False</td>\n",
       "      <td>False</td>\n",
       "      <td>False</td>\n",
       "      <td>False</td>\n",
       "      <td>False</td>\n",
       "      <td>False</td>\n",
       "      <td>False</td>\n",
       "      <td>False</td>\n",
       "    </tr>\n",
       "    <tr>\n",
       "      <th>4</th>\n",
       "      <td>False</td>\n",
       "      <td>False</td>\n",
       "      <td>False</td>\n",
       "      <td>False</td>\n",
       "      <td>False</td>\n",
       "      <td>False</td>\n",
       "      <td>False</td>\n",
       "      <td>False</td>\n",
       "      <td>False</td>\n",
       "      <td>False</td>\n",
       "      <td>False</td>\n",
       "      <td>True</td>\n",
       "      <td>False</td>\n",
       "      <td>False</td>\n",
       "      <td>False</td>\n",
       "    </tr>\n",
       "    <tr>\n",
       "      <th>...</th>\n",
       "      <td>...</td>\n",
       "      <td>...</td>\n",
       "      <td>...</td>\n",
       "      <td>...</td>\n",
       "      <td>...</td>\n",
       "      <td>...</td>\n",
       "      <td>...</td>\n",
       "      <td>...</td>\n",
       "      <td>...</td>\n",
       "      <td>...</td>\n",
       "      <td>...</td>\n",
       "      <td>...</td>\n",
       "      <td>...</td>\n",
       "      <td>...</td>\n",
       "      <td>...</td>\n",
       "    </tr>\n",
       "    <tr>\n",
       "      <th>886</th>\n",
       "      <td>False</td>\n",
       "      <td>False</td>\n",
       "      <td>False</td>\n",
       "      <td>False</td>\n",
       "      <td>False</td>\n",
       "      <td>False</td>\n",
       "      <td>False</td>\n",
       "      <td>False</td>\n",
       "      <td>False</td>\n",
       "      <td>False</td>\n",
       "      <td>False</td>\n",
       "      <td>True</td>\n",
       "      <td>False</td>\n",
       "      <td>False</td>\n",
       "      <td>False</td>\n",
       "    </tr>\n",
       "    <tr>\n",
       "      <th>887</th>\n",
       "      <td>False</td>\n",
       "      <td>False</td>\n",
       "      <td>False</td>\n",
       "      <td>False</td>\n",
       "      <td>False</td>\n",
       "      <td>False</td>\n",
       "      <td>False</td>\n",
       "      <td>False</td>\n",
       "      <td>False</td>\n",
       "      <td>False</td>\n",
       "      <td>False</td>\n",
       "      <td>False</td>\n",
       "      <td>False</td>\n",
       "      <td>False</td>\n",
       "      <td>False</td>\n",
       "    </tr>\n",
       "    <tr>\n",
       "      <th>888</th>\n",
       "      <td>False</td>\n",
       "      <td>False</td>\n",
       "      <td>False</td>\n",
       "      <td>True</td>\n",
       "      <td>False</td>\n",
       "      <td>False</td>\n",
       "      <td>False</td>\n",
       "      <td>False</td>\n",
       "      <td>False</td>\n",
       "      <td>False</td>\n",
       "      <td>False</td>\n",
       "      <td>True</td>\n",
       "      <td>False</td>\n",
       "      <td>False</td>\n",
       "      <td>False</td>\n",
       "    </tr>\n",
       "    <tr>\n",
       "      <th>889</th>\n",
       "      <td>False</td>\n",
       "      <td>False</td>\n",
       "      <td>False</td>\n",
       "      <td>False</td>\n",
       "      <td>False</td>\n",
       "      <td>False</td>\n",
       "      <td>False</td>\n",
       "      <td>False</td>\n",
       "      <td>False</td>\n",
       "      <td>False</td>\n",
       "      <td>False</td>\n",
       "      <td>False</td>\n",
       "      <td>False</td>\n",
       "      <td>False</td>\n",
       "      <td>False</td>\n",
       "    </tr>\n",
       "    <tr>\n",
       "      <th>890</th>\n",
       "      <td>False</td>\n",
       "      <td>False</td>\n",
       "      <td>False</td>\n",
       "      <td>False</td>\n",
       "      <td>False</td>\n",
       "      <td>False</td>\n",
       "      <td>False</td>\n",
       "      <td>False</td>\n",
       "      <td>False</td>\n",
       "      <td>False</td>\n",
       "      <td>False</td>\n",
       "      <td>True</td>\n",
       "      <td>False</td>\n",
       "      <td>False</td>\n",
       "      <td>False</td>\n",
       "    </tr>\n",
       "  </tbody>\n",
       "</table>\n",
       "<p>891 rows × 15 columns</p>\n",
       "</div>"
      ],
      "text/plain": [
       "     survived  pclass    sex    age  sibsp  parch   fare  embarked  class  \\\n",
       "0       False   False  False  False  False  False  False     False  False   \n",
       "1       False   False  False  False  False  False  False     False  False   \n",
       "2       False   False  False  False  False  False  False     False  False   \n",
       "3       False   False  False  False  False  False  False     False  False   \n",
       "4       False   False  False  False  False  False  False     False  False   \n",
       "..        ...     ...    ...    ...    ...    ...    ...       ...    ...   \n",
       "886     False   False  False  False  False  False  False     False  False   \n",
       "887     False   False  False  False  False  False  False     False  False   \n",
       "888     False   False  False   True  False  False  False     False  False   \n",
       "889     False   False  False  False  False  False  False     False  False   \n",
       "890     False   False  False  False  False  False  False     False  False   \n",
       "\n",
       "       who  adult_male   deck  embark_town  alive  alone  \n",
       "0    False       False   True        False  False  False  \n",
       "1    False       False  False        False  False  False  \n",
       "2    False       False   True        False  False  False  \n",
       "3    False       False  False        False  False  False  \n",
       "4    False       False   True        False  False  False  \n",
       "..     ...         ...    ...          ...    ...    ...  \n",
       "886  False       False   True        False  False  False  \n",
       "887  False       False  False        False  False  False  \n",
       "888  False       False   True        False  False  False  \n",
       "889  False       False  False        False  False  False  \n",
       "890  False       False   True        False  False  False  \n",
       "\n",
       "[891 rows x 15 columns]"
      ]
     },
     "execution_count": 30,
     "metadata": {},
     "output_type": "execute_result"
    }
   ],
   "source": [
    "ti.isna()\n"
   ]
  },
  {
   "cell_type": "markdown",
   "id": "3b45931e-197a-44dd-b4cd-34df43fa518e",
   "metadata": {
    "slideshow": {
     "slide_type": "slide"
    }
   },
   "source": [
    "Then we sum down the columns, treating `True` as `1` (and `False` as `0`)"
   ]
  },
  {
   "cell_type": "code",
   "execution_count": 31,
   "id": "1f2a33df-91ec-49bc-95c9-073e60db29e9",
   "metadata": {
    "slideshow": {
     "slide_type": "-"
    }
   },
   "outputs": [
    {
     "data": {
      "text/plain": [
       "survived         0\n",
       "pclass           0\n",
       "sex              0\n",
       "age            177\n",
       "sibsp            0\n",
       "parch            0\n",
       "fare             0\n",
       "embarked         2\n",
       "class            0\n",
       "who              0\n",
       "adult_male       0\n",
       "deck           688\n",
       "embark_town      2\n",
       "alive            0\n",
       "alone            0\n",
       "dtype: int64"
      ]
     },
     "execution_count": 31,
     "metadata": {},
     "output_type": "execute_result"
    }
   ],
   "source": [
    "ti.isna().sum()\n"
   ]
  },
  {
   "cell_type": "markdown",
   "id": "f1891c4f-11ea-465f-8463-1cab7d3002c4",
   "metadata": {
    "slideshow": {
     "slide_type": "fragment"
    }
   },
   "source": [
    "... and therefore the `.sum` is the count of missing data (ie., `NA` is `True`)"
   ]
  },
  {
   "cell_type": "markdown",
   "id": "86ac66cd-16c4-4700-8598-e49d47feb217",
   "metadata": {},
   "source": [
    "## Aside: What is the problem with missing data?"
   ]
  },
  {
   "cell_type": "code",
   "execution_count": 32,
   "id": "28d57e62-fa1a-44fd-b887-81124da674e2",
   "metadata": {},
   "outputs": [],
   "source": [
    "def predict_survival(fare, age):\n",
    "    if (fare > 50) or (age <= 12):\n",
    "        return 1\n",
    "    else:\n",
    "        return 0"
   ]
  },
  {
   "cell_type": "markdown",
   "id": "6ead5a39-bcc3-49f7-9197-08bb1e00da5c",
   "metadata": {},
   "source": [
    "When dropping rows (, columns) we want to retain *only* those rows that we can use with our analysis.\n",
    "\n",
    "Eg., consider the function above, we need *both* the `fare` and the `age`, and so, we must only have rows with them *both*.\n",
    "\n",
    "In the case of the titanic dataset, this means dropping quite a large number of rows. "
   ]
  },
  {
   "cell_type": "markdown",
   "id": "d49d7fa0-766a-406d-8ba0-bc03e4def3de",
   "metadata": {},
   "source": [
    "#### Aside: The rule above is fairly accurate,"
   ]
  },
  {
   "cell_type": "code",
   "execution_count": 33,
   "id": "c986387e-ab23-4af5-96af-a0f8154e0b13",
   "metadata": {},
   "outputs": [],
   "source": [
    "predictions = []\n",
    "error = 0\n",
    "for f, a, s in ti[['fare', 'age', 'survived']].values:\n",
    "    predictions.append( (s, predict_survival(f, a)) )\n",
    "    \n",
    "    \n",
    "    if s != predict_survival(f, a):\n",
    "        error += 1"
   ]
  },
  {
   "cell_type": "code",
   "execution_count": 34,
   "id": "9775eff6-ee83-45ab-9793-e4fd9f3a9584",
   "metadata": {},
   "outputs": [
    {
     "data": {
      "text/plain": [
       "0.691358024691358"
      ]
     },
     "execution_count": 34,
     "metadata": {},
     "output_type": "execute_result"
    }
   ],
   "source": [
    "1 - error/len(predictions)"
   ]
  },
  {
   "cell_type": "markdown",
   "id": "78526f73-ec7e-421f-928f-c2a4b909bc76",
   "metadata": {
    "slideshow": {
     "slide_type": "slide"
    }
   },
   "source": [
    "## How do I remove missing data with pandas?"
   ]
  },
  {
   "cell_type": "markdown",
   "id": "807b5f69-846b-428d-815b-c1ce46b3fc9a",
   "metadata": {
    "slideshow": {
     "slide_type": "fragment"
    }
   },
   "source": [
    "Remove rows with missing data:  (axis = 0, *means* rows)"
   ]
  },
  {
   "cell_type": "code",
   "execution_count": 35,
   "id": "7691dc3b-330d-4c4c-8489-2be93c73525c",
   "metadata": {
    "slideshow": {
     "slide_type": "-"
    }
   },
   "outputs": [
    {
     "name": "stdout",
     "output_type": "stream",
     "text": [
      "We removed:  709 rows\n"
     ]
    }
   ],
   "source": [
    "ti_wo_rows = ti.dropna(axis=0)\n",
    "\n",
    "print(\"We removed: \", len(ti) -  len(ti_wo_rows), \"rows\")\n"
   ]
  },
  {
   "cell_type": "markdown",
   "id": "1923a97b-d04c-4a89-9e7c-8390837baaf0",
   "metadata": {
    "slideshow": {
     "slide_type": "-"
    }
   },
   "source": [
    "<font color=\"red\">This removes 709 rows across **all** columns!</font>"
   ]
  },
  {
   "cell_type": "markdown",
   "id": "c9bb16ad-32d0-4f92-9d07-b6d88a049840",
   "metadata": {
    "slideshow": {
     "slide_type": "slide"
    }
   },
   "source": [
    "Remove columns with missing data:"
   ]
  },
  {
   "cell_type": "code",
   "execution_count": 36,
   "id": "a46de794-5d8f-4bb0-a464-242b8c6e8a8f",
   "metadata": {
    "slideshow": {
     "slide_type": "fragment"
    }
   },
   "outputs": [],
   "source": [
    "ti_wo_col = ti.dropna(axis=1)\n"
   ]
  },
  {
   "cell_type": "code",
   "execution_count": 37,
   "id": "02d56384-a317-4f84-ac98-6dddbeb49852",
   "metadata": {
    "slideshow": {
     "slide_type": "-"
    }
   },
   "outputs": [
    {
     "name": "stdout",
     "output_type": "stream",
     "text": [
      "We removed:  0 rows\n"
     ]
    }
   ],
   "source": [
    "print(\"We removed: \", len(ti) -  len(ti_wo_col), \"rows\")\n",
    "\n",
    "# but how many cols removed? let's use .shape attribute, or the info() method\n"
   ]
  },
  {
   "cell_type": "code",
   "execution_count": 38,
   "id": "7d9c4d49-1bd1-4e0e-b105-79859736ddbd",
   "metadata": {
    "slideshow": {
     "slide_type": "slide"
    }
   },
   "outputs": [
    {
     "data": {
      "text/plain": [
       "(891, 11)"
      ]
     },
     "execution_count": 38,
     "metadata": {},
     "output_type": "execute_result"
    }
   ],
   "source": [
    "ti_wo_col.shape\n"
   ]
  },
  {
   "cell_type": "code",
   "execution_count": 39,
   "id": "5ea34ac1-39c1-46ad-9275-90f4ba4b0511",
   "metadata": {
    "slideshow": {
     "slide_type": "fragment"
    }
   },
   "outputs": [
    {
     "name": "stdout",
     "output_type": "stream",
     "text": [
      "<class 'pandas.core.frame.DataFrame'>\n",
      "RangeIndex: 891 entries, 0 to 890\n",
      "Data columns (total 11 columns):\n",
      " #   Column      Non-Null Count  Dtype  \n",
      "---  ------      --------------  -----  \n",
      " 0   survived    891 non-null    int64  \n",
      " 1   pclass      891 non-null    int64  \n",
      " 2   sex         891 non-null    object \n",
      " 3   sibsp       891 non-null    int64  \n",
      " 4   parch       891 non-null    int64  \n",
      " 5   fare        891 non-null    float64\n",
      " 6   class       891 non-null    object \n",
      " 7   who         891 non-null    object \n",
      " 8   adult_male  891 non-null    bool   \n",
      " 9   alive       891 non-null    object \n",
      " 10  alone       891 non-null    bool   \n",
      "dtypes: bool(2), float64(1), int64(4), object(4)\n",
      "memory usage: 64.5+ KB\n"
     ]
    }
   ],
   "source": [
    "ti_wo_col.info()\n"
   ]
  },
  {
   "cell_type": "code",
   "execution_count": 40,
   "id": "92430725-7576-494f-a392-f8ceff1c1596",
   "metadata": {
    "slideshow": {
     "slide_type": "slide"
    }
   },
   "outputs": [
    {
     "name": "stdout",
     "output_type": "stream",
     "text": [
      "<class 'pandas.core.frame.DataFrame'>\n",
      "RangeIndex: 891 entries, 0 to 890\n",
      "Data columns (total 15 columns):\n",
      " #   Column       Non-Null Count  Dtype  \n",
      "---  ------       --------------  -----  \n",
      " 0   survived     891 non-null    int64  \n",
      " 1   pclass       891 non-null    int64  \n",
      " 2   sex          891 non-null    object \n",
      " 3   age          714 non-null    float64\n",
      " 4   sibsp        891 non-null    int64  \n",
      " 5   parch        891 non-null    int64  \n",
      " 6   fare         891 non-null    float64\n",
      " 7   embarked     889 non-null    object \n",
      " 8   class        891 non-null    object \n",
      " 9   who          891 non-null    object \n",
      " 10  adult_male   891 non-null    bool   \n",
      " 11  deck         203 non-null    object \n",
      " 12  embark_town  889 non-null    object \n",
      " 13  alive        891 non-null    object \n",
      " 14  alone        891 non-null    bool   \n",
      "dtypes: bool(2), float64(2), int64(4), object(7)\n",
      "memory usage: 92.4+ KB\n"
     ]
    }
   ],
   "source": [
    "ti.info()\n"
   ]
  },
  {
   "cell_type": "markdown",
   "id": "7e24b17a-af59-4234-ab3a-11c4c4b28b1c",
   "metadata": {},
   "source": [
    "## Aside: How do I drop a specific column?\n",
    "\n",
    "Note, that it would have been better to drop the `deck` column before dropping all the other missing rows, as the deck column is mostly empty (and therefore causes a lot of rows to be dropped). \n",
    "\n",
    "The `ti.drop(columns=['deck'])` command will drop the named columns. "
   ]
  },
  {
   "cell_type": "markdown",
   "id": "a39ffd85-41bb-459f-a890-c488c064eec0",
   "metadata": {
    "slideshow": {
     "slide_type": "slide"
    }
   },
   "source": [
    "## Aside: Alternative strategies for missing data\n",
    "\n",
    "* rather than dropping rows we could substitue missing entires for:\n",
    "    * median(, mean,), modes\n",
    "    * predicted values (eg., via linear regression)"
   ]
  },
  {
   "cell_type": "markdown",
   "id": "cc1eed76-5dc1-4af6-b978-c82a103cc714",
   "metadata": {
    "slideshow": {
     "slide_type": "slide"
    }
   },
   "source": [
    "### Exercise (15 min)\n",
    "* Context:  What improved your chances of survival on the titanic?"
   ]
  },
  {
   "cell_type": "markdown",
   "id": "09df21e0-ba37-477a-928e-9c137c828f1b",
   "metadata": {
    "slideshow": {
     "slide_type": "fragment"
    }
   },
   "source": [
    "#### Part 1: Investigate the observations in the dataset\n",
    "The goal of this exercise is to expand on your solution to the prior one, including additional statistical information and information on missing data. \n",
    "\n",
    "\n",
    "* load the titanic dataset using `read_csv`\n",
    "* with `ti`, produce a report which shows interesting columns, samples, and descriptive stats\n",
    "* HINT, use the following:\n",
    "    * `df['age'].mean()`\n",
    "    * `.info()`, `.sample()`, `.mean()`, `.std()`, `.median()`, `.head()`, `.describe()`\n",
    "* include in the report *whether* there is missing data\n",
    "    * HINT: `.isna().sum()`\n",
    "    "
   ]
  },
  {
   "cell_type": "markdown",
   "id": "7d917830-25f7-4898-9b2d-e630db40cac1",
   "metadata": {
    "slideshow": {
     "slide_type": "slide"
    }
   },
   "source": [
    "#### Part 2: Prepare the dataset for analysis\n",
    "* define `clean = ti.dropna()` to remove missing data\n",
    "    * remove the *rows*\n",
    "* perform the analysis above\n",
    "    * compare and contrast\n",
    "* what results are different, and why?\n",
    "    * ie., how has removing data affected the results?  \n",
    "* does cleaning the data bias the analysis?\n",
    "    * if so, do you have any ideas for how to over come that?\n",
    "    \n",
    "* EXTRA:\n",
    "    * What happens if you drop `deck` before `dropna()`.. does this show as much statistical biasing?"
   ]
  },
  {
   "cell_type": "markdown",
   "id": "a599cfab-50b9-4b75-8665-c4149e58522b",
   "metadata": {
    "tags": []
   },
   "source": [
    "# Part 4: Advanced Querying"
   ]
  },
  {
   "cell_type": "code",
   "execution_count": 41,
   "id": "6e65afe7-fa9a-4bd1-8f63-5773df5b7d0f",
   "metadata": {},
   "outputs": [],
   "source": [
    "df = pd.read_csv('datasets/titanic.csv')"
   ]
  },
  {
   "cell_type": "markdown",
   "id": "1e29c5ab-2ecf-4e9f-ab70-19a02a6add81",
   "metadata": {
    "slideshow": {
     "slide_type": "slide"
    },
    "tags": []
   },
   "source": [
    "## How do I use comparison operators to filter rows?\n",
    "\n",
    "If we want a subset of rows, we should use `df.loc`...\n",
    "\n",
    "Let's look at an example before explaining how it works... "
   ]
  },
  {
   "cell_type": "code",
   "execution_count": 42,
   "id": "03a7d785-d934-4482-8205-41616d00019c",
   "metadata": {
    "slideshow": {
     "slide_type": "fragment"
    }
   },
   "outputs": [
    {
     "data": {
      "text/plain": [
       "(48.39540760233917, 22.117886885245877)"
      ]
     },
     "execution_count": 42,
     "metadata": {},
     "output_type": "execute_result"
    }
   ],
   "source": [
    "query = df['survived'] == 1\n",
    "\n",
    "df.loc[  query ,  'fare'  ].mean(),  df.loc[ ~query, 'fare'].mean()"
   ]
  },
  {
   "cell_type": "markdown",
   "id": "e54f158b-d22d-4b6a-b6a7-726a1124a944",
   "metadata": {
    "slideshow": {
     "slide_type": "fragment"
    }
   },
   "source": [
    "The query is a *comparison* across every entry in the `survived` column which yield a `True` or a `False`:"
   ]
  },
  {
   "cell_type": "code",
   "execution_count": 43,
   "id": "d87d83d4-b0b9-436e-9bf5-d36e16ceb452",
   "metadata": {
    "scrolled": true,
    "slideshow": {
     "slide_type": "fragment"
    }
   },
   "outputs": [
    {
     "data": {
      "text/plain": [
       "0      False\n",
       "1       True\n",
       "2       True\n",
       "3       True\n",
       "4      False\n",
       "       ...  \n",
       "886    False\n",
       "887     True\n",
       "888    False\n",
       "889     True\n",
       "890    False\n",
       "Name: survived, Length: 891, dtype: bool"
      ]
     },
     "execution_count": 43,
     "metadata": {},
     "output_type": "execute_result"
    }
   ],
   "source": [
    "query\n"
   ]
  },
  {
   "cell_type": "markdown",
   "id": "ff4509c1-4429-422a-9871-18c2d0794e69",
   "metadata": {},
   "source": [
    "When used as a filter, a boolean column such as `query`, selects the indexes of the rows which are `True`. "
   ]
  },
  {
   "cell_type": "code",
   "execution_count": 44,
   "id": "99c76482-33b6-47e3-9049-86fb054227d5",
   "metadata": {},
   "outputs": [],
   "source": [
    "query_index = [1, 2, 3, 887, 889]"
   ]
  },
  {
   "cell_type": "markdown",
   "id": "9518fa54-1254-43db-b83a-4ec5881173f8",
   "metadata": {
    "slideshow": {
     "slide_type": "slide"
    }
   },
   "source": [
    "When we use that query as an index, the rows corresponding to the `True` values are selected:"
   ]
  },
  {
   "cell_type": "code",
   "execution_count": 45,
   "id": "c0107a5e-3f68-4811-b0de-2cd11b29332e",
   "metadata": {
    "slideshow": {
     "slide_type": "-"
    }
   },
   "outputs": [
    {
     "data": {
      "text/plain": [
       "258    35.0\n",
       "679    36.0\n",
       "737    35.0\n",
       "Name: age, dtype: float64"
      ]
     },
     "execution_count": 45,
     "metadata": {},
     "output_type": "execute_result"
    }
   ],
   "source": [
    "df.loc[ df['fare'] >= 500 , 'age']\n"
   ]
  },
  {
   "cell_type": "markdown",
   "id": "50a0f739-a605-4aaa-b985-19fdaf9ffbde",
   "metadata": {},
   "source": [
    "When using a comparison as index, pandas will run the comparison over every row and *keep the row indexes* where the comparison comes out `True`. "
   ]
  },
  {
   "cell_type": "markdown",
   "id": "e6b45103-f6b5-451d-bb2b-28ac2d5914c7",
   "metadata": {
    "slideshow": {
     "slide_type": "slide"
    }
   },
   "source": [
    "## What are the standard comparison operators?"
   ]
  },
  {
   "cell_type": "markdown",
   "id": "bf8c87ba-5ef4-47e0-bba9-d71f1a87bd48",
   "metadata": {
    "slideshow": {
     "slide_type": "fragment"
    }
   },
   "source": [
    "* `==` is equal to\n",
    "* `!=` is not equal to\n",
    "* `>` is greater than\n",
    "* `<`\n",
    "* `>=` is greater than or equal to\n",
    "* `<=` \n",
    "* `df.isin(set)` rows are in `set`\n",
    "* EXTRA:\n",
    "    * pandas has a wide variety of other comparison operators\n",
    "    * eg., `df['embark_town'].str.contains('*town')`\n",
    "        * \"which `embark_town` end in `town` ?\""
   ]
  },
  {
   "cell_type": "markdown",
   "id": "fe9f1261-2bc7-4542-b17d-9609617e917f",
   "metadata": {
    "slideshow": {
     "slide_type": "slide"
    }
   },
   "source": [
    "### Example"
   ]
  },
  {
   "cell_type": "markdown",
   "id": "d5a06e20-f22c-44d9-8688-4f6ca2e4cd1b",
   "metadata": {},
   "source": [
    "Locate the rows where the class is \"in\" `{First, Third}`, select the fare column, take the average.\n",
    "\n",
    "\n",
    "`SELECT mean(fare) FROM df WHERE class IN (\"First\", \"Third\")`"
   ]
  },
  {
   "cell_type": "code",
   "execution_count": 46,
   "id": "fb4e3991-f6e2-4388-ae97-098e9a95676f",
   "metadata": {
    "slideshow": {
     "slide_type": "fragment"
    }
   },
   "outputs": [
    {
     "data": {
      "text/plain": [
       "35.20807298444123"
      ]
     },
     "execution_count": 46,
     "metadata": {},
     "output_type": "execute_result"
    }
   ],
   "source": [
    "df.loc[  \n",
    "       df['class'].isin(['First', 'Third'])  # row index filter\n",
    "    , 'fare'                                 # columns\n",
    "].mean() # query\n"
   ]
  },
  {
   "cell_type": "markdown",
   "id": "587a7663-663c-4bc6-ad89-5856d33d6500",
   "metadata": {},
   "source": [
    "Average `fare` for second and third class passengers:"
   ]
  },
  {
   "cell_type": "code",
   "execution_count": 47,
   "id": "8fb7580b-48de-424a-a796-8ae1c076b42f",
   "metadata": {
    "slideshow": {
     "slide_type": "fragment"
    }
   },
   "outputs": [
    {
     "data": {
      "text/plain": [
       "15.580054518518512"
      ]
     },
     "execution_count": 47,
     "metadata": {},
     "output_type": "execute_result"
    }
   ],
   "source": [
    "df.loc[  df['class'] != 'First', 'fare'].mean()\n"
   ]
  },
  {
   "cell_type": "markdown",
   "id": "6dff6933-02b6-4730-a5af-3cde6edc0cd9",
   "metadata": {},
   "source": [
    "EXTRA:"
   ]
  },
  {
   "cell_type": "code",
   "execution_count": 48,
   "id": "f39634f7-ab9b-42d6-a999-813c62f37aef",
   "metadata": {},
   "outputs": [
    {
     "data": {
      "text/plain": [
       "0       True\n",
       "1      False\n",
       "2       True\n",
       "3       True\n",
       "4       True\n",
       "       ...  \n",
       "886     True\n",
       "887     True\n",
       "888     True\n",
       "889    False\n",
       "890     True\n",
       "Name: embark_town, Length: 891, dtype: object"
      ]
     },
     "execution_count": 48,
     "metadata": {},
     "output_type": "execute_result"
    }
   ],
   "source": [
    "df['embark_town'].str.contains('tow?n')"
   ]
  },
  {
   "cell_type": "markdown",
   "id": "6dc425df-0091-409c-9612-4764a199113d",
   "metadata": {
    "slideshow": {
     "slide_type": "slide"
    }
   },
   "source": [
    "## How do I combine comparisons?"
   ]
  },
  {
   "cell_type": "markdown",
   "id": "388e39cd-47e7-4c76-998a-54486b6a14fd",
   "metadata": {
    "slideshow": {
     "slide_type": "fragment"
    }
   },
   "source": [
    "In python, the logical operators are `and`, `or`, `not`... these do not work with pandas (, and many other data process libraries).\n",
    "\n",
    "These are not designed to work *across* a dataset; ie., down columns: to use this way, you'd need to loop."
   ]
  },
  {
   "cell_type": "code",
   "execution_count": 49,
   "id": "7971ef9a-9a4e-422f-9ca5-9a9a52712eac",
   "metadata": {
    "slideshow": {
     "slide_type": "fragment"
    }
   },
   "outputs": [
    {
     "data": {
      "text/plain": [
       "True"
      ]
     },
     "execution_count": 49,
     "metadata": {},
     "output_type": "execute_result"
    }
   ],
   "source": [
    "(\"@\" not in \"mburgess@qa.com\") and (len(\"M\") == 1) or (\"London\".isalpha())\n"
   ]
  },
  {
   "cell_type": "markdown",
   "id": "b303568a-b35d-4117-8c52-bd68d218e3c2",
   "metadata": {
    "slideshow": {
     "slide_type": "fragment"
    }
   },
   "source": [
    "We must always bracket comparison before combining them (if there is only one, it is optional)..."
   ]
  },
  {
   "cell_type": "markdown",
   "id": "09767a57-a87e-41ce-9200-1dcb506ba34e",
   "metadata": {
    "slideshow": {
     "slide_type": "slide"
    }
   },
   "source": [
    "#### `&` $\\equiv$ AND "
   ]
  },
  {
   "cell_type": "code",
   "execution_count": 50,
   "id": "b84a0835-9bc2-49a6-8932-ac2a8afe88e4",
   "metadata": {
    "slideshow": {
     "slide_type": "-"
    }
   },
   "outputs": [
    {
     "data": {
      "text/plain": [
       "0      False\n",
       "1       True\n",
       "2       True\n",
       "3       True\n",
       "4      False\n",
       "       ...  \n",
       "886    False\n",
       "887     True\n",
       "888    False\n",
       "889     True\n",
       "890    False\n",
       "Length: 891, dtype: bool"
      ]
     },
     "execution_count": 50,
     "metadata": {},
     "output_type": "execute_result"
    }
   ],
   "source": [
    "(df['age'] <= 50) & (df['survived'] == 1)\n"
   ]
  },
  {
   "cell_type": "code",
   "execution_count": 51,
   "id": "f055004c-0b32-4714-839d-84447d28de36",
   "metadata": {
    "slideshow": {
     "slide_type": "-"
    }
   },
   "outputs": [
    {
     "data": {
      "text/plain": [
       "65.58441111111112"
      ]
     },
     "execution_count": 51,
     "metadata": {},
     "output_type": "execute_result"
    }
   ],
   "source": [
    "df.loc[ \n",
    "      (df['age'] >= 50) & (df['survived'] == 1) # row index filter\n",
    "    , 'fare'                                    # selecting columns\n",
    "].mean() # query\n"
   ]
  },
  {
   "cell_type": "markdown",
   "id": "2bfef812-0132-42c6-b3c2-140365b71f15",
   "metadata": {
    "slideshow": {
     "slide_type": "slide"
    }
   },
   "source": [
    "### `|` $\\equiv$ OR"
   ]
  },
  {
   "cell_type": "code",
   "execution_count": 52,
   "id": "20584264-bfc2-4733-b989-6ad35ca1b6a9",
   "metadata": {
    "slideshow": {
     "slide_type": "-"
    }
   },
   "outputs": [
    {
     "data": {
      "text/plain": [
       "0      False\n",
       "1       True\n",
       "2       True\n",
       "3       True\n",
       "4      False\n",
       "       ...  \n",
       "886    False\n",
       "887     True\n",
       "888    False\n",
       "889     True\n",
       "890    False\n",
       "Length: 891, dtype: bool"
      ]
     },
     "execution_count": 52,
     "metadata": {},
     "output_type": "execute_result"
    }
   ],
   "source": [
    "(df['age'] >= 50) | (df['survived'] == 1)\n"
   ]
  },
  {
   "cell_type": "code",
   "execution_count": 53,
   "id": "ab892b21-07f9-4741-88ae-8e457ec9a08d",
   "metadata": {
    "slideshow": {
     "slide_type": "-"
    }
   },
   "outputs": [
    {
     "data": {
      "text/plain": [
       "0.5166666666666667"
      ]
     },
     "execution_count": 53,
     "metadata": {},
     "output_type": "execute_result"
    }
   ],
   "source": [
    "df.loc[ (df['age'] >= 50) | (df['fare'] >= 100), 'survived'].mean()\n"
   ]
  },
  {
   "cell_type": "markdown",
   "id": "b2182cbb-2b45-4250-9d7b-62e153b0f29b",
   "metadata": {
    "slideshow": {
     "slide_type": "slide"
    }
   },
   "source": [
    "### `~` $\\equiv$ NOT"
   ]
  },
  {
   "cell_type": "code",
   "execution_count": 54,
   "id": "2d3326e2-af6e-4e76-b1a5-5160e830838b",
   "metadata": {
    "slideshow": {
     "slide_type": "-"
    }
   },
   "outputs": [
    {
     "data": {
      "text/plain": [
       "0      True\n",
       "1      True\n",
       "2      True\n",
       "3      True\n",
       "4      True\n",
       "       ... \n",
       "886    True\n",
       "887    True\n",
       "888    True\n",
       "889    True\n",
       "890    True\n",
       "Length: 891, dtype: bool"
      ]
     },
     "execution_count": 54,
     "metadata": {},
     "output_type": "execute_result"
    }
   ],
   "source": [
    "~((df['age'] >= 50) | (df['fare'] >= 100))\n"
   ]
  },
  {
   "cell_type": "code",
   "execution_count": 55,
   "id": "4fe94242-b8e2-4344-85b4-9b468a793f66",
   "metadata": {
    "slideshow": {
     "slide_type": "-"
    }
   },
   "outputs": [
    {
     "data": {
      "text/plain": [
       "0.3631647211413748"
      ]
     },
     "execution_count": 55,
     "metadata": {},
     "output_type": "execute_result"
    }
   ],
   "source": [
    "df.loc[ ~((df['age'] >= 50) | (df['fare'] >= 100)), 'survived'].mean()\n"
   ]
  },
  {
   "cell_type": "markdown",
   "id": "e02ffdae-fd84-4516-b2b6-9438507eb117",
   "metadata": {
    "slideshow": {
     "slide_type": "slide"
    }
   },
   "source": [
    "## How do I compute the frequency of matches?"
   ]
  },
  {
   "cell_type": "markdown",
   "id": "32e90a97-3806-4e4d-a757-79b268a932fd",
   "metadata": {
    "slideshow": {
     "slide_type": "fragment"
    }
   },
   "source": [
    "A mean across a column of booleans (ie., a comparison) counts `True` as `1` and therefore counts the frequency of rows which match the comparison."
   ]
  },
  {
   "cell_type": "code",
   "execution_count": 56,
   "id": "5117ff29-54e3-4e1a-b896-f6c58cb41711",
   "metadata": {
    "slideshow": {
     "slide_type": "fragment"
    }
   },
   "outputs": [
    {
     "data": {
      "text/plain": [
       "0.13468013468013468"
      ]
     },
     "execution_count": 56,
     "metadata": {},
     "output_type": "execute_result"
    }
   ],
   "source": [
    "((df['age'] >= 50) | (df['fare'] >= 100)).mean()\n"
   ]
  },
  {
   "cell_type": "code",
   "execution_count": 57,
   "id": "a7c2f2ca-32a4-42b5-9057-752ac55e94fb",
   "metadata": {},
   "outputs": [
    {
     "data": {
      "text/plain": [
       "0.75"
      ]
     },
     "execution_count": 57,
     "metadata": {},
     "output_type": "execute_result"
    }
   ],
   "source": [
    "results = [True, True, False, True]\n",
    "\n",
    "sum(results)/len(results)"
   ]
  },
  {
   "cell_type": "markdown",
   "id": "33f69532-243b-4a83-bfed-06ec557fa19b",
   "metadata": {
    "slideshow": {
     "slide_type": "slide"
    }
   },
   "source": [
    "## How do I group and aggregate data?"
   ]
  },
  {
   "cell_type": "markdown",
   "id": "dc8339b0-abb9-4d63-93d4-b46b9e646390",
   "metadata": {
    "slideshow": {
     "slide_type": "fragment"
    }
   },
   "source": [
    "```\n",
    "df['column-to-be-aggregated'].groupby(\n",
    "    df['values-to-split-on']\n",
    ").summaryfn()\n",
    "```"
   ]
  },
  {
   "cell_type": "markdown",
   "id": "3d5ad90a-1b13-459d-a171-45bc68eee282",
   "metadata": {
    "slideshow": {
     "slide_type": "-"
    }
   },
   "source": [
    "* `SELECT age FROM df GROUP BY survived`\n",
    "* `SELECT age FROM df GROUP BY survived, class`\n",
    "* `SELECT age FROM df WHERE age <= 18 GROUP BY survived, class`"
   ]
  },
  {
   "cell_type": "markdown",
   "id": "dfbfd723-6eb6-44f9-969a-dfe05af6ec66",
   "metadata": {},
   "source": [
    "What is the average age of the Titanic passengers?"
   ]
  },
  {
   "cell_type": "code",
   "execution_count": 58,
   "id": "e2abceff-1a82-454a-8be4-7b57bab480f1",
   "metadata": {
    "slideshow": {
     "slide_type": "-"
    }
   },
   "outputs": [
    {
     "data": {
      "text/plain": [
       "survived\n",
       "0    22.117887\n",
       "1    48.395408\n",
       "Name: fare, dtype: float64"
      ]
     },
     "execution_count": 58,
     "metadata": {},
     "output_type": "execute_result"
    }
   ],
   "source": [
    "df['fare'].groupby(df['survived']).mean() \n"
   ]
  },
  {
   "cell_type": "code",
   "execution_count": 59,
   "id": "53a22f47-b8bb-4c93-9a60-820e4e1c4e40",
   "metadata": {
    "slideshow": {
     "slide_type": "skip"
    }
   },
   "outputs": [
    {
     "data": {
      "text/plain": [
       "survived\n",
       "0    424\n",
       "1    290\n",
       "Name: age, dtype: int64"
      ]
     },
     "execution_count": 59,
     "metadata": {},
     "output_type": "execute_result"
    }
   ],
   "source": [
    "df['age'].groupby(df['survived']).count()"
   ]
  },
  {
   "cell_type": "markdown",
   "id": "2a20054b-11b0-41b2-a91e-18cb54f440ec",
   "metadata": {
    "slideshow": {
     "slide_type": "slide"
    }
   },
   "source": [
    "```\n",
    "df['column-to-be-aggregated'].groupby(\n",
    "    df['values-to-split-on']\n",
    ").aggregationfn()\n",
    "```"
   ]
  },
  {
   "cell_type": "markdown",
   "id": "44519eb7-bd0c-4d14-beb3-ce6a19a5ae9e",
   "metadata": {
    "slideshow": {
     "slide_type": "-"
    }
   },
   "source": [
    "* `SELECT age FROM df GROUP BY survived`\n",
    "* `SELECT age FROM df GROUP BY survived, class`\n",
    "* `SELECT age FROM df WHERE age <= 18 GROUP BY survived, class`"
   ]
  },
  {
   "cell_type": "markdown",
   "id": "1324d972-b61c-4661-807e-0984e93922e5",
   "metadata": {},
   "source": [
    "## Aside: In sumary..\n",
    "\n",
    "\n",
    "* `&` and\n",
    "* `|` or\n",
    "* `~` not"
   ]
  },
  {
   "cell_type": "markdown",
   "id": "e17e9dde-84fb-41ed-ae60-e1e2faa3967e",
   "metadata": {},
   "source": [
    "## How I groupby multiple columns?"
   ]
  },
  {
   "cell_type": "code",
   "execution_count": 60,
   "id": "316fc4d8-8dd3-4ef5-baad-a586640e35f5",
   "metadata": {
    "slideshow": {
     "slide_type": "-"
    }
   },
   "outputs": [
    {
     "data": {
      "text/plain": [
       "survived  class \n",
       "0         First     64.684007\n",
       "          Second    19.412328\n",
       "          Third     13.669364\n",
       "1         First     95.608029\n",
       "          Second    22.055700\n",
       "          Third     13.694887\n",
       "Name: fare, dtype: float64"
      ]
     },
     "execution_count": 60,
     "metadata": {},
     "output_type": "execute_result"
    }
   ],
   "source": [
    "df['fare'].groupby([df['survived'], df['class']]).mean()\n"
   ]
  },
  {
   "cell_type": "markdown",
   "id": "5946393a-3ab5-4ce4-af2e-fac12184b809",
   "metadata": {
    "slideshow": {
     "slide_type": "slide"
    }
   },
   "source": [
    "```\n",
    "df['column-to-be-aggregated'].groupby(\n",
    "    df['values-to-split-on']\n",
    ").aggregationfn()\n",
    "```"
   ]
  },
  {
   "cell_type": "markdown",
   "id": "08a19583-bff3-4756-a08b-fe55fc69460f",
   "metadata": {
    "slideshow": {
     "slide_type": "-"
    }
   },
   "source": [
    "* `SELECT age FROM df GROUP BY survived`\n",
    "* `SELECT age FROM df GROUP BY survived, class`\n",
    "* `SELECT age FROM df WHERE age <= 18 GROUP BY survived, class`"
   ]
  },
  {
   "cell_type": "markdown",
   "id": "8dfbcc20-e0ef-4128-9616-796d5363b0ef",
   "metadata": {
    "slideshow": {
     "slide_type": "slide"
    }
   },
   "source": [
    "## Exercise (15 min)"
   ]
  },
  {
   "cell_type": "markdown",
   "id": "4c5c67d4-3b8d-473f-8ff8-60d4356c16bb",
   "metadata": {
    "slideshow": {
     "slide_type": "slide"
    }
   },
   "source": [
    "* find the rates of survival for different age groups\n",
    "    * `.loc[ ... , 'age']`\n",
    "    * `df['age'] <= 18`\n",
    "    * ` (df['age'] < ...) & (df['age'] > ...)`\n",
    "* analyse survival by group on \n",
    "    * class, adult_male, ...\n",
    "    * `.groupby`\n",
    "    * what column is most predictive of survival, why?\n",
    "* consider addition comparisons (eg., using `|`, `~`)...\n",
    "* EXTRA: particularly:\n",
    "    * browse pandas documentation for additional comparison operators and approaches\n",
    "    * explore and expand your analysis of:\n",
    "    * age, fare, locations, class, deck, alone\n",
    "        * and their impact on survival\n",
    "    * ie., try different filters on these\n"
   ]
  }
 ],
 "metadata": {
  "kernelspec": {
   "display_name": "Python 3 (ipykernel)",
   "language": "python",
   "name": "python3"
  },
  "language_info": {
   "codemirror_mode": {
    "name": "ipython",
    "version": 3
   },
   "file_extension": ".py",
   "mimetype": "text/x-python",
   "name": "python",
   "nbconvert_exporter": "python",
   "pygments_lexer": "ipython3",
   "version": "3.9.7"
  }
 },
 "nbformat": 4,
 "nbformat_minor": 5
}
