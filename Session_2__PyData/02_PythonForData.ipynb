{
 "cells": [
  {
   "cell_type": "markdown",
   "id": "2a58bd7b-3386-4646-8526-755a500b9dba",
   "metadata": {
    "jp-MarkdownHeadingCollapsed": true,
    "tags": []
   },
   "source": [
    "## Data, Analytics &amp; AI \n",
    "# <font color=indigo> Python For Data </font>\n",
    "\n",
    "\n",
    "---\n",
    "\n",
    "<small>QA Ltd. owns the copyright and other intellectual property rights of this material and asserts its moral rights as the author. All rights reserved.</small>"
   ]
  },
  {
   "cell_type": "markdown",
   "id": "ba62538d-904d-4a38-8d97-5ba766387782",
   "metadata": {
    "tags": []
   },
   "source": [
    "# Python Data Processing"
   ]
  },
  {
   "cell_type": "markdown",
   "id": "58fc9b91-3f00-4fe3-a75e-d9bc5acc68dd",
   "metadata": {},
   "source": [
    "When processing data sets we almost always want to repeat the same operation *for every element* of that dataset.."
   ]
  },
  {
   "cell_type": "code",
   "execution_count": 1,
   "id": "f4709123-bbaa-477c-81c2-544926a4faba",
   "metadata": {},
   "outputs": [],
   "source": [
    "balances = [1_000, 2_500, 10_678, -2_000]"
   ]
  },
  {
   "cell_type": "code",
   "execution_count": 2,
   "id": "25f57999-aea9-41f5-ad5e-8cd55b4ee546",
   "metadata": {},
   "outputs": [],
   "source": [
    "decisions = [0, 1, 1, 0]  # 0 = No, 1 = Yes"
   ]
  },
  {
   "cell_type": "markdown",
   "id": "a4a58017-be79-41ec-b03e-78b5c4404317",
   "metadata": {},
   "source": [
    "We could copy/paste,"
   ]
  },
  {
   "cell_type": "code",
   "execution_count": 3,
   "id": "d46d6069-fa61-4c16-89bf-63f6294d41b0",
   "metadata": {},
   "outputs": [
    {
     "name": "stdout",
     "output_type": "stream",
     "text": [
      "2500 Yes\n",
      "10678 Yes\n"
     ]
    }
   ],
   "source": [
    "entry = balances[0]\n",
    "if entry > 1_500:\n",
    "    print(entry, \"Yes\")\n",
    "    \n",
    "entry = balances[1]\n",
    "if entry > 1_500:\n",
    "    print(entry, \"Yes\")\n",
    "    \n",
    "    \n",
    "entry = balances[2]\n",
    "if entry > 1_500:\n",
    "    print(entry, \"Yes\")\n",
    "    \n",
    "    \n",
    "entry = balances[3]\n",
    "if entry > 1_500:\n",
    "    print(entry, \"Yes\")"
   ]
  },
  {
   "cell_type": "markdown",
   "id": "363cdd24-b96f-4d83-bb3f-ec6b34683703",
   "metadata": {},
   "source": [
    "This approach isnt sustainable, in general, we wont know how many entries in the collection there will be (eg. consider a database, file, etc.). "
   ]
  },
  {
   "cell_type": "markdown",
   "id": "e6394082-9429-45f8-8eda-bb84f3451001",
   "metadata": {},
   "source": [
    "Python has a *looping* (repeating) syntax which works on datasets,"
   ]
  },
  {
   "cell_type": "code",
   "execution_count": 4,
   "id": "79cfd97c-0c79-4722-9794-fefeb5e220e6",
   "metadata": {
    "scrolled": true
   },
   "outputs": [
    {
     "name": "stdout",
     "output_type": "stream",
     "text": [
      "2500 Yes\n",
      "10678 Yes\n"
     ]
    }
   ],
   "source": [
    "for entry in balances:  # entry = balances[index], REPEAT:\n",
    "    if entry > 1_500:\n",
    "        print(entry, \"Yes\")"
   ]
  },
  {
   "cell_type": "code",
   "execution_count": 5,
   "id": "0a2c592d-1388-4863-8d48-4c1d0beafb56",
   "metadata": {},
   "outputs": [
    {
     "data": {
      "text/plain": [
       "[1000, 2500, 10678, -2000]"
      ]
     },
     "execution_count": 5,
     "metadata": {},
     "output_type": "execute_result"
    }
   ],
   "source": [
    "balances"
   ]
  },
  {
   "cell_type": "markdown",
   "id": "8d4ddb66-ff9c-4894-87cb-ac21a313cb14",
   "metadata": {},
   "source": [
    "Consider the example below, which repeats `print()` for every entry in `balances`, "
   ]
  },
  {
   "cell_type": "code",
   "execution_count": 6,
   "id": "3ffe2eee-4f12-47bf-b329-ef1e14d4d8f9",
   "metadata": {},
   "outputs": [
    {
     "name": "stdout",
     "output_type": "stream",
     "text": [
      "1000\n",
      "2500\n",
      "10678\n",
      "-2000\n"
     ]
    }
   ],
   "source": [
    "# b = balances[index]\n",
    "for b in balances:\n",
    "    # repeat this code for each entry in balances\n",
    "    print(b)"
   ]
  },
  {
   "cell_type": "markdown",
   "id": "0bc5221e-974f-45df-97f5-c6cfe5a70e9a",
   "metadata": {},
   "source": [
    "### English Algorithms in Python"
   ]
  },
  {
   "cell_type": "markdown",
   "id": "28b5306b-8d8d-4b16-88af-29c5d99b01f4",
   "metadata": {},
   "source": [
    "Suppose, in english, I want to:\n",
    "\n",
    "```\n",
    "FOR EACH ENTRY, CALL IT b, \n",
    "    IN THE DATASET balances\n",
    "        REPORT THE VALUE of b\n",
    "            \n",
    "```\n",
    "---\n",
    "```\n",
    "FOR EACH ENTRY, CALL IT balance,\n",
    "    IN THE DATASET balances    \n",
    "            REPORT THE balance \n",
    "            AND WHETHER THE balance is MORE THAN 100\n",
    "            \n",
    "```\n",
    "---\n",
    "```\n",
    "FOR EACH ENTRY, CALL IT customer_balance,\n",
    "    IN THE DATASET balances    \n",
    "            REPORT WHETHER THE customer_balance is POSITIVE\n",
    "            \n",
    "```"
   ]
  },
  {
   "cell_type": "markdown",
   "id": "3b9bd4f5-0e0f-4fc1-bbba-4328e819d1fe",
   "metadata": {},
   "source": [
    "Let's write those in python,"
   ]
  },
  {
   "cell_type": "code",
   "execution_count": 7,
   "id": "7fc50098-6a09-48c0-bcf1-a4983ae611f4",
   "metadata": {},
   "outputs": [
    {
     "name": "stdout",
     "output_type": "stream",
     "text": [
      "1000\n",
      "2500\n",
      "10678\n",
      "-2000\n"
     ]
    }
   ],
   "source": [
    "for b  in balances:\n",
    "    print(b)"
   ]
  },
  {
   "cell_type": "code",
   "execution_count": 8,
   "id": "100dfbd0-0589-412c-8921-05b7925b6f88",
   "metadata": {},
   "outputs": [
    {
     "name": "stdout",
     "output_type": "stream",
     "text": [
      "1000 is more than 100\n",
      "2500 is more than 100\n",
      "10678 is more than 100\n"
     ]
    }
   ],
   "source": [
    "for balance in balances:\n",
    "    if balance > 100:\n",
    "        print(balance, \"is more than 100\")"
   ]
  },
  {
   "cell_type": "code",
   "execution_count": 9,
   "id": "e7833a57-c84e-4eee-91b4-004d6967994a",
   "metadata": {},
   "outputs": [
    {
     "name": "stdout",
     "output_type": "stream",
     "text": [
      "1000 is positive\n",
      "2500 is positive\n",
      "10678 is positive\n"
     ]
    }
   ],
   "source": [
    "for customer_balance in balances:\n",
    "    if customer_balance > 0:\n",
    "        print(customer_balance, \"is positive\")"
   ]
  },
  {
   "cell_type": "markdown",
   "id": "26cfc878-d8ba-4dd5-8038-7598902cf8a2",
   "metadata": {},
   "source": [
    "## Understanding the Syntax"
   ]
  },
  {
   "cell_type": "markdown",
   "id": "426b0474-4826-4b6a-8f6a-93fc777d2841",
   "metadata": {},
   "source": [
    "```python\n",
    "\n",
    "for TEMPORARY_NAME_OF_ENTRY in EXISTING_DATASET\n",
    "REPEAT:\n",
    "        CODE_TO_REPEAT( TEMPORARY_NAME_OF_ENTRY )\n",
    "\n",
    "```"
   ]
  },
  {
   "cell_type": "markdown",
   "id": "e37dd74d-22c5-4f2e-95b9-2edfd8934a63",
   "metadata": {},
   "source": [
    "We can loop over lots of different types of collections,"
   ]
  },
  {
   "cell_type": "code",
   "execution_count": 10,
   "id": "5f3be462-a6b7-496c-a50a-73cc6990e6ee",
   "metadata": {},
   "outputs": [],
   "source": [
    "names = [\"Alice\", \"Eve\", \"Bob\"]"
   ]
  },
  {
   "cell_type": "code",
   "execution_count": 11,
   "id": "60afdf45-0818-42bc-9945-9dc5091226f9",
   "metadata": {},
   "outputs": [
    {
     "name": "stdout",
     "output_type": "stream",
     "text": [
      "A\n",
      "E\n",
      "B\n"
     ]
    }
   ],
   "source": [
    "for n in names: \n",
    "    print(n[0].upper()) # uppercase first letter"
   ]
  },
  {
   "cell_type": "code",
   "execution_count": 12,
   "id": "2ef543be-7f19-4ddc-a9b1-39b23328d1a0",
   "metadata": {},
   "outputs": [
    {
     "name": "stdout",
     "output_type": "stream",
     "text": [
      "The price is £2.00\n",
      "The price is £54.00\n",
      "The price is £7.00\n"
     ]
    }
   ],
   "source": [
    "prices = [2, 54, 7]\n",
    "\n",
    "for p in prices:\n",
    "    print(f\"The price is £{p}.00\")"
   ]
  },
  {
   "cell_type": "markdown",
   "id": "204d4220-bda7-4079-8e12-c25346a7fd55",
   "metadata": {},
   "source": [
    "## Exercise\n",
    "\n",
    "### Part 1\n",
    "Consider the survey below which asks several questions and records their answers..."
   ]
  },
  {
   "cell_type": "code",
   "execution_count": 13,
   "id": "a1284060-5522-4656-a54e-1d92de297132",
   "metadata": {},
   "outputs": [],
   "source": [
    "questions = [\n",
    "    \"How happy are you working from home (/5)?\",\n",
    "    \"How technical is technical is your job (/5)?\",\n",
    "    \"To what degree have you saved money (-5, 5)?\",    \n",
    "]"
   ]
  },
  {
   "cell_type": "code",
   "execution_count": 14,
   "id": "e869bc5d-6611-42fb-ba9d-53ba88a8a24d",
   "metadata": {},
   "outputs": [],
   "source": [
    "# answers = []\n",
    "\n",
    "# for q in questions:\n",
    "#     answer = input(q)\n",
    "    \n",
    "#     answers.append(answer)"
   ]
  },
  {
   "cell_type": "code",
   "execution_count": 15,
   "id": "02df71f7-0152-4310-b0d3-87a3ca1fa406",
   "metadata": {},
   "outputs": [],
   "source": [
    "# answers"
   ]
  },
  {
   "cell_type": "markdown",
   "id": "f99754e6-d392-4338-96f7-3fdb96d99abe",
   "metadata": {},
   "source": [
    "* Modify the above loop to \n",
    "    * store the `float()` of your answer\n",
    "        * HINT: use `float()` on anwers\n",
    "    * print the answer \n",
    "        * EXTRA: f\"\" to add a little formatting\n",
    "        * eg., \"Your answer was...\""
   ]
  },
  {
   "cell_type": "markdown",
   "id": "392b3812-356d-4e0e-8699-d56cdbaa28fe",
   "metadata": {},
   "source": [
    "### Part 2"
   ]
  },
  {
   "cell_type": "markdown",
   "id": "303751e1-1db9-4a7e-82ad-58d94822be7c",
   "metadata": {},
   "source": [
    "* write a loop over the `answers` variable \n",
    "    * if any answer is more than 3, report \"That's Bad!\"\n",
    "    * otherwise, report \"That's GOOD!\"\n",
    "    \n",
    "* HINT:\n",
    "```python\n",
    "for .. in ..: \n",
    "    if ....:\n",
    "    ...\n",
    "    else:\n",
    "    ...\n",
    "```"
   ]
  },
  {
   "cell_type": "markdown",
   "id": "bdc2e8d7-db78-4c73-a652-b0dd6f195df8",
   "metadata": {},
   "source": [
    "## Advanced: Built-In Operations for Looping"
   ]
  },
  {
   "cell_type": "markdown",
   "id": "8453fa71-40d2-4256-bc9b-c36007a7a0f2",
   "metadata": {},
   "source": [
    "Python has some built-in operations that help us when looping some specific situations,\n",
    "\n",
    "* `zip()`\n",
    "* `range()`\n",
    "* others\n",
    "    * `enumerate()`\n"
   ]
  },
  {
   "cell_type": "code",
   "execution_count": 16,
   "id": "240c9e9c-92de-42d6-8c83-7f6976952135",
   "metadata": {},
   "outputs": [
    {
     "name": "stdout",
     "output_type": "stream",
     "text": [
      "0\n",
      "2\n",
      "4\n",
      "6\n",
      "8\n"
     ]
    }
   ],
   "source": [
    "for i in range(0, 10, 2):\n",
    "    print(i)"
   ]
  },
  {
   "cell_type": "code",
   "execution_count": 17,
   "id": "ba58c77a-6759-47c6-86cd-4596fc1d8dd9",
   "metadata": {},
   "outputs": [
    {
     "name": "stdout",
     "output_type": "stream",
     "text": [
      "10 R\n",
      "23 G\n",
      "13 B\n"
     ]
    }
   ],
   "source": [
    "numbers = [10, 23, 13]\n",
    "colors = [\"R\", \"G\", \"B\"]\n",
    "\n",
    "for n, c in zip(numbers, colors):\n",
    "    print(n, c)"
   ]
  },
  {
   "cell_type": "code",
   "execution_count": 18,
   "id": "be8801a5-7d36-48d7-8311-45d880243e66",
   "metadata": {},
   "outputs": [
    {
     "name": "stdout",
     "output_type": "stream",
     "text": [
      "0 10 R\n",
      "1 23 G\n",
      "2 13 B\n"
     ]
    }
   ],
   "source": [
    "numbers = [10, 23, 13]\n",
    "colors = [\"R\", \"G\", \"B\"]\n",
    "\n",
    "for i, n, c in zip(range(0, 3), numbers, colors):\n",
    "    print(i, n, c)"
   ]
  },
  {
   "cell_type": "code",
   "execution_count": 19,
   "id": "61cdfc24-9d8c-4b23-833f-face64f46835",
   "metadata": {},
   "outputs": [
    {
     "name": "stdout",
     "output_type": "stream",
     "text": [
      "0 R\n",
      "1 G\n",
      "2 B\n"
     ]
    }
   ],
   "source": [
    "colors = [\"R\", \"G\", \"B\"]\n",
    "\n",
    "for i, c in enumerate(colors): # enumerate = range + zip\n",
    "    print(i, c)"
   ]
  },
  {
   "cell_type": "markdown",
   "id": "3c3eda3f-f371-4e23-ac3b-4d7228b67c33",
   "metadata": {
    "tags": []
   },
   "source": [
    "## Recap: Why Python?\n",
    "\n",
    "(because it has lots of useful libraries...)"
   ]
  },
  {
   "cell_type": "markdown",
   "id": "4bb4faf2-b123-4721-887a-cb503be9cad4",
   "metadata": {},
   "source": [
    "The `import` keywords loads external \"libraries\" (systems of tools) that can solve various problems..."
   ]
  },
  {
   "cell_type": "markdown",
   "id": "5b20656f-8d03-4117-a7c7-e638f00cb39c",
   "metadata": {},
   "source": [
    "very fast numerical programming"
   ]
  },
  {
   "cell_type": "code",
   "execution_count": 20,
   "id": "ac823e64-b90e-4a35-8492-84f2fd141e46",
   "metadata": {},
   "outputs": [],
   "source": [
    "import numpy"
   ]
  },
  {
   "cell_type": "markdown",
   "id": "499dbbbe-7a5e-40b6-b05e-c3386db9019d",
   "metadata": {},
   "source": [
    "very fast spreadsheet/tabular data processing"
   ]
  },
  {
   "cell_type": "code",
   "execution_count": 21,
   "id": "ae817b8c-6200-4067-b171-8237bc4812ea",
   "metadata": {},
   "outputs": [],
   "source": [
    "import pandas"
   ]
  },
  {
   "cell_type": "markdown",
   "id": "41621355-cfde-4bb4-aec9-76a6b0f38495",
   "metadata": {},
   "source": [
    "very fast visualization..."
   ]
  },
  {
   "cell_type": "code",
   "execution_count": 22,
   "id": "15021bad-efac-4d23-9fd5-4dd19a772ae0",
   "metadata": {},
   "outputs": [],
   "source": [
    "import seaborn"
   ]
  },
  {
   "cell_type": "markdown",
   "id": "3f69d640-ea77-4963-937b-872f1b5798ce",
   "metadata": {},
   "source": [
    "very fast predictive analysis (\"machine learning\")"
   ]
  },
  {
   "cell_type": "code",
   "execution_count": 23,
   "id": "d43d90a2-cced-4d94-96a9-2d4a720596bd",
   "metadata": {},
   "outputs": [],
   "source": [
    "import sklearn"
   ]
  },
  {
   "cell_type": "markdown",
   "id": "5bb85b62-ac0c-4666-88c5-1744c7e0c3a0",
   "metadata": {},
   "source": [
    "...some problem-specifc ones..."
   ]
  },
  {
   "cell_type": "markdown",
   "id": "2b699f20-76ae-4b83-95fc-22d58fa618fb",
   "metadata": {},
   "source": [
    "quite good network analysis"
   ]
  },
  {
   "cell_type": "code",
   "execution_count": 24,
   "id": "be7c73b9-dcd4-4f68-93cb-f6a37b6849f3",
   "metadata": {},
   "outputs": [],
   "source": [
    "import networkx"
   ]
  },
  {
   "cell_type": "markdown",
   "id": "0cc88529-7784-472e-a4b4-7f7935b698a8",
   "metadata": {},
   "source": [
    "Eg., loading the natural language toolkit..."
   ]
  },
  {
   "cell_type": "code",
   "execution_count": 25,
   "id": "e39e7a3a-79cc-487c-b58d-001a4d6d8111",
   "metadata": {},
   "outputs": [],
   "source": [
    "import nltk"
   ]
  },
  {
   "cell_type": "markdown",
   "id": "a389fc1a-13d1-4909-9675-7e90b9a05a0a",
   "metadata": {
    "slideshow": {
     "slide_type": "slide"
    }
   },
   "source": [
    "## What are the python data science and analysis libraries?"
   ]
  },
  {
   "cell_type": "markdown",
   "id": "50be0d1a-7e73-4ad4-8fa3-f6c699070f70",
   "metadata": {
    "slideshow": {
     "slide_type": "fragment"
    }
   },
   "source": [
    "* NumPy\n",
    "    * fast lists ( aka. arrays)\n",
    "* Pandas\n",
    "    * provides single-machine dataframes (aka. tables)\n",
    "* Seaborn & matplotlib\n",
    "    * visualization\n",
    "    \n",
    "    \n",
    "* Spark\n",
    "    * query over distributed file systems \n",
    "* plotly\n",
    "    * interactive visuals\n",
    "* scipy, sklearn, tensorflow, pytorch, statsmodels\n",
    "    * scientific & statistical programming\n",
    "* Aside:\n",
    "    * NB. sqlite3 is written in C"
   ]
  },
  {
   "cell_type": "markdown",
   "id": "770121f4-20a7-45ad-9abc-9bf0146cb696",
   "metadata": {
    "slideshow": {
     "slide_type": "slide"
    }
   },
   "source": [
    "## Why do we *need* to use them?"
   ]
  },
  {
   "cell_type": "markdown",
   "id": "e61051fe-6e2e-460f-a196-1c5cc92f6da1",
   "metadata": {
    "slideshow": {
     "slide_type": "fragment"
    }
   },
   "source": [
    "Python is very very very slow & memory inefficient"
   ]
  },
  {
   "cell_type": "code",
   "execution_count": 26,
   "id": "96f2421a-c13f-4670-905f-4846dada2130",
   "metadata": {
    "slideshow": {
     "slide_type": "slide"
    }
   },
   "outputs": [],
   "source": [
    "from random import random\n"
   ]
  },
  {
   "cell_type": "code",
   "execution_count": 27,
   "id": "42900470-a223-4a6d-b016-ed8ea5197fb4",
   "metadata": {
    "slideshow": {
     "slide_type": "-"
    }
   },
   "outputs": [],
   "source": [
    "dataset = []\n",
    "\n",
    "for _ in range(1_000_000):\n",
    "    dataset.append(random())\n",
    "    "
   ]
  },
  {
   "cell_type": "code",
   "execution_count": 28,
   "id": "5e2eba11-ce9d-4b0a-be86-d9ca30969d76",
   "metadata": {
    "slideshow": {
     "slide_type": "-"
    }
   },
   "outputs": [
    {
     "name": "stdout",
     "output_type": "stream",
     "text": [
      "46.5 ms ± 7.66 ms per loop (mean ± std. dev. of 7 runs, 10 loops each)\n"
     ]
    }
   ],
   "source": [
    "%%timeit\n",
    "   \n",
    "total = 0\n",
    "\n",
    "for x in dataset:\n",
    "    total += x"
   ]
  },
  {
   "cell_type": "code",
   "execution_count": 29,
   "id": "a23172d4-37e3-4197-b8ef-43dc560b3f6e",
   "metadata": {
    "slideshow": {
     "slide_type": "fragment"
    }
   },
   "outputs": [],
   "source": [
    "import numpy as np\n"
   ]
  },
  {
   "cell_type": "code",
   "execution_count": 30,
   "id": "ac017b11-9bb7-4e0d-b5ea-c3a6d7491dac",
   "metadata": {
    "slideshow": {
     "slide_type": "-"
    }
   },
   "outputs": [],
   "source": [
    "ds = np.random.uniform(0, 1, 1_000_000)\n"
   ]
  },
  {
   "cell_type": "code",
   "execution_count": 31,
   "id": "cac5966b-7be7-4c2d-afdf-1d3e76313b5a",
   "metadata": {
    "slideshow": {
     "slide_type": "-"
    }
   },
   "outputs": [
    {
     "name": "stdout",
     "output_type": "stream",
     "text": [
      "1.08 ms ± 64.9 µs per loop (mean ± std. dev. of 7 runs, 1000 loops each)\n"
     ]
    }
   ],
   "source": [
    "%%timeit\n",
    "\n",
    "ds.sum()\n"
   ]
  },
  {
   "cell_type": "code",
   "execution_count": 32,
   "id": "0883676a-4fc5-4c7e-912d-d1aea6fd2eee",
   "metadata": {},
   "outputs": [
    {
     "data": {
      "text/plain": [
       "44.0"
      ]
     },
     "execution_count": 32,
     "metadata": {},
     "output_type": "execute_result"
    }
   ],
   "source": [
    "22E-3 / 500E-6 "
   ]
  },
  {
   "cell_type": "markdown",
   "id": "702b1ea4-a0c7-4fbc-b86b-b61548155682",
   "metadata": {},
   "source": [
    "Note here the python `for` loop is *44x* slower than the equivalent `.sum()` using `numpy`. "
   ]
  },
  {
   "cell_type": "markdown",
   "id": "74fadee5-ade3-4c40-bc24-7e5f9ca86084",
   "metadata": {
    "slideshow": {
     "slide_type": "slide"
    }
   },
   "source": [
    "## How do these other libraries beat python?"
   ]
  },
  {
   "cell_type": "markdown",
   "id": "3afccdde-3108-4206-8284-c928ebf1d566",
   "metadata": {
    "slideshow": {
     "slide_type": "fragment"
    }
   },
   "source": [
    "They aren't python... they are written in FORTRAN and C. So when you call `.sum()` you are *NOT* running `python` code, by mostly FORTRAN code. "
   ]
  },
  {
   "cell_type": "markdown",
   "id": "34344c04-4e38-4bb1-8f94-86dfd30f16a3",
   "metadata": {},
   "source": [
    "If you use python keywords (eg., `for`) your program will be very slow. These libraries are not *written in python*, they are compiled from other languages and are \"available\" from python. "
   ]
  },
  {
   "cell_type": "markdown",
   "id": "9c80f137-456c-4671-a796-07ca6cc16a2d",
   "metadata": {
    "slideshow": {
     "slide_type": "slide"
    }
   },
   "source": [
    "### Python is very very very slow & memory inefficient"
   ]
  },
  {
   "cell_type": "markdown",
   "id": "57d8f5aa-d6d8-4659-8929-cce1326897f7",
   "metadata": {
    "slideshow": {
     "slide_type": "fragment"
    }
   },
   "source": [
    "Python uses $10\\%$ more memory:"
   ]
  },
  {
   "cell_type": "code",
   "execution_count": 33,
   "id": "58a50d1f-5fb1-46e8-9811-ce9f774f6cb5",
   "metadata": {
    "slideshow": {
     "slide_type": "-"
    }
   },
   "outputs": [
    {
     "data": {
      "text/plain": [
       "10.0"
      ]
     },
     "execution_count": 33,
     "metadata": {},
     "output_type": "execute_result"
    }
   ],
   "source": [
    "import sys\n",
    "100 * round(1 -  ds.nbytes / sys.getsizeof(dataset), 1)\n"
   ]
  },
  {
   "cell_type": "markdown",
   "id": "939fd527-2470-40b8-b08f-d3741d280238",
   "metadata": {
    "slideshow": {
     "slide_type": "fragment"
    }
   },
   "source": [
    "And `NumPy` is, here, $10$x faster... (often much more than this...)"
   ]
  },
  {
   "cell_type": "code",
   "execution_count": 34,
   "id": "370460a4-8574-450d-99a6-f3bae41863a8",
   "metadata": {
    "slideshow": {
     "slide_type": "-"
    }
   },
   "outputs": [
    {
     "data": {
      "text/plain": [
       "9.2"
      ]
     },
     "execution_count": 34,
     "metadata": {},
     "output_type": "execute_result"
    }
   ],
   "source": [
    "#     3.7 ms / 404 µs\n",
    "round(3.7E-3/404E-6, 1)\n"
   ]
  },
  {
   "cell_type": "markdown",
   "id": "74f0ccb5-5514-4198-8e52-77fe795ccf83",
   "metadata": {
    "tags": []
   },
   "source": [
    "## Python Data Science Libraries"
   ]
  },
  {
   "cell_type": "markdown",
   "id": "5fac8204-09d2-44bf-b842-4c0139c0812d",
   "metadata": {},
   "source": [
    "Python data science libraries have conventional *aliases*."
   ]
  },
  {
   "cell_type": "markdown",
   "id": "a93e23f5-3c05-4d7b-ad8b-c39ee765a15e",
   "metadata": {},
   "source": [
    "Python data science libraries are extremely fast *additions* to python which add highly efficient data processing tools.\n",
    "\n",
    "Python itself is very slow (`for`, `if`, etc. are slow! as are lists...). These additions build in much faster data structures & operations. "
   ]
  },
  {
   "cell_type": "markdown",
   "id": "46c8280e-0794-4071-8aab-8a56a9573041",
   "metadata": {},
   "source": [
    "### Pandas"
   ]
  },
  {
   "cell_type": "markdown",
   "id": "e4911eb3-5da1-4046-b06a-567c55a11f0f",
   "metadata": {},
   "source": [
    "For tabular data, the data structure is called a \"DataFrame\" (aka. Table), "
   ]
  },
  {
   "cell_type": "code",
   "execution_count": 35,
   "id": "50947148-04a0-4a52-a77d-8118fc18c5c5",
   "metadata": {},
   "outputs": [],
   "source": [
    "import pandas as pd"
   ]
  },
  {
   "cell_type": "code",
   "execution_count": 36,
   "id": "ca71cfe3-a1b3-404e-92c0-ffe3ba9fe9c6",
   "metadata": {},
   "outputs": [],
   "source": [
    "film_db = {\n",
    "    'ratings': [7, 8, 9],\n",
    "    'sweets': [12, 15, 29]\n",
    "}"
   ]
  },
  {
   "cell_type": "markdown",
   "id": "e0fefd85-6b4a-40f0-b19b-6816bdcbb5af",
   "metadata": {},
   "source": [
    "A generic variable name `df` is often used, "
   ]
  },
  {
   "cell_type": "code",
   "execution_count": 37,
   "id": "461d236b-5096-437e-ad64-e1afd85b9c79",
   "metadata": {},
   "outputs": [],
   "source": [
    "df = pd.DataFrame(film_db)"
   ]
  },
  {
   "cell_type": "code",
   "execution_count": 38,
   "id": "2010f371-6819-4255-af2e-5bf1478fa236",
   "metadata": {},
   "outputs": [
    {
     "data": {
      "text/html": [
       "<div>\n",
       "<style scoped>\n",
       "    .dataframe tbody tr th:only-of-type {\n",
       "        vertical-align: middle;\n",
       "    }\n",
       "\n",
       "    .dataframe tbody tr th {\n",
       "        vertical-align: top;\n",
       "    }\n",
       "\n",
       "    .dataframe thead th {\n",
       "        text-align: right;\n",
       "    }\n",
       "</style>\n",
       "<table border=\"1\" class=\"dataframe\">\n",
       "  <thead>\n",
       "    <tr style=\"text-align: right;\">\n",
       "      <th></th>\n",
       "      <th>ratings</th>\n",
       "      <th>sweets</th>\n",
       "    </tr>\n",
       "  </thead>\n",
       "  <tbody>\n",
       "    <tr>\n",
       "      <th>0</th>\n",
       "      <td>7</td>\n",
       "      <td>12</td>\n",
       "    </tr>\n",
       "    <tr>\n",
       "      <th>1</th>\n",
       "      <td>8</td>\n",
       "      <td>15</td>\n",
       "    </tr>\n",
       "    <tr>\n",
       "      <th>2</th>\n",
       "      <td>9</td>\n",
       "      <td>29</td>\n",
       "    </tr>\n",
       "  </tbody>\n",
       "</table>\n",
       "</div>"
      ],
      "text/plain": [
       "   ratings  sweets\n",
       "0        7      12\n",
       "1        8      15\n",
       "2        9      29"
      ]
     },
     "execution_count": 38,
     "metadata": {},
     "output_type": "execute_result"
    }
   ],
   "source": [
    "df"
   ]
  },
  {
   "cell_type": "markdown",
   "id": "592c8524-396f-49aa-b70d-9f8a948f08e4",
   "metadata": {},
   "source": [
    "**Q. Define your own dataframe called `health`, a healthcare dataset with `HeartRate` and `BloodPressure` columns.**"
   ]
  },
  {
   "cell_type": "markdown",
   "id": "345cfc2c-c907-40a7-9388-e7f22c8323fb",
   "metadata": {},
   "source": [
    "### NumPy"
   ]
  },
  {
   "cell_type": "markdown",
   "id": "c96e73ab-da18-4f91-9820-d0197596ec4d",
   "metadata": {},
   "source": [
    "Pandas uses numpy. Numpy provides a fast \"list\" data structure, called an array. "
   ]
  },
  {
   "cell_type": "code",
   "execution_count": 39,
   "id": "662356f5-90d4-45b8-b94c-263efff9600b",
   "metadata": {},
   "outputs": [],
   "source": [
    "y_like = [1, 1, 0, 1, 0, 0]"
   ]
  },
  {
   "cell_type": "code",
   "execution_count": 40,
   "id": "00090bdc-0795-4052-8840-26b1bad23b97",
   "metadata": {},
   "outputs": [],
   "source": [
    "import numpy as np"
   ]
  },
  {
   "cell_type": "code",
   "execution_count": 41,
   "id": "77205f55-688b-463f-a964-f60e53da3484",
   "metadata": {},
   "outputs": [],
   "source": [
    "array = np.array(y_like)"
   ]
  },
  {
   "cell_type": "code",
   "execution_count": 42,
   "id": "97058818-610d-4b95-8535-a2a7dceedfcb",
   "metadata": {},
   "outputs": [
    {
     "data": {
      "text/plain": [
       "array([1, 1, 0, 1, 0, 0])"
      ]
     },
     "execution_count": 42,
     "metadata": {},
     "output_type": "execute_result"
    }
   ],
   "source": [
    "array # much faster than python's"
   ]
  },
  {
   "cell_type": "code",
   "execution_count": 43,
   "id": "5bd6ed50-15f9-4e67-b4cb-449c5d3b167e",
   "metadata": {},
   "outputs": [
    {
     "data": {
      "text/plain": [
       "0.5"
      ]
     },
     "execution_count": 43,
     "metadata": {},
     "output_type": "execute_result"
    }
   ],
   "source": [
    "array.mean() # much faster than python's"
   ]
  },
  {
   "cell_type": "markdown",
   "id": "caa1d5de-bba3-43c5-891e-05a781d16701",
   "metadata": {},
   "source": [
    "### Seaborn"
   ]
  },
  {
   "cell_type": "markdown",
   "id": "83bfba3d-a6c4-4c95-9ae1-3dd39f48719b",
   "metadata": {},
   "source": [
    "Seaborn is a simplified charting/plotting library,"
   ]
  },
  {
   "cell_type": "code",
   "execution_count": 44,
   "id": "1843b5c9-831b-481e-8840-edab4bfa9116",
   "metadata": {},
   "outputs": [],
   "source": [
    "# draw the plots in the notebook\n",
    "%matplotlib inline  \n",
    "\n",
    "import seaborn as sns"
   ]
  },
  {
   "cell_type": "code",
   "execution_count": 45,
   "id": "7cb4af71-8481-4a50-baa2-c32d56311875",
   "metadata": {},
   "outputs": [
    {
     "data": {
      "text/plain": [
       "<AxesSubplot:>"
      ]
     },
     "execution_count": 45,
     "metadata": {},
     "output_type": "execute_result"
    },
    {
     "data": {
      "image/png": "[encoded data removed]",
      "text/plain": [
       "<Figure size 432x288 with 1 Axes>"
      ]
     },
     "metadata": {
      "needs_background": "light"
     },
     "output_type": "display_data"
    }
   ],
   "source": [
    "sns.lineplot(x=[1, 2.2, 3], y=[3, 4, 5])"
   ]
  },
  {
   "cell_type": "markdown",
   "id": "b5f89ace-280a-4fea-ae4e-d6389cfe85de",
   "metadata": {},
   "source": [
    "**Q. with your health data, use `sns.scatterplot(x=.., y..)` to draw. Where `x=health['HeartRate']` and `y=health['BloodPressure']`.**"
   ]
  },
  {
   "cell_type": "markdown",
   "id": "faf3ade7-73b0-4745-a7a8-30d5da18511d",
   "metadata": {},
   "source": [
    "#### matplotlib: the underlying library of seaborn"
   ]
  },
  {
   "cell_type": "code",
   "execution_count": 46,
   "id": "8dc25bbf-d0c0-4177-bb3e-6d024d4eb95d",
   "metadata": {},
   "outputs": [],
   "source": [
    "%matplotlib inline\n",
    "import matplotlib.pyplot as plt"
   ]
  },
  {
   "cell_type": "code",
   "execution_count": 47,
   "id": "90683872-25fd-4a8f-a1fe-995e566e672c",
   "metadata": {},
   "outputs": [
    {
     "data": {
      "text/plain": [
       "<matplotlib.collections.PathCollection at 0x2140cbad3a0>"
      ]
     },
     "execution_count": 47,
     "metadata": {},
     "output_type": "execute_result"
    },
    {
     "data": {
      "image/png": "[encoded data removed]",
      "text/plain": [
       "<Figure size 432x288 with 1 Axes>"
      ]
     },
     "metadata": {
      "needs_background": "light"
     },
     "output_type": "display_data"
    }
   ],
   "source": [
    "plt.plot([1, 2, 3], [2, 4, 6])\n",
    "plt.scatter([1.1, 1.9, 3.1], [2, 4, 6])"
   ]
  },
  {
   "cell_type": "markdown",
   "id": "ca915950-279c-4b9a-8284-1d35bd4ac6e0",
   "metadata": {},
   "source": [
    "## Sci-Kit Learn"
   ]
  },
  {
   "cell_type": "markdown",
   "id": "3d05dd17-37ee-4c86-95ba-4f348048a5cf",
   "metadata": {},
   "source": [
    "`sklean` is the mainstream simple machine learning library for python. As it is a collection of library, you almost always use `from sklearn import AMoreSpecificLibrary`. "
   ]
  },
  {
   "cell_type": "code",
   "execution_count": 48,
   "id": "df135806-0f1f-4244-bd0c-24d992188039",
   "metadata": {},
   "outputs": [],
   "source": [
    "from sklearn.linear_model import LinearRegression"
   ]
  },
  {
   "cell_type": "code",
   "execution_count": 49,
   "id": "c4a9c2e6-8100-4241-9731-1a95003ae42e",
   "metadata": {},
   "outputs": [
    {
     "data": {
      "text/html": [
       "<div>\n",
       "<style scoped>\n",
       "    .dataframe tbody tr th:only-of-type {\n",
       "        vertical-align: middle;\n",
       "    }\n",
       "\n",
       "    .dataframe tbody tr th {\n",
       "        vertical-align: top;\n",
       "    }\n",
       "\n",
       "    .dataframe thead th {\n",
       "        text-align: right;\n",
       "    }\n",
       "</style>\n",
       "<table border=\"1\" class=\"dataframe\">\n",
       "  <thead>\n",
       "    <tr style=\"text-align: right;\">\n",
       "      <th></th>\n",
       "      <th>ratings</th>\n",
       "      <th>sweets</th>\n",
       "    </tr>\n",
       "  </thead>\n",
       "  <tbody>\n",
       "    <tr>\n",
       "      <th>0</th>\n",
       "      <td>7</td>\n",
       "      <td>12</td>\n",
       "    </tr>\n",
       "    <tr>\n",
       "      <th>1</th>\n",
       "      <td>8</td>\n",
       "      <td>15</td>\n",
       "    </tr>\n",
       "    <tr>\n",
       "      <th>2</th>\n",
       "      <td>9</td>\n",
       "      <td>29</td>\n",
       "    </tr>\n",
       "  </tbody>\n",
       "</table>\n",
       "</div>"
      ],
      "text/plain": [
       "   ratings  sweets\n",
       "0        7      12\n",
       "1        8      15\n",
       "2        9      29"
      ]
     },
     "execution_count": 49,
     "metadata": {},
     "output_type": "execute_result"
    }
   ],
   "source": [
    "df"
   ]
  },
  {
   "cell_type": "markdown",
   "id": "a4b3bb62-bd6a-496b-9404-3be24cc5eb35",
   "metadata": {},
   "source": [
    "All the Machine \"Learning\" happens in this line, "
   ]
  },
  {
   "cell_type": "code",
   "execution_count": 50,
   "id": "64161565-82ad-4d82-a35b-692f69c3dc23",
   "metadata": {},
   "outputs": [],
   "source": [
    "X = df[['sweets']]\n",
    "y = df['ratings']\n",
    "\n",
    "lm = LinearRegression().fit(X,y)"
   ]
  },
  {
   "cell_type": "markdown",
   "id": "df9e5478-15e6-4c15-aef2-2f17e9596811",
   "metadata": {},
   "source": [
    "**Q. Run `lm.score(X, y)` -- what does this tell you?**"
   ]
  },
  {
   "cell_type": "code",
   "execution_count": 51,
   "id": "f693c29f-bfa0-4da4-b164-1925d532d2dd",
   "metadata": {},
   "outputs": [
    {
     "name": "stdout",
     "output_type": "stream",
     "text": [
      "The slope is:  0.1\n",
      "The intercept is: 6.07\n"
     ]
    }
   ],
   "source": [
    "print(\"The slope is: \", lm.coef_[0].round(2))\n",
    "print(\"The intercept is:\", lm.intercept_.round(2))"
   ]
  },
  {
   "cell_type": "code",
   "execution_count": 52,
   "id": "ed01f536-e19b-43f4-959f-50421811c0a1",
   "metadata": {},
   "outputs": [
    {
     "name": "stderr",
     "output_type": "stream",
     "text": [
      "C:\\Users\\Thomas Holmes\\.conda\\envs\\ppds\\lib\\site-packages\\sklearn\\base.py:450: UserWarning: X does not have valid feature names, but LinearRegression was fitted with feature names\n",
      "  warnings.warn(\n"
     ]
    }
   ],
   "source": [
    "yhat_ratings = lm.predict([\n",
    "    [10],\n",
    "    [20]\n",
    "])"
   ]
  },
  {
   "cell_type": "code",
   "execution_count": 53,
   "id": "65b46c33-1fff-47c4-83a8-164dd6cd4054",
   "metadata": {},
   "outputs": [
    {
     "name": "stdout",
     "output_type": "stream",
     "text": [
      "Some ratings predictions,  [7.10526316 8.13765182]\n"
     ]
    }
   ],
   "source": [
    "print(\"Some ratings predictions, \", yhat_ratings)"
   ]
  },
  {
   "cell_type": "markdown",
   "id": "46f0f17a-843a-40ca-a4c9-e9f5ec4902eb",
   "metadata": {},
   "source": [
    "Aside: polynomial regression, see https://scikit-learn.org/stable/modules/generated/sklearn.preprocessing.PolynomialFeatures.html\n"
   ]
  }
 ],
 "metadata": {
  "kernelspec": {
   "display_name": "Python 3 (ipykernel)",
   "language": "python",
   "name": "python3"
  },
  "language_info": {
   "codemirror_mode": {
    "name": "ipython",
    "version": 3
   },
   "file_extension": ".py",
   "mimetype": "text/x-python",
   "name": "python",
   "nbconvert_exporter": "python",
   "pygments_lexer": "ipython3",
   "version": "3.8.12"
  }
 },
 "nbformat": 4,
 "nbformat_minor": 5
}
