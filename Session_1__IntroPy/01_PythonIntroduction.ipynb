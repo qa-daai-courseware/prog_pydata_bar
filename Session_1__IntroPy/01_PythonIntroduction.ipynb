{
 "cells": [
  {
   "cell_type": "markdown",
   "id": "14afee45-80e6-4925-9309-a5a09062bc0b",
   "metadata": {
    "jp-MarkdownHeadingCollapsed": true,
    "tags": []
   },
   "source": [
    "## Data, Analytics &amp; AI \n",
    "# <font color=indigo> Python Programming </font>\n",
    "\n",
    "\n",
    "---\n",
    "\n",
    "<small>QA Ltd. owns the copyright and other intellectual property rights of this material and asserts its moral rights as the author. All rights reserved.</small>"
   ]
  },
  {
   "cell_type": "markdown",
   "id": "78b827c3-77af-4403-8238-46e28948e80a",
   "metadata": {
    "tags": []
   },
   "source": [
    "## Part 1: Why Python?\n",
    "\n",
    "(because it has lots of useful libraries...)"
   ]
  },
  {
   "cell_type": "markdown",
   "id": "6ecc7fb5-8051-4071-9ef9-a8e750ea9432",
   "metadata": {},
   "source": [
    "The `import` keywords loads external \"libraries\" (systems of tools) that can solve various problems..."
   ]
  },
  {
   "cell_type": "markdown",
   "id": "2f65d873-45bd-4664-afe4-9696ddad72e1",
   "metadata": {},
   "source": [
    "very fast numerical programming"
   ]
  },
  {
   "cell_type": "code",
   "execution_count": 6,
   "id": "9ca0fa16-41e9-405c-b09c-06f37ad2f309",
   "metadata": {},
   "outputs": [],
   "source": [
    "import numpy"
   ]
  },
  {
   "cell_type": "markdown",
   "id": "1ef32486-0f1b-4477-b0db-00411ab8e11d",
   "metadata": {},
   "source": [
    "very fast spreadsheet/tabular data processing"
   ]
  },
  {
   "cell_type": "code",
   "execution_count": 7,
   "id": "f3f5ca8d-af52-43e4-9014-7837a2acfa54",
   "metadata": {},
   "outputs": [],
   "source": [
    "import pandas"
   ]
  },
  {
   "cell_type": "markdown",
   "id": "d941f513-3033-42d6-bf9b-162a816001f5",
   "metadata": {},
   "source": [
    "very fast visualization..."
   ]
  },
  {
   "cell_type": "code",
   "execution_count": 8,
   "id": "ac8764fe-090c-4069-8b21-7e0b30070969",
   "metadata": {},
   "outputs": [],
   "source": [
    "import seaborn"
   ]
  },
  {
   "cell_type": "markdown",
   "id": "f7f6236f-cd38-4779-96cd-83aaaf7d6c51",
   "metadata": {},
   "source": [
    "very fast predictive analysis (\"machine learning\")"
   ]
  },
  {
   "cell_type": "code",
   "execution_count": 9,
   "id": "bd75096a-c49f-4665-b73a-6ac06a36c1e2",
   "metadata": {},
   "outputs": [],
   "source": [
    "import sklearn"
   ]
  },
  {
   "cell_type": "markdown",
   "id": "44c9fa8d-5ccf-4df7-9164-20ae09ec3691",
   "metadata": {},
   "source": [
    "...some problem-specifc ones..."
   ]
  },
  {
   "cell_type": "markdown",
   "id": "415fa3fc-8a9c-491b-92d5-a432341893d4",
   "metadata": {},
   "source": [
    "quite good network analysis"
   ]
  },
  {
   "cell_type": "code",
   "execution_count": 10,
   "id": "cd54c835-1d2f-464a-ab1f-b86f6a5c3ee5",
   "metadata": {},
   "outputs": [],
   "source": [
    "import networkx"
   ]
  },
  {
   "cell_type": "markdown",
   "id": "148c5190-5d8c-44c1-b628-c030e44f99c2",
   "metadata": {},
   "source": [
    "Eg., loading the natural language toolkit..."
   ]
  },
  {
   "cell_type": "code",
   "execution_count": 11,
   "id": "23f84de5-6499-4633-a557-52510ce95539",
   "metadata": {},
   "outputs": [],
   "source": [
    "import nltk"
   ]
  },
  {
   "cell_type": "markdown",
   "id": "e07fec42-471b-4641-8c43-f57d67960a63",
   "metadata": {},
   "source": [
    "## Quick Library Demos"
   ]
  },
  {
   "cell_type": "markdown",
   "id": "c5715626-0ddc-42dd-bd95-cdf4b415f7a0",
   "metadata": {},
   "source": [
    "### NumPy for fast numerical computing"
   ]
  },
  {
   "cell_type": "markdown",
   "id": "7313509f-c563-4937-a9c9-e218e9bc97fa",
   "metadata": {},
   "source": [
    "10 random numbers with a mean of c. 5, and a variation +- c. 2..."
   ]
  },
  {
   "cell_type": "code",
   "execution_count": 12,
   "id": "53bc7abc-ddcf-426b-850f-85ed57c943d5",
   "metadata": {},
   "outputs": [
    {
     "data": {
      "text/plain": [
       "array([7.3394182 , 4.45010227, 2.04679137, 2.22313196, 4.88148774,\n",
       "       9.18114105, 6.94856322, 4.77116333, 6.07060989, 2.63717942])"
      ]
     },
     "execution_count": 12,
     "metadata": {},
     "output_type": "execute_result"
    }
   ],
   "source": [
    "numpy.random.normal(5, 2, 10) # library = numpy"
   ]
  },
  {
   "cell_type": "markdown",
   "id": "b2559b9f-fb2c-4242-b3eb-c02f6c35f5a4",
   "metadata": {},
   "source": [
    "### Pandas for SQL-like, Spreadsheet-Like Operations"
   ]
  },
  {
   "cell_type": "code",
   "execution_count": 15,
   "id": "da3a4702-9403-40a2-be2d-932ee2531674",
   "metadata": {
    "scrolled": true
   },
   "outputs": [
    {
     "data": {
      "text/html": [
       "<div>\n",
       "<style scoped>\n",
       "    .dataframe tbody tr th:only-of-type {\n",
       "        vertical-align: middle;\n",
       "    }\n",
       "\n",
       "    .dataframe tbody tr th {\n",
       "        vertical-align: top;\n",
       "    }\n",
       "\n",
       "    .dataframe thead th {\n",
       "        text-align: right;\n",
       "    }\n",
       "</style>\n",
       "<table border=\"1\" class=\"dataframe\">\n",
       "  <thead>\n",
       "    <tr style=\"text-align: right;\">\n",
       "      <th></th>\n",
       "      <th>Age</th>\n",
       "      <th>Years</th>\n",
       "      <th>Profit</th>\n",
       "    </tr>\n",
       "  </thead>\n",
       "  <tbody>\n",
       "    <tr>\n",
       "      <th>0</th>\n",
       "      <td>18</td>\n",
       "      <td>0</td>\n",
       "      <td>100</td>\n",
       "    </tr>\n",
       "    <tr>\n",
       "      <th>1</th>\n",
       "      <td>20</td>\n",
       "      <td>1</td>\n",
       "      <td>200</td>\n",
       "    </tr>\n",
       "    <tr>\n",
       "      <th>2</th>\n",
       "      <td>31</td>\n",
       "      <td>10</td>\n",
       "      <td>1000</td>\n",
       "    </tr>\n",
       "    <tr>\n",
       "      <th>3</th>\n",
       "      <td>80</td>\n",
       "      <td>50</td>\n",
       "      <td>10000</td>\n",
       "    </tr>\n",
       "  </tbody>\n",
       "</table>\n",
       "</div>"
      ],
      "text/plain": [
       "   Age  Years  Profit\n",
       "0   18      0     100\n",
       "1   20      1     200\n",
       "2   31     10    1000\n",
       "3   80     50   10000"
      ]
     },
     "execution_count": 15,
     "metadata": {},
     "output_type": "execute_result"
    }
   ],
   "source": [
    "df = pandas.read_excel('LIVE_ExcelDemoFile.xlsx'); df # library = pandas"
   ]
  },
  {
   "cell_type": "code",
   "execution_count": 16,
   "id": "7f0e8f0c-1831-44bc-9c1b-ba9e7b1c2b31",
   "metadata": {},
   "outputs": [
    {
     "data": {
      "text/plain": [
       "2825.0"
      ]
     },
     "execution_count": 16,
     "metadata": {},
     "output_type": "execute_result"
    }
   ],
   "source": [
    "df['Profit'].mean()"
   ]
  },
  {
   "cell_type": "markdown",
   "id": "4ffb9809-c81d-4cff-96be-2ee88a19c7d1",
   "metadata": {},
   "source": [
    "### Seaborn for Visuals"
   ]
  },
  {
   "cell_type": "code",
   "execution_count": 17,
   "id": "dc79ce43-a274-4d82-910e-66a333b6e030",
   "metadata": {},
   "outputs": [
    {
     "data": {
      "text/plain": [
       "<AxesSubplot:xlabel='Age', ylabel='Profit'>"
      ]
     },
     "execution_count": 17,
     "metadata": {},
     "output_type": "execute_result"
    },
    {
     "data": {
      "image/png": "[encoded data removed]",
      "text/plain": [
       "<Figure size 432x288 with 1 Axes>"
      ]
     },
     "metadata": {
      "needs_background": "light"
     },
     "output_type": "display_data"
    }
   ],
   "source": [
    "seaborn.lineplot(x=df['Age'], y=df['Profit']) # library = seaborn"
   ]
  },
  {
   "cell_type": "markdown",
   "id": "4c68ec1e-bade-4188-a6ce-83ca4d0c64ab",
   "metadata": {},
   "source": [
    "### Sklearn for Predictive Analytics"
   ]
  },
  {
   "cell_type": "code",
   "execution_count": 18,
   "id": "484cc6eb-019d-403e-b94d-874c7d72bb3f",
   "metadata": {},
   "outputs": [],
   "source": [
    "from sklearn.linear_model import LinearRegression"
   ]
  },
  {
   "cell_type": "markdown",
   "id": "70c94179-9659-4646-921f-210966edafa2",
   "metadata": {},
   "source": [
    "find the relationship..."
   ]
  },
  {
   "cell_type": "code",
   "execution_count": 19,
   "id": "fbd03420-9dba-435f-9c19-5dd90b5c2507",
   "metadata": {},
   "outputs": [],
   "source": [
    "model = LinearRegression().fit(df[['Age']], df['Profit']) # sklearn"
   ]
  },
  {
   "cell_type": "markdown",
   "id": "08fdf601-ae7b-4019-a23e-7f332ab90b45",
   "metadata": {},
   "source": [
    "use it to predict some profits..."
   ]
  },
  {
   "cell_type": "code",
   "execution_count": 20,
   "id": "86d47df7-db1a-4f44-b5b5-b3472894a6d3",
   "metadata": {},
   "outputs": [
    {
     "name": "stderr",
     "output_type": "stream",
     "text": [
      "C:\\Users\\Thomas Holmes\\.conda\\envs\\ppds\\lib\\site-packages\\sklearn\\base.py:450: UserWarning: X does not have valid feature names, but LinearRegression was fitted with feature names\n",
      "  warnings.warn(\n"
     ]
    },
    {
     "data": {
      "text/plain": [
       "array([3276.19094585, 6557.57964296])"
      ]
     },
     "execution_count": 20,
     "metadata": {},
     "output_type": "execute_result"
    }
   ],
   "source": [
    "model.predict([\n",
    "    [40],\n",
    "    [60]\n",
    "])"
   ]
  },
  {
   "cell_type": "markdown",
   "id": "7314457d-aa92-4f9f-8772-b5ed70d56e5d",
   "metadata": {},
   "source": [
    "#### Aside: the underlying formula..."
   ]
  },
  {
   "cell_type": "code",
   "execution_count": 21,
   "id": "bf998bea-d4d9-41bf-a6f8-1bcfbb993a75",
   "metadata": {},
   "outputs": [
    {
     "data": {
      "text/plain": [
       "array([164.06943486])"
      ]
     },
     "execution_count": 21,
     "metadata": {},
     "output_type": "execute_result"
    }
   ],
   "source": [
    "model.coef_"
   ]
  },
  {
   "cell_type": "code",
   "execution_count": 22,
   "id": "e28003b5-a855-45e1-9500-765e98acfb98",
   "metadata": {},
   "outputs": [
    {
     "data": {
      "text/plain": [
       "-3286.586448367687"
      ]
     },
     "execution_count": 22,
     "metadata": {},
     "output_type": "execute_result"
    }
   ],
   "source": [
    "model.intercept_"
   ]
  },
  {
   "cell_type": "markdown",
   "id": "e0647257-734b-4b2e-9c50-5034c9f31ac7",
   "metadata": {},
   "source": [
    "Sklearn has determine the relationship between $x$ and $y$ is..."
   ]
  },
  {
   "cell_type": "markdown",
   "id": "5a56f5e3-9412-4903-aef1-4745e0bf1cd9",
   "metadata": {},
   "source": [
    "$y_{profit} = 164\n",
    "x_{age} - 3287$"
   ]
  },
  {
   "cell_type": "markdown",
   "id": "2cf83902-8719-49bf-b273-72e6a2429d34",
   "metadata": {},
   "source": [
    "## What is python (vs. its libraries)?"
   ]
  },
  {
   "cell_type": "markdown",
   "id": "937650e9-9c95-4b4c-a1be-4a523142037f",
   "metadata": {},
   "source": [
    "The receipe for using a library is...\n",
    "\n",
    "```python\n",
    "import library\n",
    "saved_output = library.tool(input_for_tool)\n",
    "```"
   ]
  },
  {
   "cell_type": "markdown",
   "id": "70fdfce8-8a5a-45a8-956e-b427b386258b",
   "metadata": {},
   "source": [
    "Python *itself* is a language of built-in keywords and operations..."
   ]
  },
  {
   "cell_type": "markdown",
   "id": "afe6fa94-cd9e-4b21-b87e-71c9603cb93f",
   "metadata": {},
   "source": [
    "Python is really slow... when we're using python keywords (\"built in operations\") they run slower than the fast libraries above..."
   ]
  },
  {
   "cell_type": "code",
   "execution_count": 23,
   "id": "c75d11a0-32f6-4744-a38f-5082c632e30f",
   "metadata": {},
   "outputs": [
    {
     "name": "stdout",
     "output_type": "stream",
     "text": [
      "LEAVE\n",
      "1\n",
      "2\n",
      "3\n",
      "4\n"
     ]
    }
   ],
   "source": [
    "age = 50 # ASSIGN\n",
    "\n",
    "if age > 35: # IF, COMPARE\n",
    "    print(\"LEAVE\") # THEN, PRINT\n",
    "else:\n",
    "    print(\"STAY\") # ELSE, PRINT\n",
    "    \n",
    "    \n",
    "data = [1, 2, 3, 4] # ASSIGN LIST OF VALUES\n",
    "\n",
    "for d in data: # PROCESS EACH VALUE IN LIST\n",
    "    print(d)   # PRINT EACH VALUE\n",
    "    "
   ]
  },
  {
   "cell_type": "markdown",
   "id": "821c2fbb-8ec9-4f0b-baef-bb926095be78",
   "metadata": {},
   "source": [
    "However when automating systems, our approach will be to *glue* the libraries above \"together\" using these python keywords..."
   ]
  },
  {
   "cell_type": "code",
   "execution_count": 24,
   "id": "6738f9d2-0f32-465b-a823-bef2652d3829",
   "metadata": {},
   "outputs": [
    {
     "name": "stdout",
     "output_type": "stream",
     "text": [
      "GOOD YEAR\n"
     ]
    }
   ],
   "source": [
    "answer = numpy.random.normal(10, 10, 100).mean() # simulate some profits\n",
    "excel = pandas.read_excel('LIVE_ExcelDemoFile.xlsx') # obtain some data\n",
    "\n",
    "if excel['Profit'].mean() > answer:  # compare simulation with data\n",
    "    print(\"GOOD YEAR\")\n",
    "else:\n",
    "    print(\"BAD YEAR\")"
   ]
  },
  {
   "cell_type": "markdown",
   "id": "6cc5398f-e0e8-40e3-a19d-f32600c81ec3",
   "metadata": {},
   "source": [
    "The majority of python programming is just gluing libraries together... most of the problem is being solved by the libraries... our \"glue\" can be very slow and still not matter.."
   ]
  },
  {
   "cell_type": "markdown",
   "id": "8939e26d-55e6-4bf2-bd15-de0d53f3e4a6",
   "metadata": {},
   "source": [
    "----"
   ]
  },
  {
   "cell_type": "markdown",
   "id": "bcc9b2dd-2c65-497f-8d0c-47aa46135fd6",
   "metadata": {},
   "source": [
    "## Part 2: Python Programming"
   ]
  },
  {
   "cell_type": "markdown",
   "id": "5e83bdff-3314-4755-950a-3b3ea1890a5b",
   "metadata": {},
   "source": [
    "* assignment\n",
    "* data types\n",
    "    * int\n",
    "    * float\n",
    "    * lists\n",
    "    * dicts\n",
    "        * relationships\n",
    "    * str\n",
    "        * text\n",
    "* text formatting\n",
    "* decisions\n",
    "    * if, else, \n",
    "* processing data\n",
    "    * for"
   ]
  },
  {
   "cell_type": "markdown",
   "id": "8827c593-baa0-4457-b87a-f5648fb6ffe4",
   "metadata": {},
   "source": [
    "## \"Data Points\""
   ]
  },
  {
   "cell_type": "code",
   "execution_count": 25,
   "id": "e676d8dd-acc5-469f-893e-063b886c7155",
   "metadata": {},
   "outputs": [],
   "source": [
    "age = 31"
   ]
  },
  {
   "cell_type": "code",
   "execution_count": 26,
   "id": "2b3a4f64-88fe-4839-834b-45a2beb7334f",
   "metadata": {},
   "outputs": [
    {
     "data": {
      "text/plain": [
       "31"
      ]
     },
     "execution_count": 26,
     "metadata": {},
     "output_type": "execute_result"
    }
   ],
   "source": [
    "age"
   ]
  },
  {
   "cell_type": "code",
   "execution_count": 27,
   "id": "f9959125-44b8-4877-a493-78aff11abb46",
   "metadata": {},
   "outputs": [],
   "source": [
    "name = \"Michael\" # quotes = text"
   ]
  },
  {
   "cell_type": "code",
   "execution_count": 28,
   "id": "36be9f5c-af9b-4169-b383-f9963abd4238",
   "metadata": {},
   "outputs": [
    {
     "data": {
      "text/plain": [
       "'Michael'"
      ]
     },
     "execution_count": 28,
     "metadata": {},
     "output_type": "execute_result"
    }
   ],
   "source": [
    "name"
   ]
  },
  {
   "cell_type": "code",
   "execution_count": 29,
   "id": "2c265cb1-4846-4a16-9cea-eae7e30030ac",
   "metadata": {},
   "outputs": [],
   "source": [
    "weight = 89.3"
   ]
  },
  {
   "cell_type": "code",
   "execution_count": 30,
   "id": "f09ff054-1c70-41a1-8664-5e4132acf8af",
   "metadata": {},
   "outputs": [
    {
     "data": {
      "text/plain": [
       "44.65"
      ]
     },
     "execution_count": 30,
     "metadata": {},
     "output_type": "execute_result"
    }
   ],
   "source": [
    "weight / 2"
   ]
  },
  {
   "cell_type": "markdown",
   "id": "62df0b8d-1e46-4acf-a35f-a1e4f03a040d",
   "metadata": {},
   "source": [
    "On machines we have to distinguish between imprice partial numbers, floats, and precise whole numbers call ints..."
   ]
  },
  {
   "cell_type": "code",
   "execution_count": 31,
   "id": "b9bc904c-a8bf-4d89-ae59-fcc38bbe1842",
   "metadata": {},
   "outputs": [
    {
     "data": {
      "text/plain": [
       "float"
      ]
     },
     "execution_count": 31,
     "metadata": {},
     "output_type": "execute_result"
    }
   ],
   "source": [
    "type(weight)"
   ]
  },
  {
   "cell_type": "code",
   "execution_count": 32,
   "id": "1726d0ce-e92a-455e-9e9b-3d8b1d354acd",
   "metadata": {},
   "outputs": [
    {
     "data": {
      "text/plain": [
       "int"
      ]
     },
     "execution_count": 32,
     "metadata": {},
     "output_type": "execute_result"
    }
   ],
   "source": [
    "type(age)"
   ]
  },
  {
   "cell_type": "code",
   "execution_count": 33,
   "id": "029c2e3b-9715-4901-bc00-12d7894b240e",
   "metadata": {},
   "outputs": [
    {
     "data": {
      "text/plain": [
       "0.0010000000000000002"
      ]
     },
     "execution_count": 33,
     "metadata": {},
     "output_type": "execute_result"
    }
   ],
   "source": [
    "0.1 ** 3"
   ]
  },
  {
   "cell_type": "code",
   "execution_count": 34,
   "id": "d462d073-eada-4fee-b870-42ee755edfaf",
   "metadata": {},
   "outputs": [
    {
     "data": {
      "text/plain": [
       "0.0010000000000000002"
      ]
     },
     "execution_count": 34,
     "metadata": {},
     "output_type": "execute_result"
    }
   ],
   "source": [
    "0.1 * 0.1 * 0.1"
   ]
  },
  {
   "cell_type": "markdown",
   "id": "391febae-3718-4c2e-9552-0ab4b3c6b22a",
   "metadata": {},
   "source": [
    "..aside: sometimes this impresicion can be useful. Eg., in certain types of predictive analytics (on images, etc.) predictions can be faster if they are lower precision."
   ]
  },
  {
   "cell_type": "markdown",
   "id": "fa3224dc-2d35-4c56-b808-39287c24b3a5",
   "metadata": {},
   "source": [
    "## \"Data Sets\""
   ]
  },
  {
   "cell_type": "markdown",
   "id": "61ce3fe9-a047-4021-9906-83911897db63",
   "metadata": {},
   "source": [
    "Lists are like single column: entires, and an index"
   ]
  },
  {
   "cell_type": "code",
   "execution_count": 35,
   "id": "d7ace8fe-5d8c-4ed2-a877-02186ee263b9",
   "metadata": {},
   "outputs": [],
   "source": [
    "ages = [18, 30, 45, 70] # square brackets and comma"
   ]
  },
  {
   "cell_type": "code",
   "execution_count": 36,
   "id": "ae1d2f99-c1bd-48e6-8e23-520422b9216b",
   "metadata": {},
   "outputs": [
    {
     "data": {
      "text/plain": [
       "list"
      ]
     },
     "execution_count": 36,
     "metadata": {},
     "output_type": "execute_result"
    }
   ],
   "source": [
    "type(ages)"
   ]
  },
  {
   "cell_type": "markdown",
   "id": "7388bd2a-0f3a-4991-abc1-ab708898c6b3",
   "metadata": {},
   "source": [
    "Find the element at *position* `0` in ages, "
   ]
  },
  {
   "cell_type": "code",
   "execution_count": 37,
   "id": "59d748d8-7fd6-4bd6-aaa4-72af3fdf9a3d",
   "metadata": {
    "scrolled": true
   },
   "outputs": [
    {
     "data": {
      "text/plain": [
       "18"
      ]
     },
     "execution_count": 37,
     "metadata": {},
     "output_type": "execute_result"
    }
   ],
   "source": [
    "ages[0] # accessing elements in a list uses a[]"
   ]
  },
  {
   "cell_type": "code",
   "execution_count": 38,
   "id": "816d188d-77ed-40fc-aad8-648f62782ebb",
   "metadata": {},
   "outputs": [
    {
     "data": {
      "text/plain": [
       "18"
      ]
     },
     "execution_count": 38,
     "metadata": {},
     "output_type": "execute_result"
    }
   ],
   "source": [
    "ages[0] # indexes start at zero"
   ]
  },
  {
   "cell_type": "markdown",
   "id": "48bae5b9-a819-4aec-932c-550dc6496b3e",
   "metadata": {},
   "source": [
    "Dictionaries are *relationships* between values..."
   ]
  },
  {
   "cell_type": "code",
   "execution_count": 39,
   "id": "731d099a-c6da-4af9-95b4-ebd3ef36b4dc",
   "metadata": {},
   "outputs": [],
   "source": [
    "loves = { # braces\n",
    "\n",
    "    # KEY     :  VALUE     \n",
    "    'Michael' : 'Pork'   , # comma\n",
    "    'Alice'   : 'Cheese' ,\n",
    "    'Eve'     : 'Wine'\n",
    "    \n",
    "}"
   ]
  },
  {
   "cell_type": "markdown",
   "id": "12a8c269-3d86-490f-b3f8-c2d063e1e9ad",
   "metadata": {},
   "source": [
    "Accessing elements (nearly) always uses square brackets..."
   ]
  },
  {
   "cell_type": "code",
   "execution_count": 40,
   "id": "8c6d7b5b-0b35-41ba-b12d-eadd63669822",
   "metadata": {},
   "outputs": [
    {
     "data": {
      "text/plain": [
       "'Pork'"
      ]
     },
     "execution_count": 40,
     "metadata": {},
     "output_type": "execute_result"
    }
   ],
   "source": [
    "loves['Michael'] # use the tag or \"KEY\" to find the VALUE"
   ]
  },
  {
   "cell_type": "markdown",
   "id": "c68d0fbc-4421-4f7c-825b-68ee3357e12f",
   "metadata": {},
   "source": [
    "If we combine dictionaries and lists together, we get tables..."
   ]
  },
  {
   "cell_type": "code",
   "execution_count": 41,
   "id": "b848eea1-48e1-4a74-bd3e-34703707b68b",
   "metadata": {},
   "outputs": [],
   "source": [
    "table = {\n",
    "    'Age'   : [18, 19, 20, 31],\n",
    "    'Profit': [100, 200, 350, 1000]\n",
    "}"
   ]
  },
  {
   "cell_type": "markdown",
   "id": "80b965aa-6c60-4c36-b999-85af6da32eb9",
   "metadata": {},
   "source": [
    "When we tag lists with KEYs in a dictionary, this creates something like a table.."
   ]
  },
  {
   "cell_type": "markdown",
   "id": "7f5a01a2-cb6c-4054-8c2c-1e01f7bca1b3",
   "metadata": {},
   "source": [
    "The column is named..."
   ]
  },
  {
   "cell_type": "code",
   "execution_count": 42,
   "id": "148e19c5-9f67-4b3f-96d3-bbdd084018de",
   "metadata": {},
   "outputs": [
    {
     "data": {
      "text/plain": [
       "[18, 19, 20, 31]"
      ]
     },
     "execution_count": 42,
     "metadata": {},
     "output_type": "execute_result"
    }
   ],
   "source": [
    "table['Age']"
   ]
  },
  {
   "cell_type": "markdown",
   "id": "6deb464c-b009-4e27-a2f4-6fefd7ce3faa",
   "metadata": {},
   "source": [
    "And we can get the first entry just using `0` as above..."
   ]
  },
  {
   "cell_type": "code",
   "execution_count": 43,
   "id": "f92f6c12-cb7b-4157-badc-88648a4509a5",
   "metadata": {},
   "outputs": [
    {
     "data": {
      "text/plain": [
       "18"
      ]
     },
     "execution_count": 43,
     "metadata": {},
     "output_type": "execute_result"
    }
   ],
   "source": [
    "table['Age'][0]"
   ]
  },
  {
   "cell_type": "markdown",
   "id": "8b6e32d6-bf71-41c4-bf40-b27e043054a9",
   "metadata": {},
   "source": [
    "## Basic Operations"
   ]
  },
  {
   "cell_type": "markdown",
   "id": "583c9797-7b8c-4f76-a3a2-2aae9f3cceb9",
   "metadata": {},
   "source": [
    "* Indexing data \n",
    "    * finding elements within data using an index"
   ]
  },
  {
   "cell_type": "code",
   "execution_count": 44,
   "id": "bb4a0f76-9713-4d5d-98ea-35d0144bf476",
   "metadata": {},
   "outputs": [],
   "source": [
    "#       -4  -3   -2  -1\n",
    "#       0   1    2    3\n",
    "ages = [18, 30, 45, 70]"
   ]
  },
  {
   "cell_type": "code",
   "execution_count": 45,
   "id": "b7e35b7c-87d7-421e-a9c1-3c2371be2267",
   "metadata": {},
   "outputs": [
    {
     "data": {
      "text/plain": [
       "18"
      ]
     },
     "execution_count": 45,
     "metadata": {},
     "output_type": "execute_result"
    }
   ],
   "source": [
    "ages[0]"
   ]
  },
  {
   "cell_type": "code",
   "execution_count": 46,
   "id": "23e2c5f6-9ec5-4a21-aab6-753387a6b0b8",
   "metadata": {},
   "outputs": [
    {
     "data": {
      "text/plain": [
       "70"
      ]
     },
     "execution_count": 46,
     "metadata": {},
     "output_type": "execute_result"
    }
   ],
   "source": [
    "ages[-1]"
   ]
  },
  {
   "cell_type": "code",
   "execution_count": 47,
   "id": "569d604a-6ef4-42f9-874c-44e175dca69c",
   "metadata": {},
   "outputs": [
    {
     "data": {
      "text/plain": [
       "45"
      ]
     },
     "execution_count": 47,
     "metadata": {},
     "output_type": "execute_result"
    }
   ],
   "source": [
    "ages[-2]"
   ]
  },
  {
   "cell_type": "code",
   "execution_count": 48,
   "id": "0c56fa10-d060-45f5-81c8-e01fc4e14f1a",
   "metadata": {},
   "outputs": [],
   "source": [
    "person = {\n",
    "    'name': 'Michael',\n",
    "    'age': 31\n",
    "}"
   ]
  },
  {
   "cell_type": "markdown",
   "id": "0684bfc3-c466-4386-b925-43a8b211c647",
   "metadata": {},
   "source": [
    "with dictionaries, indexes are (typically) text, and to find an elemennt in a dictionary we use this text KEY..."
   ]
  },
  {
   "cell_type": "code",
   "execution_count": 49,
   "id": "964d660c-bb7d-43cc-bc91-0af21bbb91b2",
   "metadata": {},
   "outputs": [
    {
     "data": {
      "text/plain": [
       "'Michael'"
      ]
     },
     "execution_count": 49,
     "metadata": {},
     "output_type": "execute_result"
    }
   ],
   "source": [
    "person['name']"
   ]
  },
  {
   "cell_type": "markdown",
   "id": "2b55d0b0-410f-4ff1-ba15-aa1615c17bc2",
   "metadata": {},
   "source": [
    "* printing data"
   ]
  },
  {
   "cell_type": "markdown",
   "id": "34c88023-f815-4f0a-9302-99b71e0dc67c",
   "metadata": {},
   "source": [
    "by default, jupyter will print the last entry in a cell..."
   ]
  },
  {
   "cell_type": "code",
   "execution_count": 50,
   "id": "5f78dfff-592a-4b87-994b-1f37e62ac2c7",
   "metadata": {},
   "outputs": [
    {
     "data": {
      "text/plain": [
       "5"
      ]
     },
     "execution_count": 50,
     "metadata": {},
     "output_type": "execute_result"
    }
   ],
   "source": [
    "1\n",
    "2\n",
    "5"
   ]
  },
  {
   "cell_type": "code",
   "execution_count": 51,
   "id": "a97a89dc-b28c-43ab-9266-b5c0cb47fcb4",
   "metadata": {},
   "outputs": [
    {
     "name": "stdout",
     "output_type": "stream",
     "text": [
      "Michael\n",
      "Michael\n",
      "Michael\n",
      "Michael\n"
     ]
    }
   ],
   "source": [
    "print(\"Michael\")\n",
    "print(\"Michael\")\n",
    "print(\"Michael\")\n",
    "print(\"Michael\")"
   ]
  },
  {
   "cell_type": "markdown",
   "id": "c07a763c-29ff-44c8-a28d-22359840aec4",
   "metadata": {},
   "source": [
    "The print command takes as many inputs as you like, separated by a comma, and each input is printed surrounded by a space..."
   ]
  },
  {
   "cell_type": "code",
   "execution_count": 52,
   "id": "a14f171d-13b6-4628-a7d2-fa5bcc193f7d",
   "metadata": {},
   "outputs": [
    {
     "name": "stdout",
     "output_type": "stream",
     "text": [
      "Michael is 31 years old\n"
     ]
    }
   ],
   "source": [
    "print(person['name'], 'is', person['age'], 'years old')"
   ]
  },
  {
   "cell_type": "code",
   "execution_count": 53,
   "id": "fffd9288-fcfb-4046-9733-ddd4613fe640",
   "metadata": {},
   "outputs": [
    {
     "name": "stdout",
     "output_type": "stream",
     "text": [
      "Michael's Bio\n",
      "\n",
      "Michael is 31 and weights 89.3 kg\n",
      "Michael loves Pork\n",
      "Michael has friends who are [18, 30, 45, 70]\n",
      "Michael has an old friend who is 70\n",
      "Michael likes people in the range 52 years\n"
     ]
    }
   ],
   "source": [
    "print(\"Michael's Bio\")\n",
    "print() # empty = blank line\n",
    "print(name, 'is', age, 'and weights', weight, 'kg')\n",
    "\n",
    "print(name, 'loves', loves[name]) # name = 'Michael'\n",
    "print(name, 'has friends who are', ages) # all of the list\n",
    "print(name, 'has an old friend who is', ages[-1] ) # last part\n",
    "print(name, 'likes people in the range', ages[-1] - ages[0], 'years')"
   ]
  },
  {
   "cell_type": "code",
   "execution_count": 54,
   "id": "0c2f6baf-971c-4017-bf3a-4d67648cbcbd",
   "metadata": {},
   "outputs": [
    {
     "name": "stdout",
     "output_type": "stream",
     "text": [
      "michael likes 52\n"
     ]
    }
   ],
   "source": [
    "difference = ages[-1] - ages[0]\n",
    "print('michael likes', difference)"
   ]
  },
  {
   "cell_type": "markdown",
   "id": "950c38e1-446d-4802-bd68-3188d426d3d7",
   "metadata": {},
   "source": [
    "## Exercise (c. 15min)"
   ]
  },
  {
   "cell_type": "markdown",
   "id": "b8516a70-0ae2-4e3a-b4d2-473ab8ef76b1",
   "metadata": {
    "jp-MarkdownHeadingCollapsed": true,
    "tags": []
   },
   "source": [
    "Consider the company you work for, or otherwise, consider one of the following problem area; and write up a python-based dataset.\n",
    "\n",
    "E.g.\n",
    "* finance\n",
    "    * a dataset for profit/loss on some stocks\n",
    "* retail\n",
    "    * a dataset for toys/items in a store\n",
    "* health\n",
    "    * a dataset for hr/bp/sleep quality, etc.\n",
    "    \n",
    "* define several lists which represent some possible columns\n",
    "* define a dictionary which tags some values \n",
    "\n",
    "* finally, print out elements of your dataset in a report\n",
    "\n",
    "### Hints & Guidance\n",
    "* exercises are NOT exams\n",
    "    * the point isn't to answer questions\n",
    "    * the time is *yours* to spend independently, exploring the topic\n",
    "        * eg., you may browse online documentation and other resources if you are sure of the content\n",
    "* (new learners  should) start by reading through relevant notebooks\n",
    "    * run each cell\n",
    "    * modify according your curiosity\n",
    "    * see how your changes impact code\n",
    "    * convince yourself you understand the code\n",
    "* create a new notebook\n",
    "    * copy/paste examples across \n",
    "    * modify until they solve the problem above\n",
    "    \n",
    "* experienced learners should...\n",
    "    * create a blank notebook and solve the exercise from scratch"
   ]
  },
  {
   "cell_type": "markdown",
   "id": "9c7ef0cc-f595-486e-9b62-e37d034ec257",
   "metadata": {},
   "source": [
    "# Python Decision Making"
   ]
  },
  {
   "cell_type": "markdown",
   "id": "bc7e3fc3-0512-45bb-912a-80c38eade843",
   "metadata": {},
   "source": [
    "Let's ask the user for their age and city, a float and a string. Then make a holiday decision based on these..."
   ]
  },
  {
   "cell_type": "code",
   "execution_count": 55,
   "id": "96fa8acb-6807-4457-b95e-bcfdaf454f27",
   "metadata": {
    "scrolled": true
   },
   "outputs": [
    {
     "name": "stdin",
     "output_type": "stream",
     "text": [
      "Age?  20\n"
     ]
    }
   ],
   "source": [
    "age = float(input(\"Age? \"))"
   ]
  },
  {
   "cell_type": "code",
   "execution_count": 56,
   "id": "11054105-fe94-49b6-aebc-8735a96b42da",
   "metadata": {},
   "outputs": [
    {
     "data": {
      "text/plain": [
       "20.0"
      ]
     },
     "execution_count": 56,
     "metadata": {},
     "output_type": "execute_result"
    }
   ],
   "source": [
    "age"
   ]
  },
  {
   "cell_type": "code",
   "execution_count": 57,
   "id": "464d57ac-d21c-4614-84d1-a7da28c2fa23",
   "metadata": {},
   "outputs": [
    {
     "name": "stdin",
     "output_type": "stream",
     "text": [
      "City?  Ldn\n"
     ]
    }
   ],
   "source": [
    "city = input(\"City? \")"
   ]
  },
  {
   "cell_type": "code",
   "execution_count": 58,
   "id": "37f7ef87-23f7-4ff1-8ba2-521187a3fbf7",
   "metadata": {},
   "outputs": [
    {
     "data": {
      "text/plain": [
       "'Ldn'"
      ]
     },
     "execution_count": 58,
     "metadata": {},
     "output_type": "execute_result"
    }
   ],
   "source": [
    "city"
   ]
  },
  {
   "cell_type": "markdown",
   "id": "c64b7d29-5666-4731-9317-0f809ba9ea6a",
   "metadata": {},
   "source": [
    "Below we use some keywords (`if`, `elif`, `else`;  `and`, `in`)..."
   ]
  },
  {
   "cell_type": "code",
   "execution_count": 59,
   "id": "8b166c19-3aab-4f94-a37d-e76a881bf9df",
   "metadata": {},
   "outputs": [
    {
     "name": "stdout",
     "output_type": "stream",
     "text": [
      "contact the foreign office!\n"
     ]
    }
   ],
   "source": [
    "if (age >= 18) and (city in [\"Leeds\", \"London\"]): # the indent region below is a *single* block \n",
    "    print(\"let's go in holiday\")\n",
    "    print(\"let's go in holiday\")\n",
    "    print(\"let's go in holiday\")\n",
    "    print(\"let's go in holiday\")\n",
    "elif (age >= 18) and (city == \"Paris\"):\n",
    "    print(\"that's on the red list!\")\n",
    "elif (age <= 18):\n",
    "    print(\"stay at home!\")\n",
    "    print(\"stay at home!\")\n",
    "    print(\"stay at home!\")\n",
    "else:\n",
    "    print(\"contact the foreign office!\")\n",
    "    "
   ]
  },
  {
   "cell_type": "markdown",
   "id": "7b437e7a-1c8e-46aa-a982-da54f0172c8d",
   "metadata": {},
   "source": [
    "The decision making keywords each consider a condition, and if that condition is `True` then the code below that condition is exceuted.\n",
    "\n",
    "Only one block of code is executed; the `elif` keyword introduces addition tests, and `else` executes if all tests fail (ie., `False`)."
   ]
  },
  {
   "cell_type": "markdown",
   "id": "12e9310b-df3e-494f-b927-396e65fe97ef",
   "metadata": {},
   "source": [
    "## Comparions"
   ]
  },
  {
   "cell_type": "code",
   "execution_count": 60,
   "id": "328299b5-4ed2-40eb-8351-e87426bc55e9",
   "metadata": {
    "scrolled": true
   },
   "outputs": [
    {
     "data": {
      "text/plain": [
       "True"
      ]
     },
     "execution_count": 60,
     "metadata": {},
     "output_type": "execute_result"
    }
   ],
   "source": [
    "age >= 18"
   ]
  },
  {
   "cell_type": "code",
   "execution_count": 61,
   "id": "a33823c7-940d-48f8-86b6-3d25209dc787",
   "metadata": {},
   "outputs": [
    {
     "data": {
      "text/plain": [
       "False"
      ]
     },
     "execution_count": 61,
     "metadata": {},
     "output_type": "execute_result"
    }
   ],
   "source": [
    "city in [\"Leeds\", \"London\"]"
   ]
  },
  {
   "cell_type": "code",
   "execution_count": 62,
   "id": "83c383a4-1f25-4520-a149-d68f8973e87e",
   "metadata": {},
   "outputs": [
    {
     "data": {
      "text/plain": [
       "False"
      ]
     },
     "execution_count": 62,
     "metadata": {},
     "output_type": "execute_result"
    }
   ],
   "source": [
    "city in [\"Paris\", \"Rome\", \"Berlin\"]"
   ]
  },
  {
   "cell_type": "code",
   "execution_count": 63,
   "id": "973cbdbe-973d-4299-94b6-60c415b878b1",
   "metadata": {},
   "outputs": [
    {
     "data": {
      "text/plain": [
       "False"
      ]
     },
     "execution_count": 63,
     "metadata": {},
     "output_type": "execute_result"
    }
   ],
   "source": [
    "city == \"Paris\""
   ]
  },
  {
   "cell_type": "code",
   "execution_count": 64,
   "id": "d11f9b36-a5b6-4189-9932-aaa98ac3e6e5",
   "metadata": {},
   "outputs": [
    {
     "data": {
      "text/plain": [
       "True"
      ]
     },
     "execution_count": 64,
     "metadata": {},
     "output_type": "execute_result"
    }
   ],
   "source": [
    "city != \"London\""
   ]
  },
  {
   "cell_type": "markdown",
   "id": "789469ed-aa98-4358-9599-029fa0aa9460",
   "metadata": {},
   "source": [
    "To make a case-insensitive comparison, we can convert the value to uppercase before we compare.."
   ]
  },
  {
   "cell_type": "code",
   "execution_count": 65,
   "id": "c15592f3-13dd-4062-b7a4-b1c6b74d5d13",
   "metadata": {},
   "outputs": [
    {
     "data": {
      "text/plain": [
       "False"
      ]
     },
     "execution_count": 65,
     "metadata": {},
     "output_type": "execute_result"
    }
   ],
   "source": [
    "city.upper() == \"PARIS\""
   ]
  },
  {
   "cell_type": "markdown",
   "id": "877a360f-73e6-4567-b679-e6be6e75cad2",
   "metadata": {},
   "source": [
    "## Other Numerical Comparisons"
   ]
  },
  {
   "cell_type": "code",
   "execution_count": 66,
   "id": "91665e78-4392-453f-a457-05447d212bc8",
   "metadata": {},
   "outputs": [
    {
     "data": {
      "text/plain": [
       "False"
      ]
     },
     "execution_count": 66,
     "metadata": {},
     "output_type": "execute_result"
    }
   ],
   "source": [
    "10 > 50"
   ]
  },
  {
   "cell_type": "code",
   "execution_count": 67,
   "id": "7cdafa35-1970-41b8-a499-1d3f4992f47a",
   "metadata": {},
   "outputs": [
    {
     "data": {
      "text/plain": [
       "True"
      ]
     },
     "execution_count": 67,
     "metadata": {},
     "output_type": "execute_result"
    }
   ],
   "source": [
    "10 > 5"
   ]
  },
  {
   "cell_type": "code",
   "execution_count": 68,
   "id": "fb870f39-25d4-493e-a11c-6bd5637d5b5e",
   "metadata": {},
   "outputs": [
    {
     "data": {
      "text/plain": [
       "True"
      ]
     },
     "execution_count": 68,
     "metadata": {},
     "output_type": "execute_result"
    }
   ],
   "source": [
    "5 < 10"
   ]
  },
  {
   "cell_type": "code",
   "execution_count": 69,
   "id": "399eebba-4c90-41ef-8f1e-a6d48af02380",
   "metadata": {},
   "outputs": [
    {
     "data": {
      "text/plain": [
       "True"
      ]
     },
     "execution_count": 69,
     "metadata": {},
     "output_type": "execute_result"
    }
   ],
   "source": [
    "10 <= 10"
   ]
  },
  {
   "cell_type": "code",
   "execution_count": 70,
   "id": "c005a7ae-cd04-4764-bcdf-17d11c8096af",
   "metadata": {},
   "outputs": [
    {
     "data": {
      "text/plain": [
       "False"
      ]
     },
     "execution_count": 70,
     "metadata": {},
     "output_type": "execute_result"
    }
   ],
   "source": [
    "10 < 10"
   ]
  },
  {
   "cell_type": "code",
   "execution_count": 71,
   "id": "2ee8ac61-9f3a-4cbb-8114-408291780bef",
   "metadata": {},
   "outputs": [
    {
     "data": {
      "text/plain": [
       "True"
      ]
     },
     "execution_count": 71,
     "metadata": {},
     "output_type": "execute_result"
    }
   ],
   "source": [
    "10 == 10"
   ]
  },
  {
   "cell_type": "code",
   "execution_count": 72,
   "id": "1ad27bee-8ce7-434c-94c9-034e964a46f2",
   "metadata": {},
   "outputs": [
    {
     "data": {
      "text/plain": [
       "False"
      ]
     },
     "execution_count": 72,
     "metadata": {},
     "output_type": "execute_result"
    }
   ],
   "source": [
    "10 != 10"
   ]
  },
  {
   "cell_type": "code",
   "execution_count": 73,
   "id": "52f40240-b809-4acb-9d72-b33518fe4233",
   "metadata": {},
   "outputs": [
    {
     "data": {
      "text/plain": [
       "True"
      ]
     },
     "execution_count": 73,
     "metadata": {},
     "output_type": "execute_result"
    }
   ],
   "source": [
    "10 != 5"
   ]
  },
  {
   "cell_type": "code",
   "execution_count": 74,
   "id": "5efd9ce5-f6e8-48f2-94f8-d39648f27fc4",
   "metadata": {},
   "outputs": [
    {
     "data": {
      "text/plain": [
       "True"
      ]
     },
     "execution_count": 74,
     "metadata": {},
     "output_type": "execute_result"
    }
   ],
   "source": [
    "5 < 10 < 20 # both 5 < 10 AND 10 < 20.... 10 is between 5, 20"
   ]
  },
  {
   "cell_type": "markdown",
   "id": "d86f811a-769c-4f2f-8dc4-8d7893ac063f",
   "metadata": {},
   "source": [
    "### Aside:"
   ]
  },
  {
   "cell_type": "code",
   "execution_count": 75,
   "id": "01a993d2-825c-44b9-b87c-a30dbea2da4e",
   "metadata": {},
   "outputs": [
    {
     "data": {
      "text/plain": [
       "True"
      ]
     },
     "execution_count": 75,
     "metadata": {},
     "output_type": "execute_result"
    }
   ],
   "source": [
    "(5 < 10) and (10 < 20)"
   ]
  },
  {
   "cell_type": "markdown",
   "id": "504e88a7-cb02-4a66-a3a2-68ccaf42e2a9",
   "metadata": {},
   "source": [
    "## Other Text Comparisons"
   ]
  },
  {
   "cell_type": "code",
   "execution_count": 76,
   "id": "9d71741a-bca8-42e5-bd41-893138d0f9ca",
   "metadata": {},
   "outputs": [
    {
     "data": {
      "text/plain": [
       "False"
      ]
     },
     "execution_count": 76,
     "metadata": {},
     "output_type": "execute_result"
    }
   ],
   "source": [
    "city.startswith(\"P\")"
   ]
  },
  {
   "cell_type": "code",
   "execution_count": 77,
   "id": "09c1b081-5ca4-443c-84f2-4b6eeb7f3d44",
   "metadata": {},
   "outputs": [
    {
     "data": {
      "text/plain": [
       "False"
      ]
     },
     "execution_count": 77,
     "metadata": {},
     "output_type": "execute_result"
    }
   ],
   "source": [
    "city.endswith(\"don\")"
   ]
  },
  {
   "cell_type": "code",
   "execution_count": 78,
   "id": "19e5781b-59a2-4a39-81dc-2e0a9e2ae33a",
   "metadata": {},
   "outputs": [
    {
     "data": {
      "text/plain": [
       "False"
      ]
     },
     "execution_count": 78,
     "metadata": {},
     "output_type": "execute_result"
    }
   ],
   "source": [
    "city.isupper()"
   ]
  },
  {
   "cell_type": "code",
   "execution_count": 79,
   "id": "aeea24c1-161b-429f-b1ca-4558ba645005",
   "metadata": {},
   "outputs": [
    {
     "data": {
      "text/plain": [
       "True"
      ]
     },
     "execution_count": 79,
     "metadata": {},
     "output_type": "execute_result"
    }
   ],
   "source": [
    "city.isalpha() # isalphabetical"
   ]
  },
  {
   "cell_type": "markdown",
   "id": "eca68251-d267-4eea-abb1-20aeb549d97e",
   "metadata": {},
   "source": [
    "## Other Comparison Operations"
   ]
  },
  {
   "cell_type": "code",
   "execution_count": 80,
   "id": "95915ca1-0e55-4e8c-9ef0-f211c03819b6",
   "metadata": {},
   "outputs": [
    {
     "data": {
      "text/plain": [
       "False"
      ]
     },
     "execution_count": 80,
     "metadata": {},
     "output_type": "execute_result"
    }
   ],
   "source": [
    "\"P\" in city"
   ]
  },
  {
   "cell_type": "code",
   "execution_count": 81,
   "id": "8b03778e-a21d-4564-9c4e-6268ee83806c",
   "metadata": {},
   "outputs": [
    {
     "data": {
      "text/plain": [
       "False"
      ]
     },
     "execution_count": 81,
     "metadata": {},
     "output_type": "execute_result"
    }
   ],
   "source": [
    "\"L\" not in city"
   ]
  },
  {
   "cell_type": "markdown",
   "id": "e5653bad-7e08-403a-bdc9-93384894f16b",
   "metadata": {},
   "source": [
    "## Combining Comparions"
   ]
  },
  {
   "cell_type": "code",
   "execution_count": 82,
   "id": "45f8da87-5465-44b0-8408-5db07c0f7d21",
   "metadata": {},
   "outputs": [
    {
     "data": {
      "text/plain": [
       "20.0"
      ]
     },
     "execution_count": 82,
     "metadata": {},
     "output_type": "execute_result"
    }
   ],
   "source": [
    "age"
   ]
  },
  {
   "cell_type": "code",
   "execution_count": 83,
   "id": "a62a1813-d8c9-4aa1-858c-e527463a9003",
   "metadata": {},
   "outputs": [
    {
     "data": {
      "text/plain": [
       "False"
      ]
     },
     "execution_count": 83,
     "metadata": {},
     "output_type": "execute_result"
    }
   ],
   "source": [
    "(\"P\" in city) and (age >= 18) # both = conjuction"
   ]
  },
  {
   "cell_type": "code",
   "execution_count": 84,
   "id": "ecb820d8-2b09-4c19-81a0-98592a8c2d77",
   "metadata": {},
   "outputs": [
    {
     "data": {
      "text/plain": [
       "True"
      ]
     },
     "execution_count": 84,
     "metadata": {},
     "output_type": "execute_result"
    }
   ],
   "source": [
    "(\"P\" in city) or (age >= 18) # either = disjunction"
   ]
  },
  {
   "cell_type": "code",
   "execution_count": 85,
   "id": "3fe03000-4883-47c4-94ab-2f237df5adda",
   "metadata": {},
   "outputs": [
    {
     "data": {
      "text/plain": [
       "False"
      ]
     },
     "execution_count": 85,
     "metadata": {},
     "output_type": "execute_result"
    }
   ],
   "source": [
    "not (age >= 18) # not = negation"
   ]
  },
  {
   "cell_type": "code",
   "execution_count": 86,
   "id": "995948dd-e78c-4b3b-ad58-8a4d6407dd7c",
   "metadata": {},
   "outputs": [
    {
     "data": {
      "text/plain": [
       "False"
      ]
     },
     "execution_count": 86,
     "metadata": {},
     "output_type": "execute_result"
    }
   ],
   "source": [
    "(age < 18) # the negation of a numerical comparison, can often be written without `not`"
   ]
  },
  {
   "cell_type": "code",
   "execution_count": null,
   "id": "d6c29b1a-747f-42f2-bb68-2101abd5dcc6",
   "metadata": {},
   "outputs": [],
   "source": []
  },
  {
   "cell_type": "markdown",
   "id": "d1b4b67a-f0f7-4a1f-bd8b-08112fda553f",
   "metadata": {},
   "source": [
    "## Decision-Making with Python Keywords"
   ]
  },
  {
   "cell_type": "code",
   "execution_count": 87,
   "id": "de65e8a4-a53f-4b94-9da1-8c047697bae6",
   "metadata": {},
   "outputs": [
    {
     "name": "stdout",
     "output_type": "stream",
     "text": [
      "we would like you to rate the film!\n"
     ]
    }
   ],
   "source": [
    "y_rating = None # None is a special value which typically means \"missing\" / \"nothing\"\n",
    "x_age = 18\n",
    "\n",
    "if x_age >= 18:\n",
    "    print(\"we would like you to rate the film!\")"
   ]
  },
  {
   "cell_type": "code",
   "execution_count": 88,
   "id": "bb972d48-4df0-4492-a80f-8bff57f8d75f",
   "metadata": {},
   "outputs": [],
   "source": [
    "if 18 <= x_age <= 35:\n",
    "    y_rating = 7\n",
    "else:\n",
    "    y_rating = 3"
   ]
  },
  {
   "cell_type": "code",
   "execution_count": 89,
   "id": "32fbd82c-8f7e-4647-94a9-fbd44e0075e6",
   "metadata": {},
   "outputs": [
    {
     "data": {
      "text/plain": [
       "7"
      ]
     },
     "execution_count": 89,
     "metadata": {},
     "output_type": "execute_result"
    }
   ],
   "source": [
    "y_rating"
   ]
  },
  {
   "cell_type": "code",
   "execution_count": 90,
   "id": "cc664e7d-be96-49d8-84e4-b6576b8caa78",
   "metadata": {},
   "outputs": [],
   "source": [
    "x_age = 40 \n",
    "\n",
    "if 18 <= x_age <= 35:\n",
    "    y_rating = 7\n",
    "elif 36 <= x_age <= 65:\n",
    "    y_rating = 6\n",
    "else:\n",
    "    y_rating = 3"
   ]
  },
  {
   "cell_type": "code",
   "execution_count": 91,
   "id": "84725888-7393-4956-abfd-0c9d7a9111ff",
   "metadata": {},
   "outputs": [
    {
     "data": {
      "text/plain": [
       "6"
      ]
     },
     "execution_count": 91,
     "metadata": {},
     "output_type": "execute_result"
    }
   ],
   "source": [
    "y_rating"
   ]
  },
  {
   "cell_type": "markdown",
   "id": "802b69f3-7da4-47e2-a400-1f666374892c",
   "metadata": {},
   "source": [
    "## Aside: Conditional Expressions"
   ]
  },
  {
   "cell_type": "markdown",
   "id": "cc942953-d8d3-42fb-87de-42f29867859d",
   "metadata": {},
   "source": [
    "An expression is a *calucation* which is identical to the value it computes. `if` can be used to *select* a value..."
   ]
  },
  {
   "cell_type": "code",
   "execution_count": 92,
   "id": "ef369d4d-4809-48dc-836a-b2fb9b48217c",
   "metadata": {},
   "outputs": [
    {
     "data": {
      "text/plain": [
       "20.0"
      ]
     },
     "execution_count": 92,
     "metadata": {},
     "output_type": "execute_result"
    }
   ],
   "source": [
    "age"
   ]
  },
  {
   "cell_type": "code",
   "execution_count": 93,
   "id": "9feec818-3e3c-43d1-8a5e-13a759ffc030",
   "metadata": {},
   "outputs": [],
   "source": [
    "location = \"London\" if age >= 18 else \"Leeds\""
   ]
  },
  {
   "cell_type": "code",
   "execution_count": 94,
   "id": "f73a1afd-234f-4106-9a47-911d5caf055c",
   "metadata": {},
   "outputs": [
    {
     "data": {
      "text/plain": [
       "'London'"
      ]
     },
     "execution_count": 94,
     "metadata": {},
     "output_type": "execute_result"
    }
   ],
   "source": [
    "location"
   ]
  },
  {
   "cell_type": "code",
   "execution_count": 95,
   "id": "244cedeb-ec07-4b13-b58b-3a96b2b7fe86",
   "metadata": {},
   "outputs": [
    {
     "data": {
      "text/plain": [
       "'LONDON'"
      ]
     },
     "execution_count": 95,
     "metadata": {},
     "output_type": "execute_result"
    }
   ],
   "source": [
    "(\"London\" if age >= 18 else \"Leeds\").upper()"
   ]
  },
  {
   "cell_type": "markdown",
   "id": "0e378632-033a-4388-afbd-83205db53faa",
   "metadata": {},
   "source": [
    "```\n",
    "choose \"London\" (if age >= 18) or \"Leeds\" (otherwise)\n",
    "```"
   ]
  },
  {
   "cell_type": "code",
   "execution_count": 96,
   "id": "ef06ae5c-be13-496b-96ab-f89663f78422",
   "metadata": {},
   "outputs": [
    {
     "data": {
      "text/plain": [
       "16"
      ]
     },
     "execution_count": 96,
     "metadata": {},
     "output_type": "execute_result"
    }
   ],
   "source": [
    "( 5 + 3 ) * 2"
   ]
  },
  {
   "cell_type": "code",
   "execution_count": 97,
   "id": "9c0a426d-180c-44f1-be05-da6cd7c14eb5",
   "metadata": {},
   "outputs": [
    {
     "data": {
      "text/plain": [
       "1024"
      ]
     },
     "execution_count": 97,
     "metadata": {},
     "output_type": "execute_result"
    }
   ],
   "source": [
    "( 2 ** 10 ) if age >= 18 else (2 ** 20 )"
   ]
  },
  {
   "cell_type": "markdown",
   "id": "42d35672-56b5-40f6-960b-03836692deed",
   "metadata": {},
   "source": [
    "## Exercise (15 min)\n",
    "\n",
    "Choose a problem domain. Eg., healthcare: advise on a diet based on user survey responses; questions, eg., how many sweets do you eat a day? etc. \n",
    "\n",
    "\n",
    "### Part 1\n",
    "\n",
    "Conduct a survey (of your design) using the `input()` function. Produce a formatted report of your user's answers. \n",
    "\n",
    "The survey should ask questions with floating-point answers and text answers. \n",
    "\n",
    "HINT: `float(input(\"Question? \"))`\n",
    "\n",
    "For formatting, have a go at using `print(f\"text... {variable}\")`\n",
    "\n",
    "\n",
    "### Part 2\n",
    "\n",
    "Considering the survey responses above, *advise* your user on the best options for some problem they are having. "
   ]
  },
  {
   "cell_type": "markdown",
   "id": "c13d5e59-1794-4b44-9f37-5e900b3e0964",
   "metadata": {},
   "source": [
    "# Sharing Code with Python\n",
    "### Functions & Libraries"
   ]
  },
  {
   "cell_type": "markdown",
   "id": "898fae3d-aa68-4d51-9db4-a1c0c85f47af",
   "metadata": {},
   "source": [
    "### How do I write code which can be shared?"
   ]
  },
  {
   "cell_type": "markdown",
   "id": "95da91d7-b9e7-4a36-ba0c-911322d62ef7",
   "metadata": {},
   "source": [
    "This code is specific (specialized) to a particular dataset,"
   ]
  },
  {
   "cell_type": "code",
   "execution_count": 98,
   "id": "6dd88365-1445-4859-89db-05640326db29",
   "metadata": {},
   "outputs": [
    {
     "data": {
      "text/plain": [
       "132.0"
      ]
     },
     "execution_count": 98,
     "metadata": {},
     "output_type": "execute_result"
    }
   ],
   "source": [
    "x_balance = 1_000\n",
    "x_age = 32\n",
    "x_postcode = \"SW1 1AA\"\n",
    "\n",
    "y_profit = x_balance * 0.1 + x_age\n",
    "y_profit"
   ]
  },
  {
   "cell_type": "markdown",
   "id": "944a9721-e214-45c3-b7ba-bfae75a2f3c0",
   "metadata": {},
   "source": [
    "We would like to share the formula above and allow anyone to reuse it, regardless of what dataset they are dealing with..."
   ]
  },
  {
   "cell_type": "code",
   "execution_count": 99,
   "id": "cc403466-b04a-449c-a8f9-f5badb89773b",
   "metadata": {},
   "outputs": [],
   "source": [
    "def profit_formula(x_balance, x_age):\n",
    "    y_profit = x_balance * 0.1 + x_age\n",
    "    \n",
    "    return y_profit"
   ]
  },
  {
   "cell_type": "markdown",
   "id": "b9e1334d-6cb9-44a4-94cf-3b64919fdafe",
   "metadata": {},
   "source": [
    "Once this is defined we can *reuse* this formula with a variety of different input arguments,"
   ]
  },
  {
   "cell_type": "code",
   "execution_count": 100,
   "id": "45c4cae1-d27d-4931-ac1c-ea961a80bb98",
   "metadata": {},
   "outputs": [
    {
     "data": {
      "text/plain": [
       "132.0"
      ]
     },
     "execution_count": 100,
     "metadata": {},
     "output_type": "execute_result"
    }
   ],
   "source": [
    "profit_formula(1_000, 32) # y_profit = 1_000 * 0.1 + 32"
   ]
  },
  {
   "cell_type": "code",
   "execution_count": 101,
   "id": "71e9e132-8710-4e3c-9d20-4333ae706aec",
   "metadata": {},
   "outputs": [
    {
     "data": {
      "text/plain": [
       "265.0"
      ]
     },
     "execution_count": 101,
     "metadata": {},
     "output_type": "execute_result"
    }
   ],
   "source": [
    "profit_formula(2_000, 65)"
   ]
  },
  {
   "cell_type": "code",
   "execution_count": 102,
   "id": "949aad50-f71b-4311-a16e-14925e5dd956",
   "metadata": {},
   "outputs": [
    {
     "data": {
      "text/plain": [
       "365.0"
      ]
     },
     "execution_count": 102,
     "metadata": {},
     "output_type": "execute_result"
    }
   ],
   "source": [
    "profit_formula(3_000, 65)"
   ]
  },
  {
   "cell_type": "markdown",
   "id": "65791b3e-b6df-43f1-9a8d-891aacbbeea6",
   "metadata": {},
   "source": [
    "### Syntax"
   ]
  },
  {
   "cell_type": "markdown",
   "id": "2393af16-2990-4a46-884e-2af8464b0b87",
   "metadata": {},
   "source": [
    "```python\n",
    "def NAME_OF_FUCTION(INPUT_ARGUMENTS, ...):\n",
    "    \n",
    "    OUTPUT = CODE \n",
    "    \n",
    "    return OUPUT\n",
    "    \n",
    "```"
   ]
  },
  {
   "cell_type": "code",
   "execution_count": 103,
   "id": "418ea66f-fd4f-45ec-b637-dabbb9540738",
   "metadata": {},
   "outputs": [],
   "source": [
    "input_1 = 1000\n",
    "input_2 = 32\n",
    "\n",
    "output = profit_formula(input_1, input_2)"
   ]
  },
  {
   "cell_type": "code",
   "execution_count": 104,
   "id": "7f868401-9a1f-48a2-a904-ae043109d9ea",
   "metadata": {},
   "outputs": [
    {
     "data": {
      "text/plain": [
       "132.0"
      ]
     },
     "execution_count": 104,
     "metadata": {},
     "output_type": "execute_result"
    }
   ],
   "source": [
    "output"
   ]
  },
  {
   "cell_type": "markdown",
   "id": "886ce600-8259-444c-9f5e-00007c0c9edd",
   "metadata": {},
   "source": [
    "A function can be understood as a rewriting sytem (copy / paste)..."
   ]
  },
  {
   "cell_type": "code",
   "execution_count": 105,
   "id": "1083423f-0360-456f-9008-5f6495102e68",
   "metadata": {},
   "outputs": [],
   "source": [
    "def calc(x, y):\n",
    "    return 2 * x + y"
   ]
  },
  {
   "cell_type": "code",
   "execution_count": 106,
   "id": "ce0b7c29-95b8-458d-a0cc-b2e0133d47e7",
   "metadata": {},
   "outputs": [
    {
     "data": {
      "text/plain": [
       "40"
      ]
     },
     "execution_count": 106,
     "metadata": {},
     "output_type": "execute_result"
    }
   ],
   "source": [
    "calc(10, 20)"
   ]
  },
  {
   "cell_type": "markdown",
   "id": "889dfa6d-8c89-4d7c-a5ba-caf077ab8ad8",
   "metadata": {},
   "source": [
    "#### Step 1:\n",
    " replace calc(10, 20)   with     2 * x + y\n",
    " \n",
    "#### Step 2:\n",
    "  replace x with 10\n",
    "  replace y with 20\n",
    "  \n",
    "#### Step 3:\n",
    " run 2 * 10 + 20"
   ]
  },
  {
   "cell_type": "code",
   "execution_count": 107,
   "id": "2a8ce8e1-1f49-464a-b6e9-7eff6df58218",
   "metadata": {},
   "outputs": [
    {
     "data": {
      "text/plain": [
       "True"
      ]
     },
     "execution_count": 107,
     "metadata": {},
     "output_type": "execute_result"
    }
   ],
   "source": [
    "calc(10, 20) == 2 * 10 + 20"
   ]
  },
  {
   "cell_type": "markdown",
   "id": "a19ef8c0-1b26-40b9-9270-e1c6bc46deed",
   "metadata": {},
   "source": [
    "A function is, on one view, just a simple means to *name* a block of reusable code so you don't have to copy/paste the formula (its code) everywhere.  "
   ]
  },
  {
   "cell_type": "markdown",
   "id": "8dceaaf0-9463-4816-a449-602d9c8ef570",
   "metadata": {},
   "source": [
    "### Other advantages of functions"
   ]
  },
  {
   "cell_type": "markdown",
   "id": "a5d3659f-84ec-4d32-8ff0-7946acda2b4a",
   "metadata": {},
   "source": [
    "* \"black-box abstraction\"\n",
    "    * you dont need to know how a function works, to use it"
   ]
  },
  {
   "cell_type": "markdown",
   "id": "ce87589c-d334-4867-86c5-03e6161b90d8",
   "metadata": {},
   "source": [
    "I can be a user of functions without knowing how they work,"
   ]
  },
  {
   "cell_type": "code",
   "execution_count": 108,
   "id": "d3584d34-1c8d-465b-bcc9-aa57284ca9d5",
   "metadata": {},
   "outputs": [
    {
     "data": {
      "text/plain": [
       "'HELLO'"
      ]
     },
     "execution_count": 108,
     "metadata": {},
     "output_type": "execute_result"
    }
   ],
   "source": [
    "\"Hello\".upper()"
   ]
  },
  {
   "cell_type": "code",
   "execution_count": 109,
   "id": "cdb4ade4-4cb1-49cf-8f09-9e15b743f70e",
   "metadata": {},
   "outputs": [
    {
     "data": {
      "text/plain": [
       "21.0"
      ]
     },
     "execution_count": 109,
     "metadata": {},
     "output_type": "execute_result"
    }
   ],
   "source": [
    "profit_formula(10, 20)"
   ]
  },
  {
   "cell_type": "markdown",
   "id": "d6c65a2d-70a6-4531-a55e-28da7d5a777d",
   "metadata": {},
   "source": [
    ", this is essential! Programming is involves 1000s of functions, at least."
   ]
  },
  {
   "cell_type": "markdown",
   "id": "68fe42cc-3716-4408-9d8f-df96762e07d1",
   "metadata": {},
   "source": [
    "* functions are easy to share, document, reuse...\n",
    "    * I can just give a person the name of a function and what inputs it needs"
   ]
  },
  {
   "cell_type": "code",
   "execution_count": 110,
   "id": "57dd0f86-8efd-478a-ab77-32e2a9d4827d",
   "metadata": {},
   "outputs": [
    {
     "data": {
      "text/plain": [
       "47"
      ]
     },
     "execution_count": 110,
     "metadata": {},
     "output_type": "execute_result"
    }
   ],
   "source": [
    "calc(20, 7)"
   ]
  },
  {
   "cell_type": "markdown",
   "id": "8ef53a04-80e2-4a9b-9525-93d01cefb136",
   "metadata": {},
   "source": [
    "### How do write code to share it?"
   ]
  },
  {
   "cell_type": "markdown",
   "id": "75cdb0b6-dd34-41c0-b620-3e29ec9182bc",
   "metadata": {},
   "source": [
    "The first step to sharing code (ie., making it reusable) is turning it into a function."
   ]
  },
  {
   "cell_type": "markdown",
   "id": "3fb8c43e-7ae0-4320-b995-392ed0afdace",
   "metadata": {},
   "source": [
    "Consider the code below, it isn't very reusable..."
   ]
  },
  {
   "cell_type": "code",
   "execution_count": 111,
   "id": "85c598f1-162a-4d2c-898f-468559b91a32",
   "metadata": {},
   "outputs": [
    {
     "name": "stdin",
     "output_type": "stream",
     "text": [
      "What's your HR? 120\n",
      "What's your BP? 120\n",
      "How many hours did you sleep? 2\n"
     ]
    },
    {
     "name": "stdout",
     "output_type": "stream",
     "text": [
      "Your HR is 120.0\n",
      "Your BP is 120.0\n",
      "Your Sleep was 2.0\n",
      "\n",
      "Your health quality was calc'd to be -0.48\n"
     ]
    }
   ],
   "source": [
    "hr = float(input(\"What's your HR?\"))\n",
    "bp = float(input(\"What's your BP?\"))\n",
    "sleep = float(input(\"How many hours did you sleep?\"))\n",
    "\n",
    "quality = round( (sleep/12 - hr/120 - bp/200)/3 , 2)\n",
    "\n",
    "print(\"Your HR is\", hr)\n",
    "print(\"Your BP is\", bp)\n",
    "print(\"Your Sleep was\", sleep)\n",
    "print()\n",
    "print(\"Your health quality was calc'd to be\", quality)"
   ]
  },
  {
   "cell_type": "code",
   "execution_count": 112,
   "id": "95f5fe6c-52b9-4866-877a-725c7bc226e2",
   "metadata": {},
   "outputs": [
    {
     "name": "stdin",
     "output_type": "stream",
     "text": [
      "What's your HR? 180\n",
      "What's your BP? 20\n",
      "How many hours did you sleep? 2\n"
     ]
    },
    {
     "name": "stdout",
     "output_type": "stream",
     "text": [
      "Your HR is 180.0\n",
      "Your BP is 20.0\n",
      "Your Sleep was 2.0\n",
      "\n",
      "Your health quality was calc'd to be -0.48\n"
     ]
    }
   ],
   "source": [
    "# ASK USER FOR THEIR DATA\n",
    "hr = float(input(\"What's your HR?\"))\n",
    "bp = float(input(\"What's your BP?\"))\n",
    "sleep = float(input(\"How many hours did you sleep?\"))\n",
    "\n",
    "# COMPUTE A QUALITY\n",
    "quality = round( (sleep/12 - hr/120 - bp/200)/3 , 2)\n",
    "\n",
    "# REPORT ON USER & QUALITY\n",
    "print(\"Your HR is\", hr)\n",
    "print(\"Your BP is\", bp)\n",
    "print(\"Your Sleep was\", sleep)\n",
    "print()\n",
    "print(\"Your health quality was calc'd to be\", quality)"
   ]
  },
  {
   "cell_type": "code",
   "execution_count": 113,
   "id": "625299d7-3396-43cd-8f35-ef336dcc3497",
   "metadata": {},
   "outputs": [],
   "source": [
    "def health_ask():\n",
    "    hr = float(input(\"What's your HR?\"))\n",
    "    bp = float(input(\"What's your BP?\"))\n",
    "    sleep = float(input(\"How many hours did you sleep?\"))\n",
    "\n",
    "def health_quality():\n",
    "    quality = round( (sleep/12 - hr/120 - bp/200)/3 , 2)\n",
    "\n",
    "def health_report():\n",
    "    print(\"Your HR is\", hr)\n",
    "    print(\"Your BP is\", bp)\n",
    "    print(\"Your Sleep was\", sleep)\n",
    "    print()\n",
    "    print(\"Your health quality was calc'd to be\", quality)"
   ]
  },
  {
   "cell_type": "markdown",
   "id": "8eaadbf8-4a36-4a5e-8afd-7e6d2ee35e58",
   "metadata": {},
   "source": [
    "Above we have partitioned the code into three functions (abitary, could be more or fewer, eg., one each for each question).\n",
    "\n",
    "The problem at this point is that the variables defined within the functions are part of their \"defintion\", they are *local* to those functions. They are not output'd.\n",
    "\n",
    "(Aproximately, ) the only way of getting data into a function is using the arguments, and out of a function, using `return`. "
   ]
  },
  {
   "cell_type": "code",
   "execution_count": 114,
   "id": "5a6a0262-f5cd-4962-b63c-fc60f47786cf",
   "metadata": {},
   "outputs": [],
   "source": [
    "def health_ask():\n",
    "    return {\n",
    "        'HR'    :   float(input(\"What's your HR?\")),\n",
    "        'BP'    :   float(input(\"What's your BP?\")),\n",
    "        'Sleep' :   float(input(\"How many hours did you sleep?\")),\n",
    "    }\n",
    "\n",
    "def health_quality(sleep, hr, bp):\n",
    "    return round( (sleep/12 - hr/120 - bp/200)/3 , 2)\n",
    "\n",
    "def health_report(sleep, hr, bp, quality):\n",
    "    print(\"Your HR is\", hr)\n",
    "    print(\"Your BP is\", bp)\n",
    "    print(\"Your Sleep was\", sleep)\n",
    "    print()\n",
    "    print(\"Your health quality was calc'd to be\", quality)"
   ]
  },
  {
   "cell_type": "markdown",
   "id": "106394c1-637f-4387-8b5a-bcfc2f2764da",
   "metadata": {},
   "source": [
    "Above we have *defined* three \"receipes\" (algorithms, formula, functions...); we have yet to **RUN** them."
   ]
  },
  {
   "cell_type": "code",
   "execution_count": 115,
   "id": "73dbb9c9-35b3-43f4-ad4d-c34ecbeafb52",
   "metadata": {},
   "outputs": [
    {
     "name": "stdin",
     "output_type": "stream",
     "text": [
      "What's your HR? 4\n",
      "What's your BP? 4\n",
      "How many hours did you sleep? 4\n"
     ]
    }
   ],
   "source": [
    "data = health_ask() # save the return'd output"
   ]
  },
  {
   "cell_type": "markdown",
   "id": "871a0684-9109-4361-8e8e-e6952736de74",
   "metadata": {},
   "source": [
    "`data` is the *saved* dictionary which is computed by `health_ask()`, which we RUN previously."
   ]
  },
  {
   "cell_type": "code",
   "execution_count": 116,
   "id": "a97b23d8-9e07-4990-97a8-5dd9fb66bd0f",
   "metadata": {},
   "outputs": [
    {
     "data": {
      "text/plain": [
       "{'HR': 4.0, 'BP': 4.0, 'Sleep': 4.0}"
      ]
     },
     "execution_count": 116,
     "metadata": {},
     "output_type": "execute_result"
    }
   ],
   "source": [
    "data"
   ]
  },
  {
   "cell_type": "markdown",
   "id": "2b953cc7-3156-4ca8-9a57-935d1ee0a113",
   "metadata": {},
   "source": [
    "We now run `health_quaity` using `data` as its input, and *save* the output (`return`'d value) in `result`, "
   ]
  },
  {
   "cell_type": "code",
   "execution_count": 117,
   "id": "a75abfea-7c9e-4276-a5f5-3d74c5dc3201",
   "metadata": {},
   "outputs": [],
   "source": [
    "result = health_quality(data['Sleep'], data['HR'], data['BP'])"
   ]
  },
  {
   "cell_type": "markdown",
   "id": "869617c5-b2fd-482d-b124-3d8aa253bada",
   "metadata": {},
   "source": [
    "Finally we use `health_report` to display all these values."
   ]
  },
  {
   "cell_type": "code",
   "execution_count": 118,
   "id": "bf3cf67a-0f6f-46e3-aff2-5cb14d3060f7",
   "metadata": {},
   "outputs": [
    {
     "name": "stdout",
     "output_type": "stream",
     "text": [
      "Your HR is 4.0\n",
      "Your BP is 4.0\n",
      "Your Sleep was 4.0\n",
      "\n",
      "Your health quality was calc'd to be 0.09\n"
     ]
    }
   ],
   "source": [
    "health_report(data['Sleep'], data['HR'], data['BP'], result)"
   ]
  },
  {
   "cell_type": "markdown",
   "id": "3022c655-ca5e-4300-aa27-100f0b655e7b",
   "metadata": {},
   "source": [
    "---"
   ]
  },
  {
   "cell_type": "markdown",
   "id": "7dc78efc-5003-4bcc-8d0e-7a770d2e58f9",
   "metadata": {},
   "source": [
    "In one go, **using pre-defined functions**"
   ]
  },
  {
   "cell_type": "code",
   "execution_count": 119,
   "id": "853ab966-4001-4ae4-aa7b-461ca79e939a",
   "metadata": {},
   "outputs": [
    {
     "name": "stdin",
     "output_type": "stream",
     "text": [
      "What's your HR? 4\n",
      "What's your BP? 4\n",
      "How many hours did you sleep? 4\n"
     ]
    },
    {
     "name": "stdout",
     "output_type": "stream",
     "text": [
      "Your HR is 4.0\n",
      "Your BP is 4.0\n",
      "Your Sleep was 4.0\n",
      "\n",
      "Your health quality was calc'd to be 0.09\n"
     ]
    }
   ],
   "source": [
    "data   = health_ask()\n",
    "result = health_quality(data['Sleep'], data['HR'], data['BP'])\n",
    "\n",
    "health_report(data['Sleep'], data['HR'], data['BP'], result)"
   ]
  },
  {
   "cell_type": "markdown",
   "id": "e38261fe-717e-41b4-a1ae-08ad8b13b994",
   "metadata": {},
   "source": [
    "Compare this with the original, using **no functions**,"
   ]
  },
  {
   "cell_type": "code",
   "execution_count": 120,
   "id": "8c57f7a4-f038-454b-a525-1caac5ecc4c0",
   "metadata": {},
   "outputs": [
    {
     "name": "stdin",
     "output_type": "stream",
     "text": [
      "What's your HR? 4\n",
      "What's your BP? 4\n",
      "How many hours did you sleep? 4\n"
     ]
    },
    {
     "name": "stdout",
     "output_type": "stream",
     "text": [
      "Your HR is 4.0\n",
      "Your BP is 4.0\n",
      "Your Sleep was 4.0\n",
      "\n",
      "Your health quality was calc'd to be 0.09\n"
     ]
    }
   ],
   "source": [
    "hr = float(input(\"What's your HR?\"))\n",
    "bp = float(input(\"What's your BP?\"))\n",
    "sleep = float(input(\"How many hours did you sleep?\"))\n",
    "\n",
    "quality = round( (sleep/12 - hr/120 - bp/200)/3 , 2)\n",
    "\n",
    "print(\"Your HR is\", hr)\n",
    "print(\"Your BP is\", bp)\n",
    "print(\"Your Sleep was\", sleep)\n",
    "print()\n",
    "print(\"Your health quality was calc'd to be\", quality)"
   ]
  },
  {
   "cell_type": "markdown",
   "id": "99a58bd7-6608-453f-9dd7-40d899951c09",
   "metadata": {},
   "source": [
    "## Why use functions for data analysis?"
   ]
  },
  {
   "cell_type": "markdown",
   "id": "0ac8e6a3-25d1-4f9c-a8b3-dec89c074b23",
   "metadata": {},
   "source": [
    "Mostly, the functions will be written by a *senior* team member (or in another team), and the junior/mid-level analyst will be a *client*.\n",
    "\n",
    "It is their job simply to learn the vocabulary defined by the software staff, and to learn how these \"functions\" (words, operations) fit together.\n",
    "\n",
    "This can be much simpler than learning python."
   ]
  },
  {
   "cell_type": "markdown",
   "id": "d9930310-6543-4a69-9f10-d7d0db1b6dd3",
   "metadata": {},
   "source": [
    "## How do I share functions?"
   ]
  },
  {
   "cell_type": "markdown",
   "id": "ec9071b4-7995-490b-b38d-3ebb725a7864",
   "metadata": {},
   "source": [
    "In jupyter, browse to the right folder (with your notebook), NEW **text file**. Rename so it ends with `.py`.\n",
    "\n",
    "Cut/paste the function into this file, and input **just the name** (ie., not `.py`). "
   ]
  },
  {
   "cell_type": "code",
   "execution_count": 121,
   "id": "48d29c38-1421-4a5d-a333-ff1ada7c90d3",
   "metadata": {},
   "outputs": [],
   "source": [
    "import shared"
   ]
  },
  {
   "cell_type": "code",
   "execution_count": 122,
   "id": "690a27a1-2e64-4721-81df-dd8e619bdcb2",
   "metadata": {},
   "outputs": [
    {
     "data": {
      "text/plain": [
       "40"
      ]
     },
     "execution_count": 122,
     "metadata": {},
     "output_type": "execute_result"
    }
   ],
   "source": [
    "shared.calc(10, 20) # from shared.py"
   ]
  },
  {
   "cell_type": "code",
   "execution_count": 123,
   "id": "cae32fe5-5e25-467f-83c1-d4ea195d2dfb",
   "metadata": {},
   "outputs": [
    {
     "data": {
      "text/plain": [
       "40"
      ]
     },
     "execution_count": 123,
     "metadata": {},
     "output_type": "execute_result"
    }
   ],
   "source": [
    "calc(10, 20) # from the notebook"
   ]
  },
  {
   "cell_type": "markdown",
   "id": "5cf2b72c-1403-487a-98ea-838d9b27c0b1",
   "metadata": {},
   "source": [
    "In practice you shouldnt have functions in both the **module** (file) and the notebook. Whilst sketching you can, but then you share the module only."
   ]
  },
  {
   "cell_type": "code",
   "execution_count": 124,
   "id": "7a8976e6-4bdf-4f19-ab84-45b26514e7c1",
   "metadata": {},
   "outputs": [
    {
     "data": {
      "text/plain": [
       "10"
      ]
     },
     "execution_count": 124,
     "metadata": {},
     "output_type": "execute_result"
    }
   ],
   "source": [
    "shared.X_DEFAULT"
   ]
  },
  {
   "cell_type": "markdown",
   "id": "e7a545e3-a2a8-4a9c-b3f8-14a762a0047f",
   "metadata": {},
   "source": [
    "## What are modules?\n"
   ]
  },
  {
   "cell_type": "markdown",
   "id": "8a6303d5-26a8-407b-9d01-6c3a7af3c0d0",
   "metadata": {},
   "source": [
    "Modules are plain text files that end with `.py` and contain python code. You can `import` these files which *runs* them, and any terms which are defined within, can be used as `module.term`.\n",
    "\n",
    "Eg., consider a file called `shared.py`,\n",
    "\n",
    "```python\n",
    "X_DEFAULT = 10\n",
    "Y_DEAFULT = 20\n",
    "\n",
    "def calc(x, y):\n",
    "    return 2 * x + y\n",
    "```\n",
    "\n",
    "If I write, `import shared`, then I can also write,\n",
    "\n",
    "```python\n",
    "print(shared.X_DEFAULT))\n",
    "print(shared.calc(5, 10))\n",
    "```"
   ]
  },
  {
   "cell_type": "markdown",
   "id": "496b346e-9527-4598-b2c7-be08c83f2775",
   "metadata": {},
   "source": [
    "## Review"
   ]
  },
  {
   "cell_type": "markdown",
   "id": "a4fda9f6-7de7-43ba-a52d-37df57d9ae31",
   "metadata": {},
   "source": [
    "Suppose I want to share a `crimes` prediction formula which predicts the number of crimes in an area..\n",
    "\n",
    "What should I call it?\n",
    "\n",
    "`def crimes(  ....   ):`\n",
    "\n",
    "What does this formula need as input?\n",
    "\n",
    "`def crimes(population, police, wealth):`\n",
    "\n",
    "What do I need to compute?\n",
    "\n",
    "```\n",
    "    wealth_per_person = wealth/population\n",
    "    police_per_person = police/population\n",
    "    baseline_crime = 1000/population\n",
    "    \n",
    "\n",
    "    prediction = baseline_crime - wealth_per_person - police_per_person\n",
    "```\n",
    "\n",
    "What's the output? Let's `return`,\n",
    "\n",
    "```\n",
    "    \n",
    "    return prediction\n",
    "    \n",
    "    \n",
    "```"
   ]
  },
  {
   "cell_type": "markdown",
   "id": "6a6c3959-a5e4-447f-8f63-a02d7a184bc7",
   "metadata": {},
   "source": [
    "So I write,"
   ]
  },
  {
   "cell_type": "code",
   "execution_count": 128,
   "id": "e0e3df33-dfd2-4bd1-a4b3-9ea15e8b2d37",
   "metadata": {},
   "outputs": [],
   "source": [
    "def crimes(population, police, wealth):\n",
    "    wealth_per_person = wealth/population\n",
    "    police_per_person = police/population\n",
    "    baseline_crime = 100_000/population\n",
    "    \n",
    "    prediction = baseline_crime - wealth_per_person - police_per_person\n",
    "    \n",
    "    return prediction"
   ]
  },
  {
   "cell_type": "markdown",
   "id": "8b96dc0d-0c56-49d4-befa-b038fe261885",
   "metadata": {},
   "source": [
    "This *defines* it (putting it in a book recepies, ) -- to *RUN* the algorithm, I use the name followed by a comma-separated sequences of its inputs..."
   ]
  },
  {
   "cell_type": "code",
   "execution_count": 126,
   "id": "ca5bd358-427e-4076-83fd-ee6833eee24b",
   "metadata": {
    "scrolled": true
   },
   "outputs": [
    {
     "data": {
      "text/plain": [
       "6.4975"
      ]
     },
     "execution_count": 126,
     "metadata": {},
     "output_type": "execute_result"
    }
   ],
   "source": [
    "crimes(10_000, 25, 35_000)"
   ]
  },
  {
   "cell_type": "markdown",
   "id": "6504ea95-de3c-4bec-98cf-0dd9a0cacae0",
   "metadata": {},
   "source": [
    "Now let me pull this code out and *share* it. \n",
    "\n",
    "1. Create a blank text file with a useful name\n",
    "2. Import the file \n",
    "3. Use the module name (ie., file name) followed by .crimes"
   ]
  },
  {
   "cell_type": "code",
   "execution_count": 129,
   "id": "42e723ef-3ccb-451e-9fb3-8df1d744e9dd",
   "metadata": {},
   "outputs": [],
   "source": [
    "import crimestats"
   ]
  },
  {
   "cell_type": "code",
   "execution_count": 130,
   "id": "568f1ff8-b7ef-40db-8620-e79bb077bf2d",
   "metadata": {},
   "outputs": [
    {
     "data": {
      "text/plain": [
       "3.986666666666667"
      ]
     },
     "execution_count": 130,
     "metadata": {},
     "output_type": "execute_result"
    }
   ],
   "source": [
    "crimestats.crimes(15_000, 200, 40_000)"
   ]
  },
  {
   "cell_type": "markdown",
   "id": "e1c9a21e-4f20-49d0-b69f-ab4f6579718d",
   "metadata": {},
   "source": [
    "## Exercise (30 min)"
   ]
  },
  {
   "cell_type": "markdown",
   "id": "5ea6e8ff-2f45-408c-9754-50e5c0a9afc9",
   "metadata": {},
   "source": [
    "Let's predict some film ratings; and let's output a report."
   ]
  },
  {
   "cell_type": "code",
   "execution_count": 131,
   "id": "59e23f01-075a-42b2-a115-e35f82661b21",
   "metadata": {},
   "outputs": [],
   "source": [
    "def predict_like_sandler(age, food_cost):\n",
    "    if age > 18:\n",
    "        return 'NO'\n",
    "    elif food_cost > 10:\n",
    "        return 'YES'\n",
    "    else:\n",
    "        return 'NO'"
   ]
  },
  {
   "cell_type": "code",
   "execution_count": 132,
   "id": "01920be9-183e-4268-a855-0ea4f903df5d",
   "metadata": {},
   "outputs": [
    {
     "data": {
      "text/plain": [
       "'YES'"
      ]
     },
     "execution_count": 132,
     "metadata": {},
     "output_type": "execute_result"
    }
   ],
   "source": [
    "predict_like_sandler(10, 15)"
   ]
  },
  {
   "cell_type": "code",
   "execution_count": 133,
   "id": "8b14038c-7d2c-4991-9e79-a6fe41cf6979",
   "metadata": {},
   "outputs": [],
   "source": [
    "def film_report(name, age, food_cost):\n",
    "    like = predict_like_sandler(age, food_cost)\n",
    "    \n",
    "    print(name, 'likes this film:', like)"
   ]
  },
  {
   "cell_type": "code",
   "execution_count": 134,
   "id": "5e10bafe-c177-4938-b23a-64c65268e76f",
   "metadata": {},
   "outputs": [
    {
     "name": "stdout",
     "output_type": "stream",
     "text": [
      "Michael likes this film: NO\n"
     ]
    }
   ],
   "source": [
    "film_report('Michael', 32, 10)"
   ]
  },
  {
   "cell_type": "markdown",
   "id": "74593643-0277-4b78-9423-02ed1d1af2d2",
   "metadata": {},
   "source": [
    "### Questions"
   ]
  },
  {
   "cell_type": "markdown",
   "id": "3d08f188-b716-4e3a-bcd5-e42707b4db3a",
   "metadata": {},
   "source": [
    "* Modify the definition of `predict_like_sandler` add another argument, `run_time`\n",
    "    * HINT: add an extra argument at the end of def\n",
    "        * `def .. (..., extra):`\n",
    "* Modify the middle condition so that the food costs stays high, but also require the run_time to be low\n",
    "    * HINT: (food_cost > 10) and ( .... )\n",
    "* Modify `film_report` to accept a `run_time`\n",
    "    * HINT: just like your modification to `predict_like_sandler`\n",
    "    * HINT: it should just pass it to `predict_like_sandler(..., extra)`\n",
    "    * HINT: maybe you want to print the run time too...\n",
    "        * ie., `print()` the run_time in the report"
   ]
  },
  {
   "cell_type": "markdown",
   "id": "8d5e101d-e3e5-4ab2-bed3-bc82fb7a1141",
   "metadata": {},
   "source": [
    "### EXTRA\n",
    "* Extract these functions it their own module & import"
   ]
  },
  {
   "cell_type": "code",
   "execution_count": null,
   "id": "0c6dd363-6e1b-4e1f-a1d3-060439aa7481",
   "metadata": {},
   "outputs": [],
   "source": []
  },
  {
   "cell_type": "code",
   "execution_count": null,
   "id": "00ff2b5c-7b60-40ba-858d-5d301cbd5ae9",
   "metadata": {},
   "outputs": [],
   "source": []
  }
 ],
 "metadata": {
  "kernelspec": {
   "display_name": "Python 3 (ipykernel)",
   "language": "python",
   "name": "python3"
  },
  "language_info": {
   "codemirror_mode": {
    "name": "ipython",
    "version": 3
   },
   "file_extension": ".py",
   "mimetype": "text/x-python",
   "name": "python",
   "nbconvert_exporter": "python",
   "pygments_lexer": "ipython3",
   "version": "3.8.12"
  }
 },
 "nbformat": 4,
 "nbformat_minor": 5
}
